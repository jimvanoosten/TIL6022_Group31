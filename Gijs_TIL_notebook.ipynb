{
 "cells": [
  {
   "cell_type": "code",
   "execution_count": 82,
   "metadata": {},
   "outputs": [],
   "source": [
    "import pandas as pd\n",
    "import matplotlib.pyplot as plt\n",
    "import seaborn as sns\n",
    "import plotly\n",
    "import plotly.express as px\n",
    "import plotly.graph_objects as go\n",
    "from pycountry import countries\n",
    "import numpy as np\n",
    "from plotly.subplots import make_subplots\n",
    "import statsmodels.api as sm\n",
    "import pingouin as pg\n"
   ]
  },
  {
   "cell_type": "code",
   "execution_count": 90,
   "metadata": {},
   "outputs": [],
   "source": [
    "# Emissions data is CO2 emissions, traffic the total passengers, Tourism the Nights spent at tourist accommodation establishments, \n",
    "# and aviation the total freight and mail on board exported monthly\n",
    "\n",
    "emissions = pd.read_csv('Datasets/emissions.csv')\n",
    "traffic = pd.read_csv('Datasets/traffic.csv')\n",
    "tourism = pd.read_csv('Datasets/tourism.csv')\n",
    "supply = pd.read_csv('Datasets/aviation_freight.csv')"
   ]
  },
  {
   "cell_type": "markdown",
   "metadata": {},
   "source": [
    "### Schiphol, The Netherlands"
   ]
  },
  {
   "cell_type": "code",
   "execution_count": 91,
   "metadata": {},
   "outputs": [],
   "source": [
    "traffic_NL = traffic[\n",
    "    (traffic['rep_airp'] == 'NL_EHAM') &\n",
    "    (traffic['unit'] == 'NR') &\n",
    "    (traffic['TIME_PERIOD'] >= '2019-02')                   \n",
    "]\n",
    "\n",
    "emissions_NL = emissions[\n",
    "    (emissions['geo'] == 'NL_CAP') &\n",
    "    (emissions['TIME_PERIOD'] >= '2019-02')\n",
    "]\n",
    "\n",
    "tourism_NL = tourism[\n",
    "    (tourism['geo'] == 'NL') &\n",
    "    (tourism['unit'] == 'NR') &\n",
    "    (tourism['nace_r2'] == 'I551-I553') &\n",
    "    (tourism['c_resid'] == 'TOTAL') &\n",
    "    (tourism['TIME_PERIOD'] >= '2019-02')\n",
    "]\n",
    "\n",
    "supply_NL = supply[\n",
    "    (supply['geo'] == 'NL') &\n",
    "    (supply['tra_meas'] == 'FRM_BRD') & \n",
    "    (supply['TIME_PERIOD'] >= '2019-02')\n",
    "]"
   ]
  },
  {
   "cell_type": "code",
   "execution_count": 92,
   "metadata": {},
   "outputs": [
    {
     "data": {
      "application/vnd.plotly.v1+json": {
       "config": {
        "plotlyServerURL": "https://plot.ly"
       },
       "data": [
        {
         "line": {
          "color": "blue"
         },
         "name": "Air passenger",
         "type": "scatter",
         "x": [
          "2019-02",
          "2019-03",
          "2019-04",
          "2019-05",
          "2019-06",
          "2019-07",
          "2019-08",
          "2019-09",
          "2019-10",
          "2019-11",
          "2019-12",
          "2020-01",
          "2020-02",
          "2020-03",
          "2020-04",
          "2020-05",
          "2020-06",
          "2020-07",
          "2020-08",
          "2020-09",
          "2020-10",
          "2020-11",
          "2020-12",
          "2021-01",
          "2021-02",
          "2021-03",
          "2021-04",
          "2021-05",
          "2021-06",
          "2021-07",
          "2021-08",
          "2021-09",
          "2021-10",
          "2021-11",
          "2021-12",
          "2022-01",
          "2022-02",
          "2022-03",
          "2022-04",
          "2022-05",
          "2022-06",
          "2022-07",
          "2022-08",
          "2022-09",
          "2022-10",
          "2022-11",
          "2022-12",
          "2023-01",
          "2023-02",
          "2023-03",
          "2023-04",
          "2023-05",
          "2023-06",
          "2023-07",
          "2023-08"
         ],
         "xaxis": "x",
         "y": [
          35666,
          40270,
          42433,
          45432,
          44148,
          45425,
          45756,
          44824,
          45121,
          38339,
          38954,
          38039,
          35484,
          25425,
          4440,
          6122,
          8551,
          16473,
          23792,
          22725,
          20002,
          15102,
          15207,
          14909,
          10860,
          12588,
          14184,
          16295,
          20047,
          30097,
          32653,
          31285,
          32534,
          29268,
          30964,
          26817,
          24824,
          31257,
          34545,
          39586,
          38348,
          37486,
          38711,
          38409,
          37365,
          31169,
          31446,
          30635,
          29018,
          34110,
          37217,
          40718,
          40065,
          42054,
          42441
         ],
         "yaxis": "y2"
        },
        {
         "line": {
          "color": "green"
         },
         "name": "Emissions (NO_2)",
         "type": "scatter",
         "x": [
          "2019-02",
          "2019-03",
          "2019-04",
          "2019-05",
          "2019-06",
          "2019-07",
          "2019-08",
          "2019-09",
          "2019-10",
          "2019-11",
          "2019-12",
          "2020-01",
          "2020-02",
          "2020-03",
          "2020-04",
          "2020-05",
          "2020-06",
          "2020-07",
          "2020-08",
          "2020-09",
          "2020-10",
          "2020-11",
          "2020-12",
          "2021-01",
          "2021-02",
          "2021-03",
          "2021-04",
          "2021-05",
          "2021-06",
          "2021-07",
          "2021-08",
          "2021-09",
          "2021-10",
          "2021-11",
          "2021-12",
          "2022-01",
          "2022-02",
          "2022-03",
          "2022-04",
          "2022-05",
          "2022-06",
          "2022-07",
          "2022-08",
          "2022-09",
          "2022-10",
          "2022-11",
          "2022-12",
          "2023-01",
          "2023-02",
          "2023-03",
          "2023-04",
          "2023-05",
          "2023-06",
          "2023-07",
          "2023-08"
         ],
         "xaxis": "x",
         "y": [
          45.6,
          27.3,
          25.6,
          22,
          23.7,
          22.3,
          24.7,
          25.6,
          27.8,
          35.2,
          33.1,
          32.1,
          21.8,
          20.5,
          19.8,
          16.8,
          18.6,
          16.7,
          20.6,
          26.1,
          22.7,
          29.4,
          29,
          25.9,
          26.9,
          25.4,
          18.7,
          17.1,
          18,
          16.6,
          17.1,
          23.5,
          25.6,
          32,
          29.5,
          26.9,
          19.4,
          27.7,
          18.4,
          20.1,
          17.2,
          16.2,
          16.8,
          24.3,
          26.6,
          24.8,
          29.6,
          20.1,
          28.4,
          20.6,
          15.8,
          16.4,
          15.2,
          14.2,
          15.6
         ],
         "yaxis": "y"
        },
        {
         "line": {
          "color": "blue"
         },
         "showlegend": false,
         "type": "scatter",
         "x": [
          "2019-02",
          "2019-03",
          "2019-04",
          "2019-05",
          "2019-06",
          "2019-07",
          "2019-08",
          "2019-09",
          "2019-10",
          "2019-11",
          "2019-12",
          "2020-01",
          "2020-02",
          "2020-03",
          "2020-04",
          "2020-05",
          "2020-06",
          "2020-07",
          "2020-08",
          "2020-09",
          "2020-10",
          "2020-11",
          "2020-12",
          "2021-01",
          "2021-02",
          "2021-03",
          "2021-04",
          "2021-05",
          "2021-06",
          "2021-07",
          "2021-08",
          "2021-09",
          "2021-10",
          "2021-11",
          "2021-12",
          "2022-01",
          "2022-02",
          "2022-03",
          "2022-04",
          "2022-05",
          "2022-06",
          "2022-07",
          "2022-08",
          "2022-09",
          "2022-10",
          "2022-11",
          "2022-12",
          "2023-01",
          "2023-02",
          "2023-03",
          "2023-04",
          "2023-05",
          "2023-06",
          "2023-07",
          "2023-08"
         ],
         "xaxis": "x2",
         "y": [
          35666,
          40270,
          42433,
          45432,
          44148,
          45425,
          45756,
          44824,
          45121,
          38339,
          38954,
          38039,
          35484,
          25425,
          4440,
          6122,
          8551,
          16473,
          23792,
          22725,
          20002,
          15102,
          15207,
          14909,
          10860,
          12588,
          14184,
          16295,
          20047,
          30097,
          32653,
          31285,
          32534,
          29268,
          30964,
          26817,
          24824,
          31257,
          34545,
          39586,
          38348,
          37486,
          38711,
          38409,
          37365,
          31169,
          31446,
          30635,
          29018,
          34110,
          37217,
          40718,
          40065,
          42054,
          42441
         ],
         "yaxis": "y4"
        },
        {
         "line": {
          "color": "red"
         },
         "name": "Tourism",
         "type": "scatter",
         "x": [
          "2019-02",
          "2019-03",
          "2019-04",
          "2019-05",
          "2019-06",
          "2019-07",
          "2019-08",
          "2019-09",
          "2019-10",
          "2019-11",
          "2019-12",
          "2020-01",
          "2020-02",
          "2020-03",
          "2020-04",
          "2020-05",
          "2020-06",
          "2020-07",
          "2020-08",
          "2020-09",
          "2020-10",
          "2020-11",
          "2020-12",
          "2021-01",
          "2021-02",
          "2021-03",
          "2021-04",
          "2021-05",
          "2021-06",
          "2021-07",
          "2021-08",
          "2021-09",
          "2021-10",
          "2021-11",
          "2021-12",
          "2022-01",
          "2022-02",
          "2022-03",
          "2022-04",
          "2022-05",
          "2022-06",
          "2022-07",
          "2022-08",
          "2022-09",
          "2022-10",
          "2022-11",
          "2022-12",
          "2023-01",
          "2023-02",
          "2023-03",
          "2023-04",
          "2023-05",
          "2023-06",
          "2023-07"
         ],
         "xaxis": "x2",
         "y": [
          5464330,
          7248487,
          11176612,
          10538800,
          13754308,
          15622355,
          18982879,
          11298049,
          10422073,
          6974941,
          6463173,
          5914252,
          6332105,
          3486566,
          1179493,
          2752240,
          7444875,
          16067654,
          19112199,
          10407777,
          6545474,
          3094064,
          3078112,
          2178535,
          3233594,
          3069986,
          5032897,
          10183653,
          10192261,
          15685224,
          19377237,
          11505234,
          10493710,
          6380922,
          3760983,
          3363130,
          4692580,
          6927349,
          11348630,
          13059642,
          13208881,
          17700960,
          20033410,
          12564966,
          11916119,
          7340020,
          6632916,
          6383828,
          6138043,
          7815939,
          12369728,
          14954391,
          14371371,
          18818402
         ],
         "yaxis": "y3"
        },
        {
         "line": {
          "color": "blue"
         },
         "showlegend": false,
         "type": "scatter",
         "x": [
          "2019-02",
          "2019-03",
          "2019-04",
          "2019-05",
          "2019-06",
          "2019-07",
          "2019-08",
          "2019-09",
          "2019-10",
          "2019-11",
          "2019-12",
          "2020-01",
          "2020-02",
          "2020-03",
          "2020-04",
          "2020-05",
          "2020-06",
          "2020-07",
          "2020-08",
          "2020-09",
          "2020-10",
          "2020-11",
          "2020-12",
          "2021-01",
          "2021-02",
          "2021-03",
          "2021-04",
          "2021-05",
          "2021-06",
          "2021-07",
          "2021-08",
          "2021-09",
          "2021-10",
          "2021-11",
          "2021-12",
          "2022-01",
          "2022-02",
          "2022-03",
          "2022-04",
          "2022-05",
          "2022-06",
          "2022-07",
          "2022-08",
          "2022-09",
          "2022-10",
          "2022-11",
          "2022-12",
          "2023-01",
          "2023-02",
          "2023-03",
          "2023-04",
          "2023-05",
          "2023-06",
          "2023-07",
          "2023-08"
         ],
         "xaxis": "x3",
         "y": [
          35666,
          40270,
          42433,
          45432,
          44148,
          45425,
          45756,
          44824,
          45121,
          38339,
          38954,
          38039,
          35484,
          25425,
          4440,
          6122,
          8551,
          16473,
          23792,
          22725,
          20002,
          15102,
          15207,
          14909,
          10860,
          12588,
          14184,
          16295,
          20047,
          30097,
          32653,
          31285,
          32534,
          29268,
          30964,
          26817,
          24824,
          31257,
          34545,
          39586,
          38348,
          37486,
          38711,
          38409,
          37365,
          31169,
          31446,
          30635,
          29018,
          34110,
          37217,
          40718,
          40065,
          42054,
          42441
         ],
         "yaxis": "y6"
        },
        {
         "line": {
          "color": "black"
         },
         "name": "Freight NL",
         "type": "scatter",
         "x": [
          "2019-02",
          "2019-03",
          "2019-04",
          "2019-05",
          "2019-06",
          "2019-07",
          "2019-08",
          "2019-09",
          "2019-10",
          "2019-11",
          "2019-12",
          "2020-01",
          "2020-02",
          "2020-03",
          "2020-04",
          "2020-05",
          "2020-06",
          "2020-07",
          "2020-08",
          "2020-09",
          "2020-10",
          "2020-11",
          "2020-12",
          "2021-01",
          "2021-02",
          "2021-03",
          "2021-04",
          "2021-05",
          "2021-06",
          "2021-07",
          "2021-08",
          "2021-09",
          "2021-10",
          "2021-11",
          "2021-12",
          "2022-01",
          "2022-02",
          "2022-03",
          "2022-04",
          "2022-05",
          "2022-06",
          "2022-07",
          "2022-08",
          "2022-09",
          "2022-10",
          "2022-11",
          "2022-12",
          "2023-01",
          "2023-02",
          "2023-03",
          "2023-04",
          "2023-05",
          "2023-06",
          "2023-07"
         ],
         "xaxis": "x3",
         "y": [
          129720.9,
          157188.2,
          139905.9,
          146399.9,
          133705.2,
          139266.6,
          137037.4,
          142383.6,
          152100.7,
          150170.1,
          140723.3,
          124162.4,
          128217.5,
          129162.2,
          103801.1,
          118066.6,
          122547.7,
          133767,
          134451.3,
          136309.9,
          154630.5,
          159019.3,
          148277.6,
          142261.3,
          138396.9,
          166756.2,
          153421.7,
          159386.9,
          146709.7,
          139767,
          141247.2,
          145586.1,
          162816.3,
          157559.7,
          154938.6,
          132415.1,
          126843.5,
          138388.4,
          127346.6,
          128797.4,
          126525.2,
          130222.4,
          125586.2,
          131275.8,
          135976.6,
          128856.3,
          121047,
          109591.5,
          113587.2,
          125864.4,
          116559.3,
          118752.3,
          113441.9,
          116109.6
         ],
         "yaxis": "y5"
        }
       ],
       "layout": {
        "annotations": [
         {
          "font": {
           "size": 16
          },
          "showarrow": false,
          "text": "Air passenger vs Emissions",
          "x": 0.47,
          "xanchor": "center",
          "xref": "paper",
          "y": 1,
          "yanchor": "bottom",
          "yref": "paper"
         },
         {
          "font": {
           "size": 16
          },
          "showarrow": false,
          "text": "Air passenger vs Tourism",
          "x": 0.47,
          "xanchor": "center",
          "xref": "paper",
          "y": 0.6333333333333333,
          "yanchor": "bottom",
          "yref": "paper"
         },
         {
          "font": {
           "size": 16
          },
          "showarrow": false,
          "text": "Air passenger vs Freight",
          "x": 0.47,
          "xanchor": "center",
          "xref": "paper",
          "y": 0.26666666666666666,
          "yanchor": "bottom",
          "yref": "paper"
         },
         {
          "ax": 0,
          "ay": 0,
          "font": {
           "color": "red",
           "family": "Courier New, monospace",
           "size": 16
          },
          "showarrow": false,
          "text": "Begin COVID-19",
          "x": "2020-02-01",
          "xref": "x",
          "y": 1.05,
          "yref": "paper"
         }
        ],
        "height": 900,
        "shapes": [
         {
          "line": {
           "color": "red",
           "dash": "dot",
           "width": 2
          },
          "type": "line",
          "x0": "2020-02",
          "x1": "2020-02",
          "xref": "x",
          "y0": 0,
          "y1": 1,
          "yref": "y domain"
         },
         {
          "line": {
           "color": "red",
           "dash": "dot",
           "width": 2
          },
          "type": "line",
          "x0": "2020-02",
          "x1": "2020-02",
          "xref": "x2",
          "y0": 0,
          "y1": 1,
          "yref": "y3 domain"
         },
         {
          "line": {
           "color": "red",
           "dash": "dot",
           "width": 2
          },
          "type": "line",
          "x0": "2020-02",
          "x1": "2020-02",
          "xref": "x3",
          "y0": 0,
          "y1": 1,
          "yref": "y5 domain"
         }
        ],
        "template": {
         "data": {
          "bar": [
           {
            "error_x": {
             "color": "#2a3f5f"
            },
            "error_y": {
             "color": "#2a3f5f"
            },
            "marker": {
             "line": {
              "color": "#E5ECF6",
              "width": 0.5
             },
             "pattern": {
              "fillmode": "overlay",
              "size": 10,
              "solidity": 0.2
             }
            },
            "type": "bar"
           }
          ],
          "barpolar": [
           {
            "marker": {
             "line": {
              "color": "#E5ECF6",
              "width": 0.5
             },
             "pattern": {
              "fillmode": "overlay",
              "size": 10,
              "solidity": 0.2
             }
            },
            "type": "barpolar"
           }
          ],
          "carpet": [
           {
            "aaxis": {
             "endlinecolor": "#2a3f5f",
             "gridcolor": "white",
             "linecolor": "white",
             "minorgridcolor": "white",
             "startlinecolor": "#2a3f5f"
            },
            "baxis": {
             "endlinecolor": "#2a3f5f",
             "gridcolor": "white",
             "linecolor": "white",
             "minorgridcolor": "white",
             "startlinecolor": "#2a3f5f"
            },
            "type": "carpet"
           }
          ],
          "choropleth": [
           {
            "colorbar": {
             "outlinewidth": 0,
             "ticks": ""
            },
            "type": "choropleth"
           }
          ],
          "contour": [
           {
            "colorbar": {
             "outlinewidth": 0,
             "ticks": ""
            },
            "colorscale": [
             [
              0,
              "#0d0887"
             ],
             [
              0.1111111111111111,
              "#46039f"
             ],
             [
              0.2222222222222222,
              "#7201a8"
             ],
             [
              0.3333333333333333,
              "#9c179e"
             ],
             [
              0.4444444444444444,
              "#bd3786"
             ],
             [
              0.5555555555555556,
              "#d8576b"
             ],
             [
              0.6666666666666666,
              "#ed7953"
             ],
             [
              0.7777777777777778,
              "#fb9f3a"
             ],
             [
              0.8888888888888888,
              "#fdca26"
             ],
             [
              1,
              "#f0f921"
             ]
            ],
            "type": "contour"
           }
          ],
          "contourcarpet": [
           {
            "colorbar": {
             "outlinewidth": 0,
             "ticks": ""
            },
            "type": "contourcarpet"
           }
          ],
          "heatmap": [
           {
            "colorbar": {
             "outlinewidth": 0,
             "ticks": ""
            },
            "colorscale": [
             [
              0,
              "#0d0887"
             ],
             [
              0.1111111111111111,
              "#46039f"
             ],
             [
              0.2222222222222222,
              "#7201a8"
             ],
             [
              0.3333333333333333,
              "#9c179e"
             ],
             [
              0.4444444444444444,
              "#bd3786"
             ],
             [
              0.5555555555555556,
              "#d8576b"
             ],
             [
              0.6666666666666666,
              "#ed7953"
             ],
             [
              0.7777777777777778,
              "#fb9f3a"
             ],
             [
              0.8888888888888888,
              "#fdca26"
             ],
             [
              1,
              "#f0f921"
             ]
            ],
            "type": "heatmap"
           }
          ],
          "heatmapgl": [
           {
            "colorbar": {
             "outlinewidth": 0,
             "ticks": ""
            },
            "colorscale": [
             [
              0,
              "#0d0887"
             ],
             [
              0.1111111111111111,
              "#46039f"
             ],
             [
              0.2222222222222222,
              "#7201a8"
             ],
             [
              0.3333333333333333,
              "#9c179e"
             ],
             [
              0.4444444444444444,
              "#bd3786"
             ],
             [
              0.5555555555555556,
              "#d8576b"
             ],
             [
              0.6666666666666666,
              "#ed7953"
             ],
             [
              0.7777777777777778,
              "#fb9f3a"
             ],
             [
              0.8888888888888888,
              "#fdca26"
             ],
             [
              1,
              "#f0f921"
             ]
            ],
            "type": "heatmapgl"
           }
          ],
          "histogram": [
           {
            "marker": {
             "pattern": {
              "fillmode": "overlay",
              "size": 10,
              "solidity": 0.2
             }
            },
            "type": "histogram"
           }
          ],
          "histogram2d": [
           {
            "colorbar": {
             "outlinewidth": 0,
             "ticks": ""
            },
            "colorscale": [
             [
              0,
              "#0d0887"
             ],
             [
              0.1111111111111111,
              "#46039f"
             ],
             [
              0.2222222222222222,
              "#7201a8"
             ],
             [
              0.3333333333333333,
              "#9c179e"
             ],
             [
              0.4444444444444444,
              "#bd3786"
             ],
             [
              0.5555555555555556,
              "#d8576b"
             ],
             [
              0.6666666666666666,
              "#ed7953"
             ],
             [
              0.7777777777777778,
              "#fb9f3a"
             ],
             [
              0.8888888888888888,
              "#fdca26"
             ],
             [
              1,
              "#f0f921"
             ]
            ],
            "type": "histogram2d"
           }
          ],
          "histogram2dcontour": [
           {
            "colorbar": {
             "outlinewidth": 0,
             "ticks": ""
            },
            "colorscale": [
             [
              0,
              "#0d0887"
             ],
             [
              0.1111111111111111,
              "#46039f"
             ],
             [
              0.2222222222222222,
              "#7201a8"
             ],
             [
              0.3333333333333333,
              "#9c179e"
             ],
             [
              0.4444444444444444,
              "#bd3786"
             ],
             [
              0.5555555555555556,
              "#d8576b"
             ],
             [
              0.6666666666666666,
              "#ed7953"
             ],
             [
              0.7777777777777778,
              "#fb9f3a"
             ],
             [
              0.8888888888888888,
              "#fdca26"
             ],
             [
              1,
              "#f0f921"
             ]
            ],
            "type": "histogram2dcontour"
           }
          ],
          "mesh3d": [
           {
            "colorbar": {
             "outlinewidth": 0,
             "ticks": ""
            },
            "type": "mesh3d"
           }
          ],
          "parcoords": [
           {
            "line": {
             "colorbar": {
              "outlinewidth": 0,
              "ticks": ""
             }
            },
            "type": "parcoords"
           }
          ],
          "pie": [
           {
            "automargin": true,
            "type": "pie"
           }
          ],
          "scatter": [
           {
            "fillpattern": {
             "fillmode": "overlay",
             "size": 10,
             "solidity": 0.2
            },
            "type": "scatter"
           }
          ],
          "scatter3d": [
           {
            "line": {
             "colorbar": {
              "outlinewidth": 0,
              "ticks": ""
             }
            },
            "marker": {
             "colorbar": {
              "outlinewidth": 0,
              "ticks": ""
             }
            },
            "type": "scatter3d"
           }
          ],
          "scattercarpet": [
           {
            "marker": {
             "colorbar": {
              "outlinewidth": 0,
              "ticks": ""
             }
            },
            "type": "scattercarpet"
           }
          ],
          "scattergeo": [
           {
            "marker": {
             "colorbar": {
              "outlinewidth": 0,
              "ticks": ""
             }
            },
            "type": "scattergeo"
           }
          ],
          "scattergl": [
           {
            "marker": {
             "colorbar": {
              "outlinewidth": 0,
              "ticks": ""
             }
            },
            "type": "scattergl"
           }
          ],
          "scattermapbox": [
           {
            "marker": {
             "colorbar": {
              "outlinewidth": 0,
              "ticks": ""
             }
            },
            "type": "scattermapbox"
           }
          ],
          "scatterpolar": [
           {
            "marker": {
             "colorbar": {
              "outlinewidth": 0,
              "ticks": ""
             }
            },
            "type": "scatterpolar"
           }
          ],
          "scatterpolargl": [
           {
            "marker": {
             "colorbar": {
              "outlinewidth": 0,
              "ticks": ""
             }
            },
            "type": "scatterpolargl"
           }
          ],
          "scatterternary": [
           {
            "marker": {
             "colorbar": {
              "outlinewidth": 0,
              "ticks": ""
             }
            },
            "type": "scatterternary"
           }
          ],
          "surface": [
           {
            "colorbar": {
             "outlinewidth": 0,
             "ticks": ""
            },
            "colorscale": [
             [
              0,
              "#0d0887"
             ],
             [
              0.1111111111111111,
              "#46039f"
             ],
             [
              0.2222222222222222,
              "#7201a8"
             ],
             [
              0.3333333333333333,
              "#9c179e"
             ],
             [
              0.4444444444444444,
              "#bd3786"
             ],
             [
              0.5555555555555556,
              "#d8576b"
             ],
             [
              0.6666666666666666,
              "#ed7953"
             ],
             [
              0.7777777777777778,
              "#fb9f3a"
             ],
             [
              0.8888888888888888,
              "#fdca26"
             ],
             [
              1,
              "#f0f921"
             ]
            ],
            "type": "surface"
           }
          ],
          "table": [
           {
            "cells": {
             "fill": {
              "color": "#EBF0F8"
             },
             "line": {
              "color": "white"
             }
            },
            "header": {
             "fill": {
              "color": "#C8D4E3"
             },
             "line": {
              "color": "white"
             }
            },
            "type": "table"
           }
          ]
         },
         "layout": {
          "annotationdefaults": {
           "arrowcolor": "#2a3f5f",
           "arrowhead": 0,
           "arrowwidth": 1
          },
          "autotypenumbers": "strict",
          "coloraxis": {
           "colorbar": {
            "outlinewidth": 0,
            "ticks": ""
           }
          },
          "colorscale": {
           "diverging": [
            [
             0,
             "#8e0152"
            ],
            [
             0.1,
             "#c51b7d"
            ],
            [
             0.2,
             "#de77ae"
            ],
            [
             0.3,
             "#f1b6da"
            ],
            [
             0.4,
             "#fde0ef"
            ],
            [
             0.5,
             "#f7f7f7"
            ],
            [
             0.6,
             "#e6f5d0"
            ],
            [
             0.7,
             "#b8e186"
            ],
            [
             0.8,
             "#7fbc41"
            ],
            [
             0.9,
             "#4d9221"
            ],
            [
             1,
             "#276419"
            ]
           ],
           "sequential": [
            [
             0,
             "#0d0887"
            ],
            [
             0.1111111111111111,
             "#46039f"
            ],
            [
             0.2222222222222222,
             "#7201a8"
            ],
            [
             0.3333333333333333,
             "#9c179e"
            ],
            [
             0.4444444444444444,
             "#bd3786"
            ],
            [
             0.5555555555555556,
             "#d8576b"
            ],
            [
             0.6666666666666666,
             "#ed7953"
            ],
            [
             0.7777777777777778,
             "#fb9f3a"
            ],
            [
             0.8888888888888888,
             "#fdca26"
            ],
            [
             1,
             "#f0f921"
            ]
           ],
           "sequentialminus": [
            [
             0,
             "#0d0887"
            ],
            [
             0.1111111111111111,
             "#46039f"
            ],
            [
             0.2222222222222222,
             "#7201a8"
            ],
            [
             0.3333333333333333,
             "#9c179e"
            ],
            [
             0.4444444444444444,
             "#bd3786"
            ],
            [
             0.5555555555555556,
             "#d8576b"
            ],
            [
             0.6666666666666666,
             "#ed7953"
            ],
            [
             0.7777777777777778,
             "#fb9f3a"
            ],
            [
             0.8888888888888888,
             "#fdca26"
            ],
            [
             1,
             "#f0f921"
            ]
           ]
          },
          "colorway": [
           "#636efa",
           "#EF553B",
           "#00cc96",
           "#ab63fa",
           "#FFA15A",
           "#19d3f3",
           "#FF6692",
           "#B6E880",
           "#FF97FF",
           "#FECB52"
          ],
          "font": {
           "color": "#2a3f5f"
          },
          "geo": {
           "bgcolor": "white",
           "lakecolor": "white",
           "landcolor": "#E5ECF6",
           "showlakes": true,
           "showland": true,
           "subunitcolor": "white"
          },
          "hoverlabel": {
           "align": "left"
          },
          "hovermode": "closest",
          "mapbox": {
           "style": "light"
          },
          "paper_bgcolor": "white",
          "plot_bgcolor": "#E5ECF6",
          "polar": {
           "angularaxis": {
            "gridcolor": "white",
            "linecolor": "white",
            "ticks": ""
           },
           "bgcolor": "#E5ECF6",
           "radialaxis": {
            "gridcolor": "white",
            "linecolor": "white",
            "ticks": ""
           }
          },
          "scene": {
           "xaxis": {
            "backgroundcolor": "#E5ECF6",
            "gridcolor": "white",
            "gridwidth": 2,
            "linecolor": "white",
            "showbackground": true,
            "ticks": "",
            "zerolinecolor": "white"
           },
           "yaxis": {
            "backgroundcolor": "#E5ECF6",
            "gridcolor": "white",
            "gridwidth": 2,
            "linecolor": "white",
            "showbackground": true,
            "ticks": "",
            "zerolinecolor": "white"
           },
           "zaxis": {
            "backgroundcolor": "#E5ECF6",
            "gridcolor": "white",
            "gridwidth": 2,
            "linecolor": "white",
            "showbackground": true,
            "ticks": "",
            "zerolinecolor": "white"
           }
          },
          "shapedefaults": {
           "line": {
            "color": "#2a3f5f"
           }
          },
          "ternary": {
           "aaxis": {
            "gridcolor": "white",
            "linecolor": "white",
            "ticks": ""
           },
           "baxis": {
            "gridcolor": "white",
            "linecolor": "white",
            "ticks": ""
           },
           "bgcolor": "#E5ECF6",
           "caxis": {
            "gridcolor": "white",
            "linecolor": "white",
            "ticks": ""
           }
          },
          "title": {
           "x": 0.05
          },
          "xaxis": {
           "automargin": true,
           "gridcolor": "white",
           "linecolor": "white",
           "ticks": "",
           "title": {
            "standoff": 15
           },
           "zerolinecolor": "white",
           "zerolinewidth": 2
          },
          "yaxis": {
           "automargin": true,
           "gridcolor": "white",
           "linecolor": "white",
           "ticks": "",
           "title": {
            "standoff": 15
           },
           "zerolinecolor": "white",
           "zerolinewidth": 2
          }
         }
        },
        "title": {
         "text": "Impact of COVID-19 on Different Sectors in The Netherlands"
        },
        "xaxis": {
         "anchor": "y",
         "domain": [
          0,
          0.94
         ],
         "matches": "x3",
         "showticklabels": false
        },
        "xaxis2": {
         "anchor": "y3",
         "domain": [
          0,
          0.94
         ],
         "matches": "x3",
         "showticklabels": false
        },
        "xaxis3": {
         "anchor": "y5",
         "domain": [
          0,
          0.94
         ]
        },
        "yaxis": {
         "anchor": "x",
         "domain": [
          0.7333333333333334,
          1
         ]
        },
        "yaxis2": {
         "anchor": "x",
         "overlaying": "y",
         "side": "right"
        },
        "yaxis3": {
         "anchor": "x2",
         "domain": [
          0.3666666666666667,
          0.6333333333333333
         ]
        },
        "yaxis4": {
         "anchor": "x2",
         "overlaying": "y3",
         "side": "right"
        },
        "yaxis5": {
         "anchor": "x3",
         "domain": [
          0,
          0.26666666666666666
         ]
        },
        "yaxis6": {
         "anchor": "x3",
         "overlaying": "y5",
         "side": "right"
        }
       }
      }
     },
     "metadata": {},
     "output_type": "display_data"
    }
   ],
   "source": [
    "fig = make_subplots(rows=3, cols=1,\n",
    "                    shared_xaxes=True,\n",
    "                    subplot_titles=('Air passenger vs Emissions', 'Air passenger vs Tourism', 'Air passenger vs Freight'),\n",
    "                    vertical_spacing=0.1,\n",
    "                    specs=[[{'secondary_y': True}],\n",
    "                           [{'secondary_y': True}],\n",
    "                           [{'secondary_y': True}]])\n",
    "\n",
    "# For Traffic vs Emissions\n",
    "fig.add_trace(go.Scatter(\n",
    "    x=traffic_NL['TIME_PERIOD'],\n",
    "    y=traffic_NL['OBS_VALUE'],\n",
    "    name='Air passenger',\n",
    "    line=dict(color='blue'),\n",
    "), row=1, col=1, secondary_y=True)\n",
    "\n",
    "fig.add_trace(go.Scatter(\n",
    "    x=emissions_NL['TIME_PERIOD'],\n",
    "    y=emissions_NL['OBS_VALUE'],\n",
    "    name=\"Emissions (NO_2)\",\n",
    "    line=dict(color='green'),\n",
    "), row=1, col=1, secondary_y=False)\n",
    "\n",
    "# For Traffic vs Tourism\n",
    "fig.add_trace(go.Scatter(\n",
    "    x=traffic_NL['TIME_PERIOD'],\n",
    "    y=traffic_NL['OBS_VALUE'],\n",
    "    showlegend=False,  \n",
    "    line=dict(color='blue'),\n",
    "), row=2, col=1, secondary_y=True)\n",
    "\n",
    "fig.add_trace(go.Scatter(\n",
    "    x=tourism_NL['TIME_PERIOD'],\n",
    "    y=tourism_NL['OBS_VALUE'],\n",
    "    name='Tourism',\n",
    "    line=dict(color='red'),\n",
    "), row=2, col=1, secondary_y=False)\n",
    "\n",
    "# For Traffic vs Freight\n",
    "fig.add_trace(go.Scatter(\n",
    "    x=traffic_NL['TIME_PERIOD'],\n",
    "    y=traffic_NL['OBS_VALUE'],\n",
    "    showlegend=False, \n",
    "    line=dict(color='blue'),\n",
    "), row=3, col=1, secondary_y=True)\n",
    "\n",
    "fig.add_trace(go.Scatter(\n",
    "    x=supply_NL['TIME_PERIOD'],\n",
    "    y=supply_NL['OBS_VALUE'],\n",
    "    name='Freight NL',\n",
    "    line=dict(color='black'),\n",
    "), row=3, col=1, secondary_y=False)\n",
    "\n",
    "fig.update_layout(\n",
    "    title_text='Impact of COVID-19 on Different Sectors in The Netherlands',\n",
    "    height=900 \n",
    ")\n",
    "\n",
    "fig.add_vline(x='2020-02', line_width=2, line_color='red', line_dash='dot')\n",
    "fig.add_annotation(\n",
    "    dict(\n",
    "        x='2020-02-01',\n",
    "        y=1.05,  \n",
    "        xref='x',\n",
    "        yref='paper',\n",
    "        text='Begin COVID-19',  \n",
    "        showarrow=False,\n",
    "        font=dict(\n",
    "            family='Courier New, monospace',\n",
    "            size=16,\n",
    "            color='red'\n",
    "        ),\n",
    "        ax=0,  \n",
    "        ay=0\n",
    "    )\n",
    ")\n",
    "\n",
    "fig.show()\n"
   ]
  },
  {
   "cell_type": "code",
   "execution_count": 93,
   "metadata": {},
   "outputs": [
    {
     "data": {
      "image/png": "[encoded data removed]",
      "text/plain": [
       "<Figure size 1000x800 with 2 Axes>"
      ]
     },
     "metadata": {},
     "output_type": "display_data"
    }
   ],
   "source": [
    "# Merge the dataframes based on the TIME_PERIOD column\n",
    "merged_NL = traffic_NL[['TIME_PERIOD', 'OBS_VALUE']].rename(columns={'OBS_VALUE': 'Traffic'})\n",
    "merged_NL = pd.merge(merged_NL, emissions_NL[['TIME_PERIOD', 'OBS_VALUE']], on='TIME_PERIOD', how='left').rename(columns={'OBS_VALUE': 'Emissions'})\n",
    "merged_NL = pd.merge(merged_NL, tourism_NL[['TIME_PERIOD', 'OBS_VALUE']], on='TIME_PERIOD', how='left').rename(columns={'OBS_VALUE': 'Tourism'})\n",
    "merged_NL = pd.merge(merged_NL, supply_NL[['TIME_PERIOD', 'OBS_VALUE']], on='TIME_PERIOD', how='left').rename(columns={'OBS_VALUE': 'Supply'})\n",
    "\n",
    "corr = merged_NL.drop(columns='TIME_PERIOD').corr()\n",
    "\n",
    "mask = np.triu(np.ones_like(corr, dtype=bool))\n",
    "plt.figure(figsize=(10, 8))\n",
    "sns.heatmap(corr, mask=mask, cmap='coolwarm', vmax=1.0, vmin=-1.0, center=0,\n",
    "            square=True, linewidths=.5, cbar_kws={\"shrink\": .5}, annot=True)\n",
    "plt.title('Correlation Heatmap for Traffic, Emission, Tourism, and Supply in NL')\n",
    "plt.show()\n"
   ]
  },
  {
   "cell_type": "markdown",
   "metadata": {},
   "source": [
    "### France\n"
   ]
  },
  {
   "cell_type": "code",
   "execution_count": 87,
   "metadata": {},
   "outputs": [],
   "source": [
    "traffic_FR = traffic[\n",
    "    (traffic['rep_airp'] == 'FR_FMCZ') &\n",
    "    (traffic['unit'] == 'NR') &\n",
    "    (traffic['TIME_PERIOD'] >= '2019-02')                   \n",
    "]\n",
    "\n",
    "emissions_FR = emissions[\n",
    "    (emissions['geo'] == 'FR_CAP') &\n",
    "    (emissions['TIME_PERIOD'] >= '2019-02')\n",
    "]\n",
    "\n",
    "tourism_FR = tourism[\n",
    "    (tourism['geo'] == 'FR') &\n",
    "    (tourism['unit'] == 'NR') &\n",
    "    (tourism['nace_r2'] == 'I551-I553') &\n",
    "    (tourism['c_resid'] == 'TOTAL') &\n",
    "    (tourism['TIME_PERIOD'] >= '2019-02')\n",
    "]\n",
    "\n",
    "supply_FR = supply[\n",
    "    (supply['geo'] == 'FR') &\n",
    "    (supply['tra_meas'] == 'FRM_BRD') & \n",
    "    (supply['TIME_PERIOD'] >= '2019-02')\n",
    "]"
   ]
  },
  {
   "cell_type": "code",
   "execution_count": 88,
   "metadata": {},
   "outputs": [
    {
     "data": {
      "application/vnd.plotly.v1+json": {
       "config": {
        "plotlyServerURL": "https://plot.ly"
       },
       "data": [
        {
         "line": {
          "color": "blue"
         },
         "name": "Air passenger",
         "type": "scatter",
         "x": [
          "2019-02",
          "2019-03",
          "2019-04",
          "2019-05",
          "2019-06",
          "2019-07",
          "2019-08",
          "2019-09",
          "2019-10",
          "2019-11",
          "2019-12",
          "2020-01",
          "2020-02",
          "2020-03",
          "2020-04",
          "2020-05",
          "2020-06",
          "2020-07",
          "2020-08",
          "2020-09",
          "2020-10",
          "2020-11",
          "2020-12",
          "2021-01",
          "2021-02",
          "2021-03",
          "2021-04",
          "2021-05",
          "2021-06",
          "2021-07",
          "2021-08",
          "2021-09",
          "2021-10",
          "2021-11",
          "2021-12",
          "2022-01",
          "2022-02",
          "2022-03",
          "2022-04",
          "2022-05",
          "2022-06",
          "2022-07",
          "2022-08",
          "2022-09",
          "2022-10",
          "2022-11",
          "2022-12",
          "2023-01",
          "2023-02",
          "2023-03",
          "2023-04",
          "2023-05",
          "2023-06",
          "2023-07",
          "2023-08"
         ],
         "xaxis": "x",
         "y": [
          10,
          9,
          22,
          29,
          40,
          46,
          38,
          26,
          19,
          12,
          21,
          17,
          9,
          8,
          0,
          2,
          12,
          32,
          37,
          22,
          17,
          14,
          18,
          16,
          7,
          11,
          13,
          16,
          38,
          52,
          41,
          25,
          16,
          12,
          18,
          15,
          9,
          13,
          16,
          23,
          42,
          58,
          48,
          31,
          23,
          22,
          25,
          27,
          11,
          17,
          22,
          26,
          45,
          54,
          40
         ],
         "yaxis": "y2"
        },
        {
         "line": {
          "color": "green"
         },
         "name": "Emissions (NO_2)",
         "type": "scatter",
         "x": [
          "2019-02",
          "2019-03",
          "2019-04",
          "2019-05",
          "2019-06",
          "2019-07",
          "2019-08",
          "2019-09",
          "2019-10",
          "2019-11",
          "2019-12",
          "2020-01",
          "2020-02",
          "2020-03",
          "2020-04",
          "2020-05",
          "2020-06",
          "2020-07",
          "2020-08",
          "2020-09",
          "2020-10",
          "2020-11",
          "2020-12",
          "2021-01",
          "2021-02",
          "2021-03",
          "2021-04",
          "2021-05",
          "2021-06",
          "2021-07",
          "2021-08",
          "2021-09",
          "2021-10",
          "2021-11",
          "2021-12",
          "2022-01",
          "2022-02",
          "2022-03",
          "2022-04",
          "2022-05",
          "2022-06",
          "2022-07",
          "2022-08",
          "2022-09",
          "2022-10",
          "2022-11",
          "2022-12",
          "2023-01",
          "2023-02",
          "2023-03",
          "2023-04",
          "2023-05",
          "2023-06",
          "2023-07",
          "2023-08"
         ],
         "xaxis": "x",
         "y": [
          54.6,
          36.8,
          39.7,
          33.5,
          30.7,
          29.9,
          28.5,
          29.2,
          30.7,
          36.1,
          37.6,
          37.4,
          28,
          26.8,
          21.1,
          21.4,
          23.5,
          19.8,
          24.6,
          34.8,
          26.1,
          34,
          30.1,
          33.4,
          32.5,
          35.6,
          28.3,
          22,
          25.5,
          23.7,
          18.8,
          31.6,
          35.3,
          38.2,
          34.1,
          36.4,
          30.7,
          39.9,
          28,
          24.8,
          24.9,
          23.4,
          23.6,
          29.6,
          30.4,
          27.8,
          30.2,
          26.6,
          36.6,
          25.3,
          24.6,
          20,
          22.9,
          16.9,
          18.4
         ],
         "yaxis": "y"
        },
        {
         "line": {
          "color": "blue"
         },
         "showlegend": false,
         "type": "scatter",
         "x": [
          "2019-02",
          "2019-03",
          "2019-04",
          "2019-05",
          "2019-06",
          "2019-07",
          "2019-08",
          "2019-09",
          "2019-10",
          "2019-11",
          "2019-12",
          "2020-01",
          "2020-02",
          "2020-03",
          "2020-04",
          "2020-05",
          "2020-06",
          "2020-07",
          "2020-08",
          "2020-09",
          "2020-10",
          "2020-11",
          "2020-12",
          "2021-01",
          "2021-02",
          "2021-03",
          "2021-04",
          "2021-05",
          "2021-06",
          "2021-07",
          "2021-08",
          "2021-09",
          "2021-10",
          "2021-11",
          "2021-12",
          "2022-01",
          "2022-02",
          "2022-03",
          "2022-04",
          "2022-05",
          "2022-06",
          "2022-07",
          "2022-08",
          "2022-09",
          "2022-10",
          "2022-11",
          "2022-12",
          "2023-01",
          "2023-02",
          "2023-03",
          "2023-04",
          "2023-05",
          "2023-06",
          "2023-07",
          "2023-08"
         ],
         "xaxis": "x2",
         "y": [
          10,
          9,
          22,
          29,
          40,
          46,
          38,
          26,
          19,
          12,
          21,
          17,
          9,
          8,
          0,
          2,
          12,
          32,
          37,
          22,
          17,
          14,
          18,
          16,
          7,
          11,
          13,
          16,
          38,
          52,
          41,
          25,
          16,
          12,
          18,
          15,
          9,
          13,
          16,
          23,
          42,
          58,
          48,
          31,
          23,
          22,
          25,
          27,
          11,
          17,
          22,
          26,
          45,
          54,
          40
         ],
         "yaxis": "y4"
        },
        {
         "line": {
          "color": "red"
         },
         "name": "Tourism",
         "type": "scatter",
         "x": [
          "2019-02",
          "2019-03",
          "2019-04",
          "2019-05",
          "2019-06",
          "2019-07",
          "2019-08",
          "2019-09",
          "2019-10",
          "2019-11",
          "2019-12",
          "2020-01",
          "2020-02",
          "2020-03",
          "2020-04",
          "2020-05",
          "2020-06",
          "2020-07",
          "2020-08",
          "2020-09",
          "2020-10",
          "2020-11",
          "2020-12",
          "2021-01",
          "2021-02",
          "2021-03",
          "2021-04",
          "2021-05",
          "2021-06",
          "2021-07",
          "2021-08",
          "2021-09",
          "2021-10",
          "2021-11",
          "2021-12",
          "2022-01",
          "2022-02",
          "2022-03",
          "2022-04",
          "2022-05",
          "2022-06",
          "2022-07",
          "2022-08",
          "2022-09",
          "2022-10",
          "2022-11",
          "2022-12",
          "2023-01",
          "2023-02",
          "2023-03",
          "2023-04",
          "2023-05",
          "2023-06",
          "2023-07"
         ],
         "xaxis": "x2",
         "y": [
          21343918,
          24146968,
          34524535,
          33153916,
          45484105,
          76193809,
          89610216,
          39452798,
          24458403,
          18430315,
          20341828,
          20286098,
          22747472,
          10798713,
          1040780,
          2041302,
          17852529,
          56509938,
          73475276,
          26788119,
          15610898,
          5231670,
          7317613,
          7284146,
          8604215,
          8571391,
          8902288,
          17890803,
          27594443,
          68911745,
          83014407,
          35939250,
          22335656,
          16769574,
          18571127,
          15355073,
          20066610,
          21950805,
          32469245,
          36407462,
          44240632,
          78516539,
          89615467,
          40768788,
          24886684,
          18235128,
          21303776,
          19991525,
          21626757,
          22935141,
          34836528,
          39841092,
          44294010,
          76772780
         ],
         "yaxis": "y3"
        },
        {
         "line": {
          "color": "blue"
         },
         "showlegend": false,
         "type": "scatter",
         "x": [
          "2019-02",
          "2019-03",
          "2019-04",
          "2019-05",
          "2019-06",
          "2019-07",
          "2019-08",
          "2019-09",
          "2019-10",
          "2019-11",
          "2019-12",
          "2020-01",
          "2020-02",
          "2020-03",
          "2020-04",
          "2020-05",
          "2020-06",
          "2020-07",
          "2020-08",
          "2020-09",
          "2020-10",
          "2020-11",
          "2020-12",
          "2021-01",
          "2021-02",
          "2021-03",
          "2021-04",
          "2021-05",
          "2021-06",
          "2021-07",
          "2021-08",
          "2021-09",
          "2021-10",
          "2021-11",
          "2021-12",
          "2022-01",
          "2022-02",
          "2022-03",
          "2022-04",
          "2022-05",
          "2022-06",
          "2022-07",
          "2022-08",
          "2022-09",
          "2022-10",
          "2022-11",
          "2022-12",
          "2023-01",
          "2023-02",
          "2023-03",
          "2023-04",
          "2023-05",
          "2023-06",
          "2023-07",
          "2023-08"
         ],
         "xaxis": "x3",
         "y": [
          10,
          9,
          22,
          29,
          40,
          46,
          38,
          26,
          19,
          12,
          21,
          17,
          9,
          8,
          0,
          2,
          12,
          32,
          37,
          22,
          17,
          14,
          18,
          16,
          7,
          11,
          13,
          16,
          38,
          52,
          41,
          25,
          16,
          12,
          18,
          15,
          9,
          13,
          16,
          23,
          42,
          58,
          48,
          31,
          23,
          22,
          25,
          27,
          11,
          17,
          22,
          26,
          45,
          54,
          40
         ],
         "yaxis": "y6"
        },
        {
         "line": {
          "color": "black"
         },
         "name": "Freight NL",
         "type": "scatter",
         "x": [
          "2019-02",
          "2019-03",
          "2019-04",
          "2019-05",
          "2019-06",
          "2019-07",
          "2019-08",
          "2019-09",
          "2019-10",
          "2019-11",
          "2019-12",
          "2020-01",
          "2020-02",
          "2020-03",
          "2020-04",
          "2020-05",
          "2020-06",
          "2020-07",
          "2020-08",
          "2020-09",
          "2020-10",
          "2020-11",
          "2020-12",
          "2021-01",
          "2021-02",
          "2021-03",
          "2021-04",
          "2021-05",
          "2021-06",
          "2021-07",
          "2021-08",
          "2021-09",
          "2021-10",
          "2021-11",
          "2021-12",
          "2022-01",
          "2022-02",
          "2022-03",
          "2022-04",
          "2022-05",
          "2022-06",
          "2022-07",
          "2022-08",
          "2022-09",
          "2022-10",
          "2022-11",
          "2022-12",
          "2023-01",
          "2023-02",
          "2023-03",
          "2023-04",
          "2023-05",
          "2023-06",
          "2023-07"
         ],
         "xaxis": "x3",
         "y": [
          184163.6,
          219104.4,
          192662.3,
          206265.7,
          195222.8,
          204045.7,
          183380.3,
          197266.5,
          208365.6,
          179732.4,
          211616,
          220729.6,
          206485.6,
          168246.3,
          88351.1,
          151804.1,
          146935.4,
          148776.5,
          148256.3,
          155799.6,
          162986.3,
          160381.6,
          178213.1,
          172828.3,
          174399,
          193695.4,
          185316.4,
          177774.6,
          184362.9,
          177067.3,
          188463.6,
          189228,
          209579.1,
          203196.5,
          214108.3,
          120165.7,
          136758.5,
          176988.4,
          149167.3,
          185661.7,
          181810.8,
          180550.7,
          185103.3,
          199278.3,
          204259.4,
          203520.2,
          210780.2,
          161160,
          160526.3,
          192140.8,
          184442.9,
          187641.1,
          197159.4,
          193857.7
         ],
         "yaxis": "y5"
        }
       ],
       "layout": {
        "annotations": [
         {
          "font": {
           "size": 16
          },
          "showarrow": false,
          "text": "Air passenger vs Emissions",
          "x": 0.47,
          "xanchor": "center",
          "xref": "paper",
          "y": 1,
          "yanchor": "bottom",
          "yref": "paper"
         },
         {
          "font": {
           "size": 16
          },
          "showarrow": false,
          "text": "Air passenger vs Tourism",
          "x": 0.47,
          "xanchor": "center",
          "xref": "paper",
          "y": 0.6333333333333333,
          "yanchor": "bottom",
          "yref": "paper"
         },
         {
          "font": {
           "size": 16
          },
          "showarrow": false,
          "text": "Air passenger vs Freight",
          "x": 0.47,
          "xanchor": "center",
          "xref": "paper",
          "y": 0.26666666666666666,
          "yanchor": "bottom",
          "yref": "paper"
         },
         {
          "ax": 0,
          "ay": 0,
          "font": {
           "color": "red",
           "family": "Courier New, monospace",
           "size": 16
          },
          "showarrow": false,
          "text": "Begin COVID-19",
          "x": "2020-02-01",
          "xref": "x",
          "y": 1.05,
          "yref": "paper"
         }
        ],
        "height": 900,
        "shapes": [
         {
          "line": {
           "color": "red",
           "dash": "dot",
           "width": 2
          },
          "type": "line",
          "x0": "2020-02",
          "x1": "2020-02",
          "xref": "x",
          "y0": 0,
          "y1": 1,
          "yref": "y domain"
         },
         {
          "line": {
           "color": "red",
           "dash": "dot",
           "width": 2
          },
          "type": "line",
          "x0": "2020-02",
          "x1": "2020-02",
          "xref": "x2",
          "y0": 0,
          "y1": 1,
          "yref": "y3 domain"
         },
         {
          "line": {
           "color": "red",
           "dash": "dot",
           "width": 2
          },
          "type": "line",
          "x0": "2020-02",
          "x1": "2020-02",
          "xref": "x3",
          "y0": 0,
          "y1": 1,
          "yref": "y5 domain"
         }
        ],
        "template": {
         "data": {
          "bar": [
           {
            "error_x": {
             "color": "#2a3f5f"
            },
            "error_y": {
             "color": "#2a3f5f"
            },
            "marker": {
             "line": {
              "color": "#E5ECF6",
              "width": 0.5
             },
             "pattern": {
              "fillmode": "overlay",
              "size": 10,
              "solidity": 0.2
             }
            },
            "type": "bar"
           }
          ],
          "barpolar": [
           {
            "marker": {
             "line": {
              "color": "#E5ECF6",
              "width": 0.5
             },
             "pattern": {
              "fillmode": "overlay",
              "size": 10,
              "solidity": 0.2
             }
            },
            "type": "barpolar"
           }
          ],
          "carpet": [
           {
            "aaxis": {
             "endlinecolor": "#2a3f5f",
             "gridcolor": "white",
             "linecolor": "white",
             "minorgridcolor": "white",
             "startlinecolor": "#2a3f5f"
            },
            "baxis": {
             "endlinecolor": "#2a3f5f",
             "gridcolor": "white",
             "linecolor": "white",
             "minorgridcolor": "white",
             "startlinecolor": "#2a3f5f"
            },
            "type": "carpet"
           }
          ],
          "choropleth": [
           {
            "colorbar": {
             "outlinewidth": 0,
             "ticks": ""
            },
            "type": "choropleth"
           }
          ],
          "contour": [
           {
            "colorbar": {
             "outlinewidth": 0,
             "ticks": ""
            },
            "colorscale": [
             [
              0,
              "#0d0887"
             ],
             [
              0.1111111111111111,
              "#46039f"
             ],
             [
              0.2222222222222222,
              "#7201a8"
             ],
             [
              0.3333333333333333,
              "#9c179e"
             ],
             [
              0.4444444444444444,
              "#bd3786"
             ],
             [
              0.5555555555555556,
              "#d8576b"
             ],
             [
              0.6666666666666666,
              "#ed7953"
             ],
             [
              0.7777777777777778,
              "#fb9f3a"
             ],
             [
              0.8888888888888888,
              "#fdca26"
             ],
             [
              1,
              "#f0f921"
             ]
            ],
            "type": "contour"
           }
          ],
          "contourcarpet": [
           {
            "colorbar": {
             "outlinewidth": 0,
             "ticks": ""
            },
            "type": "contourcarpet"
           }
          ],
          "heatmap": [
           {
            "colorbar": {
             "outlinewidth": 0,
             "ticks": ""
            },
            "colorscale": [
             [
              0,
              "#0d0887"
             ],
             [
              0.1111111111111111,
              "#46039f"
             ],
             [
              0.2222222222222222,
              "#7201a8"
             ],
             [
              0.3333333333333333,
              "#9c179e"
             ],
             [
              0.4444444444444444,
              "#bd3786"
             ],
             [
              0.5555555555555556,
              "#d8576b"
             ],
             [
              0.6666666666666666,
              "#ed7953"
             ],
             [
              0.7777777777777778,
              "#fb9f3a"
             ],
             [
              0.8888888888888888,
              "#fdca26"
             ],
             [
              1,
              "#f0f921"
             ]
            ],
            "type": "heatmap"
           }
          ],
          "heatmapgl": [
           {
            "colorbar": {
             "outlinewidth": 0,
             "ticks": ""
            },
            "colorscale": [
             [
              0,
              "#0d0887"
             ],
             [
              0.1111111111111111,
              "#46039f"
             ],
             [
              0.2222222222222222,
              "#7201a8"
             ],
             [
              0.3333333333333333,
              "#9c179e"
             ],
             [
              0.4444444444444444,
              "#bd3786"
             ],
             [
              0.5555555555555556,
              "#d8576b"
             ],
             [
              0.6666666666666666,
              "#ed7953"
             ],
             [
              0.7777777777777778,
              "#fb9f3a"
             ],
             [
              0.8888888888888888,
              "#fdca26"
             ],
             [
              1,
              "#f0f921"
             ]
            ],
            "type": "heatmapgl"
           }
          ],
          "histogram": [
           {
            "marker": {
             "pattern": {
              "fillmode": "overlay",
              "size": 10,
              "solidity": 0.2
             }
            },
            "type": "histogram"
           }
          ],
          "histogram2d": [
           {
            "colorbar": {
             "outlinewidth": 0,
             "ticks": ""
            },
            "colorscale": [
             [
              0,
              "#0d0887"
             ],
             [
              0.1111111111111111,
              "#46039f"
             ],
             [
              0.2222222222222222,
              "#7201a8"
             ],
             [
              0.3333333333333333,
              "#9c179e"
             ],
             [
              0.4444444444444444,
              "#bd3786"
             ],
             [
              0.5555555555555556,
              "#d8576b"
             ],
             [
              0.6666666666666666,
              "#ed7953"
             ],
             [
              0.7777777777777778,
              "#fb9f3a"
             ],
             [
              0.8888888888888888,
              "#fdca26"
             ],
             [
              1,
              "#f0f921"
             ]
            ],
            "type": "histogram2d"
           }
          ],
          "histogram2dcontour": [
           {
            "colorbar": {
             "outlinewidth": 0,
             "ticks": ""
            },
            "colorscale": [
             [
              0,
              "#0d0887"
             ],
             [
              0.1111111111111111,
              "#46039f"
             ],
             [
              0.2222222222222222,
              "#7201a8"
             ],
             [
              0.3333333333333333,
              "#9c179e"
             ],
             [
              0.4444444444444444,
              "#bd3786"
             ],
             [
              0.5555555555555556,
              "#d8576b"
             ],
             [
              0.6666666666666666,
              "#ed7953"
             ],
             [
              0.7777777777777778,
              "#fb9f3a"
             ],
             [
              0.8888888888888888,
              "#fdca26"
             ],
             [
              1,
              "#f0f921"
             ]
            ],
            "type": "histogram2dcontour"
           }
          ],
          "mesh3d": [
           {
            "colorbar": {
             "outlinewidth": 0,
             "ticks": ""
            },
            "type": "mesh3d"
           }
          ],
          "parcoords": [
           {
            "line": {
             "colorbar": {
              "outlinewidth": 0,
              "ticks": ""
             }
            },
            "type": "parcoords"
           }
          ],
          "pie": [
           {
            "automargin": true,
            "type": "pie"
           }
          ],
          "scatter": [
           {
            "fillpattern": {
             "fillmode": "overlay",
             "size": 10,
             "solidity": 0.2
            },
            "type": "scatter"
           }
          ],
          "scatter3d": [
           {
            "line": {
             "colorbar": {
              "outlinewidth": 0,
              "ticks": ""
             }
            },
            "marker": {
             "colorbar": {
              "outlinewidth": 0,
              "ticks": ""
             }
            },
            "type": "scatter3d"
           }
          ],
          "scattercarpet": [
           {
            "marker": {
             "colorbar": {
              "outlinewidth": 0,
              "ticks": ""
             }
            },
            "type": "scattercarpet"
           }
          ],
          "scattergeo": [
           {
            "marker": {
             "colorbar": {
              "outlinewidth": 0,
              "ticks": ""
             }
            },
            "type": "scattergeo"
           }
          ],
          "scattergl": [
           {
            "marker": {
             "colorbar": {
              "outlinewidth": 0,
              "ticks": ""
             }
            },
            "type": "scattergl"
           }
          ],
          "scattermapbox": [
           {
            "marker": {
             "colorbar": {
              "outlinewidth": 0,
              "ticks": ""
             }
            },
            "type": "scattermapbox"
           }
          ],
          "scatterpolar": [
           {
            "marker": {
             "colorbar": {
              "outlinewidth": 0,
              "ticks": ""
             }
            },
            "type": "scatterpolar"
           }
          ],
          "scatterpolargl": [
           {
            "marker": {
             "colorbar": {
              "outlinewidth": 0,
              "ticks": ""
             }
            },
            "type": "scatterpolargl"
           }
          ],
          "scatterternary": [
           {
            "marker": {
             "colorbar": {
              "outlinewidth": 0,
              "ticks": ""
             }
            },
            "type": "scatterternary"
           }
          ],
          "surface": [
           {
            "colorbar": {
             "outlinewidth": 0,
             "ticks": ""
            },
            "colorscale": [
             [
              0,
              "#0d0887"
             ],
             [
              0.1111111111111111,
              "#46039f"
             ],
             [
              0.2222222222222222,
              "#7201a8"
             ],
             [
              0.3333333333333333,
              "#9c179e"
             ],
             [
              0.4444444444444444,
              "#bd3786"
             ],
             [
              0.5555555555555556,
              "#d8576b"
             ],
             [
              0.6666666666666666,
              "#ed7953"
             ],
             [
              0.7777777777777778,
              "#fb9f3a"
             ],
             [
              0.8888888888888888,
              "#fdca26"
             ],
             [
              1,
              "#f0f921"
             ]
            ],
            "type": "surface"
           }
          ],
          "table": [
           {
            "cells": {
             "fill": {
              "color": "#EBF0F8"
             },
             "line": {
              "color": "white"
             }
            },
            "header": {
             "fill": {
              "color": "#C8D4E3"
             },
             "line": {
              "color": "white"
             }
            },
            "type": "table"
           }
          ]
         },
         "layout": {
          "annotationdefaults": {
           "arrowcolor": "#2a3f5f",
           "arrowhead": 0,
           "arrowwidth": 1
          },
          "autotypenumbers": "strict",
          "coloraxis": {
           "colorbar": {
            "outlinewidth": 0,
            "ticks": ""
           }
          },
          "colorscale": {
           "diverging": [
            [
             0,
             "#8e0152"
            ],
            [
             0.1,
             "#c51b7d"
            ],
            [
             0.2,
             "#de77ae"
            ],
            [
             0.3,
             "#f1b6da"
            ],
            [
             0.4,
             "#fde0ef"
            ],
            [
             0.5,
             "#f7f7f7"
            ],
            [
             0.6,
             "#e6f5d0"
            ],
            [
             0.7,
             "#b8e186"
            ],
            [
             0.8,
             "#7fbc41"
            ],
            [
             0.9,
             "#4d9221"
            ],
            [
             1,
             "#276419"
            ]
           ],
           "sequential": [
            [
             0,
             "#0d0887"
            ],
            [
             0.1111111111111111,
             "#46039f"
            ],
            [
             0.2222222222222222,
             "#7201a8"
            ],
            [
             0.3333333333333333,
             "#9c179e"
            ],
            [
             0.4444444444444444,
             "#bd3786"
            ],
            [
             0.5555555555555556,
             "#d8576b"
            ],
            [
             0.6666666666666666,
             "#ed7953"
            ],
            [
             0.7777777777777778,
             "#fb9f3a"
            ],
            [
             0.8888888888888888,
             "#fdca26"
            ],
            [
             1,
             "#f0f921"
            ]
           ],
           "sequentialminus": [
            [
             0,
             "#0d0887"
            ],
            [
             0.1111111111111111,
             "#46039f"
            ],
            [
             0.2222222222222222,
             "#7201a8"
            ],
            [
             0.3333333333333333,
             "#9c179e"
            ],
            [
             0.4444444444444444,
             "#bd3786"
            ],
            [
             0.5555555555555556,
             "#d8576b"
            ],
            [
             0.6666666666666666,
             "#ed7953"
            ],
            [
             0.7777777777777778,
             "#fb9f3a"
            ],
            [
             0.8888888888888888,
             "#fdca26"
            ],
            [
             1,
             "#f0f921"
            ]
           ]
          },
          "colorway": [
           "#636efa",
           "#EF553B",
           "#00cc96",
           "#ab63fa",
           "#FFA15A",
           "#19d3f3",
           "#FF6692",
           "#B6E880",
           "#FF97FF",
           "#FECB52"
          ],
          "font": {
           "color": "#2a3f5f"
          },
          "geo": {
           "bgcolor": "white",
           "lakecolor": "white",
           "landcolor": "#E5ECF6",
           "showlakes": true,
           "showland": true,
           "subunitcolor": "white"
          },
          "hoverlabel": {
           "align": "left"
          },
          "hovermode": "closest",
          "mapbox": {
           "style": "light"
          },
          "paper_bgcolor": "white",
          "plot_bgcolor": "#E5ECF6",
          "polar": {
           "angularaxis": {
            "gridcolor": "white",
            "linecolor": "white",
            "ticks": ""
           },
           "bgcolor": "#E5ECF6",
           "radialaxis": {
            "gridcolor": "white",
            "linecolor": "white",
            "ticks": ""
           }
          },
          "scene": {
           "xaxis": {
            "backgroundcolor": "#E5ECF6",
            "gridcolor": "white",
            "gridwidth": 2,
            "linecolor": "white",
            "showbackground": true,
            "ticks": "",
            "zerolinecolor": "white"
           },
           "yaxis": {
            "backgroundcolor": "#E5ECF6",
            "gridcolor": "white",
            "gridwidth": 2,
            "linecolor": "white",
            "showbackground": true,
            "ticks": "",
            "zerolinecolor": "white"
           },
           "zaxis": {
            "backgroundcolor": "#E5ECF6",
            "gridcolor": "white",
            "gridwidth": 2,
            "linecolor": "white",
            "showbackground": true,
            "ticks": "",
            "zerolinecolor": "white"
           }
          },
          "shapedefaults": {
           "line": {
            "color": "#2a3f5f"
           }
          },
          "ternary": {
           "aaxis": {
            "gridcolor": "white",
            "linecolor": "white",
            "ticks": ""
           },
           "baxis": {
            "gridcolor": "white",
            "linecolor": "white",
            "ticks": ""
           },
           "bgcolor": "#E5ECF6",
           "caxis": {
            "gridcolor": "white",
            "linecolor": "white",
            "ticks": ""
           }
          },
          "title": {
           "x": 0.05
          },
          "xaxis": {
           "automargin": true,
           "gridcolor": "white",
           "linecolor": "white",
           "ticks": "",
           "title": {
            "standoff": 15
           },
           "zerolinecolor": "white",
           "zerolinewidth": 2
          },
          "yaxis": {
           "automargin": true,
           "gridcolor": "white",
           "linecolor": "white",
           "ticks": "",
           "title": {
            "standoff": 15
           },
           "zerolinecolor": "white",
           "zerolinewidth": 2
          }
         }
        },
        "title": {
         "text": "Impact of COVID-19 on Different Sectors in France"
        },
        "xaxis": {
         "anchor": "y",
         "domain": [
          0,
          0.94
         ],
         "matches": "x3",
         "showticklabels": false
        },
        "xaxis2": {
         "anchor": "y3",
         "domain": [
          0,
          0.94
         ],
         "matches": "x3",
         "showticklabels": false
        },
        "xaxis3": {
         "anchor": "y5",
         "domain": [
          0,
          0.94
         ]
        },
        "yaxis": {
         "anchor": "x",
         "domain": [
          0.7333333333333334,
          1
         ]
        },
        "yaxis2": {
         "anchor": "x",
         "overlaying": "y",
         "side": "right"
        },
        "yaxis3": {
         "anchor": "x2",
         "domain": [
          0.3666666666666667,
          0.6333333333333333
         ]
        },
        "yaxis4": {
         "anchor": "x2",
         "overlaying": "y3",
         "side": "right"
        },
        "yaxis5": {
         "anchor": "x3",
         "domain": [
          0,
          0.26666666666666666
         ]
        },
        "yaxis6": {
         "anchor": "x3",
         "overlaying": "y5",
         "side": "right"
        }
       }
      }
     },
     "metadata": {},
     "output_type": "display_data"
    }
   ],
   "source": [
    "fig = make_subplots(rows=3, cols=1,\n",
    "                    shared_xaxes=True,\n",
    "                    subplot_titles=('Air passenger vs Emissions', 'Air passenger vs Tourism', 'Air passenger vs Freight'),\n",
    "                    vertical_spacing=0.1,\n",
    "                    specs=[[{'secondary_y': True}],\n",
    "                           [{'secondary_y': True}],\n",
    "                           [{'secondary_y': True}]])\n",
    "\n",
    "# For Traffic vs Emissions\n",
    "fig.add_trace(go.Scatter(\n",
    "    x=traffic_FR['TIME_PERIOD'],\n",
    "    y=traffic_FR['OBS_VALUE'],\n",
    "    name='Air passenger',\n",
    "    line=dict(color='blue'),\n",
    "), row=1, col=1, secondary_y=True)\n",
    "\n",
    "fig.add_trace(go.Scatter(\n",
    "    x=emissions_FR['TIME_PERIOD'],\n",
    "    y=emissions_FR['OBS_VALUE'],\n",
    "    name=\"Emissions (NO_2)\",\n",
    "    line=dict(color='green'),\n",
    "), row=1, col=1, secondary_y=False)\n",
    "\n",
    "# For Traffic vs Tourism\n",
    "fig.add_trace(go.Scatter(\n",
    "    x=traffic_FR['TIME_PERIOD'],\n",
    "    y=traffic_FR['OBS_VALUE'],\n",
    "    showlegend=False,  \n",
    "    line=dict(color='blue'),\n",
    "), row=2, col=1, secondary_y=True)\n",
    "\n",
    "fig.add_trace(go.Scatter(\n",
    "    x=tourism_FR['TIME_PERIOD'],\n",
    "    y=tourism_FR['OBS_VALUE'],\n",
    "    name='Tourism',\n",
    "    line=dict(color='red'),\n",
    "), row=2, col=1, secondary_y=False)\n",
    "\n",
    "# For Traffic vs Freight\n",
    "fig.add_trace(go.Scatter(\n",
    "    x=traffic_FR['TIME_PERIOD'],\n",
    "    y=traffic_FR['OBS_VALUE'],\n",
    "    showlegend=False, \n",
    "    line=dict(color='blue'),\n",
    "), row=3, col=1, secondary_y=True)\n",
    "\n",
    "fig.add_trace(go.Scatter(\n",
    "    x=supply_FR['TIME_PERIOD'],\n",
    "    y=supply_FR['OBS_VALUE'],\n",
    "    name='Freight NL',\n",
    "    line=dict(color='black'),\n",
    "), row=3, col=1, secondary_y=False)\n",
    "\n",
    "fig.update_layout(\n",
    "    title_text='Impact of COVID-19 on Different Sectors in France',\n",
    "    height=900 \n",
    ")\n",
    "\n",
    "fig.add_vline(x='2020-02', line_width=2, line_color='red', line_dash='dot')\n",
    "fig.add_annotation(\n",
    "    dict(\n",
    "        x='2020-02-01',\n",
    "        y=1.05,  \n",
    "        xref='x',\n",
    "        yref='paper',\n",
    "        text='Begin COVID-19',  \n",
    "        showarrow=False,\n",
    "        font=dict(\n",
    "            family='Courier New, monospace',\n",
    "            size=16,\n",
    "            color='red'\n",
    "        ),\n",
    "        ax=0,  \n",
    "        ay=0\n",
    "    )\n",
    ")\n",
    "\n",
    "fig.show()\n"
   ]
  },
  {
   "cell_type": "code",
   "execution_count": 89,
   "metadata": {},
   "outputs": [
    {
     "data": {
      "image/png": "[encoded data removed]",
      "text/plain": [
       "<Figure size 1000x800 with 2 Axes>"
      ]
     },
     "metadata": {},
     "output_type": "display_data"
    }
   ],
   "source": [
    "# Merge the dataframes based on the TIME_PERIOD column\n",
    "merged_FR = traffic_FR[['TIME_PERIOD', 'OBS_VALUE']].rename(columns={'OBS_VALUE': 'Traffic'})\n",
    "merged_FR = pd.merge(merged_FR, emissions_FR[['TIME_PERIOD', 'OBS_VALUE']], on='TIME_PERIOD', how='left').rename(columns={'OBS_VALUE': 'Emissions'})\n",
    "merged_FR = pd.merge(merged_FR, tourism_FR[['TIME_PERIOD', 'OBS_VALUE']], on='TIME_PERIOD', how='left').rename(columns={'OBS_VALUE': 'Tourism'})\n",
    "merged_FR = pd.merge(merged_FR, supply_FR[['TIME_PERIOD', 'OBS_VALUE']], on='TIME_PERIOD', how='left').rename(columns={'OBS_VALUE': 'Supply'})\n",
    "\n",
    "corr = merged_FR.drop(columns='TIME_PERIOD').corr()\n",
    "\n",
    "mask = np.triu(np.ones_like(corr, dtype=bool))\n",
    "plt.figure(figsize=(10, 8))\n",
    "sns.heatmap(corr, mask=mask, cmap='coolwarm', vmax=1.0, vmin=-1.0, center=0,\n",
    "            square=True, linewidths=.5, cbar_kws={\"shrink\": .5}, annot=True)\n",
    "plt.title('Correlation Heatmap for Traffic, Emission, Tourism, and Supply in France')\n",
    "plt.show()\n"
   ]
  },
  {
   "cell_type": "markdown",
   "metadata": {},
   "source": [
    "### Spain"
   ]
  },
  {
   "cell_type": "code",
   "execution_count": null,
   "metadata": {},
   "outputs": [],
   "source": []
  }
 ],
 "metadata": {
  "kernelspec": {
   "display_name": "Python 3",
   "language": "python",
   "name": "python3"
  },
  "language_info": {
   "codemirror_mode": {
    "name": "ipython",
    "version": 3
   },
   "file_extension": ".py",
   "mimetype": "text/x-python",
   "name": "python",
   "nbconvert_exporter": "python",
   "pygments_lexer": "ipython3",
   "version": "3.10.7"
  }
 },
 "nbformat": 4,
 "nbformat_minor": 2
}

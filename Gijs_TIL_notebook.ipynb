{
 "cells": [
  {
   "cell_type": "code",
   "execution_count": 295,
   "metadata": {},
   "outputs": [],
   "source": [
    "import pandas as pd\n",
    "import matplotlib.pyplot as plt\n",
    "import seaborn as sns\n",
    "import plotly\n",
    "import plotly.express as px\n",
    "import plotly.graph_objects as go\n",
    "from pycountry import countries\n",
    "import numpy as np\n",
    "from plotly.subplots import make_subplots\n",
    "import statsmodels.api as sm\n",
    "import pingouin as pg\n"
   ]
  },
  {
   "cell_type": "code",
   "execution_count": 296,
   "metadata": {},
   "outputs": [],
   "source": [
    "# Emissions data is CO2 emissions, traffic the total passengers, Tourism the Nights spent at tourist accommodation establishments, \n",
    "# and aviation the total freight and mail on board exported monthly\n",
    "\n",
    "emissions = pd.read_csv('Datasets/emissions.csv')\n",
    "traffic = pd.read_csv('Datasets/air_passengers.csv')\n",
    "tourism = pd.read_csv('Datasets/tourism.csv')\n",
    "supply = pd.read_csv('Datasets/aviation_freight.csv')"
   ]
  },
  {
   "cell_type": "markdown",
   "metadata": {},
   "source": [
    "### Schiphol, Luxembourg"
   ]
  },
  {
   "cell_type": "code",
   "execution_count": 297,
   "metadata": {},
   "outputs": [],
   "source": [
    "traffic_LU = traffic[\n",
    "    (traffic['geo'] == 'LU') &\n",
    "    (traffic['tra_meas'] == 'PAS_BRD') &\n",
    "    (traffic['TIME_PERIOD'] >= '2019-02')                   \n",
    "]\n",
    "\n",
    "emissions_LU = emissions[\n",
    "    (emissions['geo'] == 'LU_CAP') &\n",
    "    (emissions['TIME_PERIOD'] >= '2019-02')\n",
    "]\n",
    "\n",
    "tourism_LU = tourism[\n",
    "    (tourism['geo'] == 'LU') &\n",
    "    (tourism['unit'] == 'NR') &\n",
    "    (tourism['nace_r2'] == 'I551') &\n",
    "    (tourism['c_resid'] == 'TOTAL') &\n",
    "    (tourism['TIME_PERIOD'] >= '2019-02')\n",
    "]\n",
    "\n",
    "supply_LU = supply[\n",
    "    (supply['geo'] == 'LU') &\n",
    "    (supply['tra_meas'] == 'FRM_BRD') & \n",
    "    (supply['TIME_PERIOD'] >= '2019-02')\n",
    "]"
   ]
  },
  {
   "cell_type": "code",
   "execution_count": 298,
   "metadata": {},
   "outputs": [
    {
     "data": {
      "application/vnd.plotly.v1+json": {
       "config": {
        "plotlyServerURL": "https://plot.ly"
       },
       "data": [
        {
         "line": {
          "color": "blue"
         },
         "name": "Air passenger",
         "type": "scatter",
         "x": [
          "2019-02",
          "2019-03",
          "2019-04",
          "2019-05",
          "2019-06",
          "2019-07",
          "2019-08",
          "2019-09",
          "2019-10",
          "2019-11",
          "2019-12",
          "2020-01",
          "2020-02",
          "2020-03",
          "2020-04",
          "2020-05",
          "2020-06",
          "2020-07",
          "2020-08",
          "2020-09",
          "2020-10",
          "2020-11",
          "2020-12",
          "2021-01",
          "2021-02",
          "2021-03",
          "2021-04",
          "2021-05",
          "2021-06",
          "2021-07",
          "2021-08",
          "2021-09",
          "2021-10",
          "2021-11",
          "2021-12",
          "2022-01",
          "2022-02",
          "2022-03",
          "2022-04",
          "2022-05",
          "2022-06",
          "2022-07",
          "2022-08",
          "2022-09",
          "2022-10",
          "2022-11",
          "2022-12",
          "2023-01",
          "2023-02",
          "2023-03",
          "2023-04",
          "2023-05",
          "2023-06",
          "2023-07",
          "2023-08"
         ],
         "xaxis": "x",
         "y": [
          267687,
          320896,
          384281,
          393188,
          407702,
          424944,
          420265,
          415421,
          403270,
          331381,
          337577,
          289001,
          295954,
          128453,
          26,
          1808,
          35431,
          131572,
          179683,
          129455,
          101783,
          54385,
          78632,
          60694,
          35916,
          43949,
          83046,
          113698,
          148716,
          235342,
          292825,
          264853,
          272249,
          227867,
          224208,
          147270,
          192952,
          241861,
          346651,
          386571,
          407052,
          434592,
          446792,
          420012,
          397250,
          312265,
          323858,
          281619,
          296006,
          345089,
          412930,
          443645,
          442257,
          469937,
          490650
         ],
         "yaxis": "y2"
        },
        {
         "line": {
          "color": "green"
         },
         "name": "Emissions (NO_2)",
         "type": "scatter",
         "x": [
          "2019-02",
          "2019-03",
          "2019-04",
          "2019-05",
          "2019-06",
          "2019-07",
          "2019-08",
          "2019-09",
          "2019-10",
          "2019-11",
          "2019-12",
          "2020-01",
          "2020-02",
          "2020-03",
          "2020-04",
          "2020-05",
          "2020-06",
          "2020-07",
          "2020-08",
          "2020-09",
          "2020-10",
          "2020-11",
          "2020-12",
          "2021-01",
          "2021-02",
          "2021-03",
          "2021-04",
          "2021-05",
          "2021-06",
          "2021-07",
          "2021-08",
          "2021-09",
          "2021-10",
          "2021-11",
          "2021-12",
          "2022-01",
          "2022-02",
          "2022-03",
          "2022-04",
          "2022-05",
          "2022-06",
          "2022-07",
          "2022-08",
          "2022-09",
          "2022-10",
          "2022-11",
          "2022-12",
          "2023-01",
          "2023-02",
          "2023-03",
          "2023-04",
          "2023-05",
          "2023-06",
          "2023-07",
          "2023-08"
         ],
         "xaxis": "x",
         "y": [
          45.6,
          31.4,
          29.6,
          23.8,
          23.3,
          23.8,
          23.8,
          26,
          25,
          31.3,
          29.4,
          28.7,
          26.8,
          21,
          18.1,
          17,
          18.1,
          18.1,
          18,
          28.1,
          22.6,
          28.7,
          24.3,
          25.6,
          26.9,
          27.3,
          20.2,
          15.9,
          18.8,
          17.5,
          14.3,
          22.2,
          23.2,
          25.2,
          25,
          24.7,
          20.7,
          30.1,
          20,
          17.4,
          17.5,
          17.7,
          17.4,
          20.4,
          22.7,
          22,
          23.9,
          17.9,
          26.8,
          25.4,
          19,
          15.7,
          17.5,
          14.4,
          13.6
         ],
         "yaxis": "y"
        },
        {
         "line": {
          "color": "blue"
         },
         "showlegend": false,
         "type": "scatter",
         "x": [
          "2019-02",
          "2019-03",
          "2019-04",
          "2019-05",
          "2019-06",
          "2019-07",
          "2019-08",
          "2019-09",
          "2019-10",
          "2019-11",
          "2019-12",
          "2020-01",
          "2020-02",
          "2020-03",
          "2020-04",
          "2020-05",
          "2020-06",
          "2020-07",
          "2020-08",
          "2020-09",
          "2020-10",
          "2020-11",
          "2020-12",
          "2021-01",
          "2021-02",
          "2021-03",
          "2021-04",
          "2021-05",
          "2021-06",
          "2021-07",
          "2021-08",
          "2021-09",
          "2021-10",
          "2021-11",
          "2021-12",
          "2022-01",
          "2022-02",
          "2022-03",
          "2022-04",
          "2022-05",
          "2022-06",
          "2022-07",
          "2022-08",
          "2022-09",
          "2022-10",
          "2022-11",
          "2022-12",
          "2023-01",
          "2023-02",
          "2023-03",
          "2023-04",
          "2023-05",
          "2023-06",
          "2023-07",
          "2023-08"
         ],
         "xaxis": "x2",
         "y": [
          267687,
          320896,
          384281,
          393188,
          407702,
          424944,
          420265,
          415421,
          403270,
          331381,
          337577,
          289001,
          295954,
          128453,
          26,
          1808,
          35431,
          131572,
          179683,
          129455,
          101783,
          54385,
          78632,
          60694,
          35916,
          43949,
          83046,
          113698,
          148716,
          235342,
          292825,
          264853,
          272249,
          227867,
          224208,
          147270,
          192952,
          241861,
          346651,
          386571,
          407052,
          434592,
          446792,
          420012,
          397250,
          312265,
          323858,
          281619,
          296006,
          345089,
          412930,
          443645,
          442257,
          469937,
          490650
         ],
         "yaxis": "y4"
        },
        {
         "line": {
          "color": "red"
         },
         "name": "Tourism",
         "type": "scatter",
         "x": [
          "2019-02",
          "2019-03",
          "2019-04",
          "2019-05",
          "2019-06",
          "2019-07",
          "2019-08",
          "2019-09",
          "2019-10",
          "2019-11",
          "2019-12",
          "2020-01",
          "2020-02",
          "2020-03",
          "2020-04",
          "2020-05",
          "2020-06",
          "2020-07",
          "2020-08",
          "2020-09",
          "2020-10",
          "2020-11",
          "2020-12",
          "2021-01",
          "2021-02",
          "2021-03",
          "2021-04",
          "2021-05",
          "2021-06",
          "2021-07",
          "2021-08",
          "2021-09",
          "2021-10",
          "2021-11",
          "2021-12",
          "2022-01",
          "2022-02",
          "2022-03",
          "2022-04",
          "2022-05",
          "2022-06",
          "2022-07",
          "2022-08",
          "2022-09",
          "2022-10",
          "2022-11",
          "2022-12",
          "2023-01",
          "2023-02",
          "2023-03",
          "2023-04",
          "2023-05",
          "2023-06",
          "2023-07"
         ],
         "xaxis": "x2",
         "y": [
          113587,
          137919,
          130801,
          140075,
          162121,
          142506,
          159260,
          153436,
          151362,
          132456,
          115794,
          108279,
          102674,
          57725,
          4827,
          7312,
          49383,
          80293,
          98734,
          90673,
          92424,
          79246,
          68853,
          39161,
          44140,
          48097,
          57215,
          79832,
          84126,
          109584,
          122786,
          122169,
          124383,
          105333,
          96173,
          70055,
          83343,
          117248,
          129863,
          149629,
          149168,
          168530,
          163851,
          150731,
          153816,
          134697,
          125558,
          92909,
          97454,
          119230,
          142798,
          147992,
          145066,
          160798
         ],
         "yaxis": "y3"
        },
        {
         "line": {
          "color": "blue"
         },
         "showlegend": false,
         "type": "scatter",
         "x": [
          "2019-02",
          "2019-03",
          "2019-04",
          "2019-05",
          "2019-06",
          "2019-07",
          "2019-08",
          "2019-09",
          "2019-10",
          "2019-11",
          "2019-12",
          "2020-01",
          "2020-02",
          "2020-03",
          "2020-04",
          "2020-05",
          "2020-06",
          "2020-07",
          "2020-08",
          "2020-09",
          "2020-10",
          "2020-11",
          "2020-12",
          "2021-01",
          "2021-02",
          "2021-03",
          "2021-04",
          "2021-05",
          "2021-06",
          "2021-07",
          "2021-08",
          "2021-09",
          "2021-10",
          "2021-11",
          "2021-12",
          "2022-01",
          "2022-02",
          "2022-03",
          "2022-04",
          "2022-05",
          "2022-06",
          "2022-07",
          "2022-08",
          "2022-09",
          "2022-10",
          "2022-11",
          "2022-12",
          "2023-01",
          "2023-02",
          "2023-03",
          "2023-04",
          "2023-05",
          "2023-06",
          "2023-07",
          "2023-08"
         ],
         "xaxis": "x3",
         "y": [
          267687,
          320896,
          384281,
          393188,
          407702,
          424944,
          420265,
          415421,
          403270,
          331381,
          337577,
          289001,
          295954,
          128453,
          26,
          1808,
          35431,
          131572,
          179683,
          129455,
          101783,
          54385,
          78632,
          60694,
          35916,
          43949,
          83046,
          113698,
          148716,
          235342,
          292825,
          264853,
          272249,
          227867,
          224208,
          147270,
          192952,
          241861,
          346651,
          386571,
          407052,
          434592,
          446792,
          420012,
          397250,
          312265,
          323858,
          281619,
          296006,
          345089,
          412930,
          443645,
          442257,
          469937,
          490650
         ],
         "yaxis": "y6"
        },
        {
         "line": {
          "color": "black"
         },
         "name": "Freight NL",
         "type": "scatter",
         "x": [
          "2019-02",
          "2019-03",
          "2019-04",
          "2019-05",
          "2019-06",
          "2019-07",
          "2019-08",
          "2019-09",
          "2019-10",
          "2019-11",
          "2019-12",
          "2020-01",
          "2020-02",
          "2020-03",
          "2020-04",
          "2020-05",
          "2020-06",
          "2020-07",
          "2020-08",
          "2020-09",
          "2020-10",
          "2020-11",
          "2020-12",
          "2021-01",
          "2021-02",
          "2021-03",
          "2021-04",
          "2021-05",
          "2021-06",
          "2021-07",
          "2021-08",
          "2021-09",
          "2021-10",
          "2021-11",
          "2021-12",
          "2022-01",
          "2022-02",
          "2022-03",
          "2022-04",
          "2022-05",
          "2022-06",
          "2022-07",
          "2022-08",
          "2022-09",
          "2022-10",
          "2022-11",
          "2022-12",
          "2023-01",
          "2023-02",
          "2023-03",
          "2023-04",
          "2023-05",
          "2023-06",
          "2023-07",
          "2023-08"
         ],
         "xaxis": "x3",
         "y": [
          58043,
          76393,
          67274,
          68931,
          66857,
          68943,
          69511,
          71319,
          74620,
          85552,
          82935,
          60761,
          57725,
          79147,
          71846,
          76048,
          71931,
          71681,
          70660,
          70055,
          88397,
          92550,
          94613,
          85524,
          80764,
          99005,
          93447,
          95231,
          89873,
          91647,
          85396,
          85585,
          94963,
          91977,
          95366,
          87004,
          74290,
          95177,
          80692,
          83436,
          80645,
          81133,
          77676,
          75962,
          80002,
          78710,
          74978,
          57913,
          61900,
          76229,
          69838,
          64681,
          64998,
          67410,
          59641
         ],
         "yaxis": "y5"
        }
       ],
       "layout": {
        "annotations": [
         {
          "font": {
           "size": 16
          },
          "showarrow": false,
          "text": "Air passenger vs Emissions",
          "x": 0.47,
          "xanchor": "center",
          "xref": "paper",
          "y": 1,
          "yanchor": "bottom",
          "yref": "paper"
         },
         {
          "font": {
           "size": 16
          },
          "showarrow": false,
          "text": "Air passenger vs Tourism",
          "x": 0.47,
          "xanchor": "center",
          "xref": "paper",
          "y": 0.6333333333333333,
          "yanchor": "bottom",
          "yref": "paper"
         },
         {
          "font": {
           "size": 16
          },
          "showarrow": false,
          "text": "Air passenger vs Freight",
          "x": 0.47,
          "xanchor": "center",
          "xref": "paper",
          "y": 0.26666666666666666,
          "yanchor": "bottom",
          "yref": "paper"
         },
         {
          "ax": 0,
          "ay": 0,
          "font": {
           "color": "red",
           "family": "Courier New, monospace",
           "size": 16
          },
          "showarrow": false,
          "text": "Begin COVID-19",
          "x": "2020-02-01",
          "xref": "x",
          "y": 1.05,
          "yref": "paper"
         }
        ],
        "height": 900,
        "shapes": [
         {
          "line": {
           "color": "red",
           "dash": "dot",
           "width": 2
          },
          "type": "line",
          "x0": "2020-02",
          "x1": "2020-02",
          "xref": "x",
          "y0": 0,
          "y1": 1,
          "yref": "y domain"
         },
         {
          "line": {
           "color": "red",
           "dash": "dot",
           "width": 2
          },
          "type": "line",
          "x0": "2020-02",
          "x1": "2020-02",
          "xref": "x2",
          "y0": 0,
          "y1": 1,
          "yref": "y3 domain"
         },
         {
          "line": {
           "color": "red",
           "dash": "dot",
           "width": 2
          },
          "type": "line",
          "x0": "2020-02",
          "x1": "2020-02",
          "xref": "x3",
          "y0": 0,
          "y1": 1,
          "yref": "y5 domain"
         }
        ],
        "template": {
         "data": {
          "bar": [
           {
            "error_x": {
             "color": "#2a3f5f"
            },
            "error_y": {
             "color": "#2a3f5f"
            },
            "marker": {
             "line": {
              "color": "#E5ECF6",
              "width": 0.5
             },
             "pattern": {
              "fillmode": "overlay",
              "size": 10,
              "solidity": 0.2
             }
            },
            "type": "bar"
           }
          ],
          "barpolar": [
           {
            "marker": {
             "line": {
              "color": "#E5ECF6",
              "width": 0.5
             },
             "pattern": {
              "fillmode": "overlay",
              "size": 10,
              "solidity": 0.2
             }
            },
            "type": "barpolar"
           }
          ],
          "carpet": [
           {
            "aaxis": {
             "endlinecolor": "#2a3f5f",
             "gridcolor": "white",
             "linecolor": "white",
             "minorgridcolor": "white",
             "startlinecolor": "#2a3f5f"
            },
            "baxis": {
             "endlinecolor": "#2a3f5f",
             "gridcolor": "white",
             "linecolor": "white",
             "minorgridcolor": "white",
             "startlinecolor": "#2a3f5f"
            },
            "type": "carpet"
           }
          ],
          "choropleth": [
           {
            "colorbar": {
             "outlinewidth": 0,
             "ticks": ""
            },
            "type": "choropleth"
           }
          ],
          "contour": [
           {
            "colorbar": {
             "outlinewidth": 0,
             "ticks": ""
            },
            "colorscale": [
             [
              0,
              "#0d0887"
             ],
             [
              0.1111111111111111,
              "#46039f"
             ],
             [
              0.2222222222222222,
              "#7201a8"
             ],
             [
              0.3333333333333333,
              "#9c179e"
             ],
             [
              0.4444444444444444,
              "#bd3786"
             ],
             [
              0.5555555555555556,
              "#d8576b"
             ],
             [
              0.6666666666666666,
              "#ed7953"
             ],
             [
              0.7777777777777778,
              "#fb9f3a"
             ],
             [
              0.8888888888888888,
              "#fdca26"
             ],
             [
              1,
              "#f0f921"
             ]
            ],
            "type": "contour"
           }
          ],
          "contourcarpet": [
           {
            "colorbar": {
             "outlinewidth": 0,
             "ticks": ""
            },
            "type": "contourcarpet"
           }
          ],
          "heatmap": [
           {
            "colorbar": {
             "outlinewidth": 0,
             "ticks": ""
            },
            "colorscale": [
             [
              0,
              "#0d0887"
             ],
             [
              0.1111111111111111,
              "#46039f"
             ],
             [
              0.2222222222222222,
              "#7201a8"
             ],
             [
              0.3333333333333333,
              "#9c179e"
             ],
             [
              0.4444444444444444,
              "#bd3786"
             ],
             [
              0.5555555555555556,
              "#d8576b"
             ],
             [
              0.6666666666666666,
              "#ed7953"
             ],
             [
              0.7777777777777778,
              "#fb9f3a"
             ],
             [
              0.8888888888888888,
              "#fdca26"
             ],
             [
              1,
              "#f0f921"
             ]
            ],
            "type": "heatmap"
           }
          ],
          "heatmapgl": [
           {
            "colorbar": {
             "outlinewidth": 0,
             "ticks": ""
            },
            "colorscale": [
             [
              0,
              "#0d0887"
             ],
             [
              0.1111111111111111,
              "#46039f"
             ],
             [
              0.2222222222222222,
              "#7201a8"
             ],
             [
              0.3333333333333333,
              "#9c179e"
             ],
             [
              0.4444444444444444,
              "#bd3786"
             ],
             [
              0.5555555555555556,
              "#d8576b"
             ],
             [
              0.6666666666666666,
              "#ed7953"
             ],
             [
              0.7777777777777778,
              "#fb9f3a"
             ],
             [
              0.8888888888888888,
              "#fdca26"
             ],
             [
              1,
              "#f0f921"
             ]
            ],
            "type": "heatmapgl"
           }
          ],
          "histogram": [
           {
            "marker": {
             "pattern": {
              "fillmode": "overlay",
              "size": 10,
              "solidity": 0.2
             }
            },
            "type": "histogram"
           }
          ],
          "histogram2d": [
           {
            "colorbar": {
             "outlinewidth": 0,
             "ticks": ""
            },
            "colorscale": [
             [
              0,
              "#0d0887"
             ],
             [
              0.1111111111111111,
              "#46039f"
             ],
             [
              0.2222222222222222,
              "#7201a8"
             ],
             [
              0.3333333333333333,
              "#9c179e"
             ],
             [
              0.4444444444444444,
              "#bd3786"
             ],
             [
              0.5555555555555556,
              "#d8576b"
             ],
             [
              0.6666666666666666,
              "#ed7953"
             ],
             [
              0.7777777777777778,
              "#fb9f3a"
             ],
             [
              0.8888888888888888,
              "#fdca26"
             ],
             [
              1,
              "#f0f921"
             ]
            ],
            "type": "histogram2d"
           }
          ],
          "histogram2dcontour": [
           {
            "colorbar": {
             "outlinewidth": 0,
             "ticks": ""
            },
            "colorscale": [
             [
              0,
              "#0d0887"
             ],
             [
              0.1111111111111111,
              "#46039f"
             ],
             [
              0.2222222222222222,
              "#7201a8"
             ],
             [
              0.3333333333333333,
              "#9c179e"
             ],
             [
              0.4444444444444444,
              "#bd3786"
             ],
             [
              0.5555555555555556,
              "#d8576b"
             ],
             [
              0.6666666666666666,
              "#ed7953"
             ],
             [
              0.7777777777777778,
              "#fb9f3a"
             ],
             [
              0.8888888888888888,
              "#fdca26"
             ],
             [
              1,
              "#f0f921"
             ]
            ],
            "type": "histogram2dcontour"
           }
          ],
          "mesh3d": [
           {
            "colorbar": {
             "outlinewidth": 0,
             "ticks": ""
            },
            "type": "mesh3d"
           }
          ],
          "parcoords": [
           {
            "line": {
             "colorbar": {
              "outlinewidth": 0,
              "ticks": ""
             }
            },
            "type": "parcoords"
           }
          ],
          "pie": [
           {
            "automargin": true,
            "type": "pie"
           }
          ],
          "scatter": [
           {
            "fillpattern": {
             "fillmode": "overlay",
             "size": 10,
             "solidity": 0.2
            },
            "type": "scatter"
           }
          ],
          "scatter3d": [
           {
            "line": {
             "colorbar": {
              "outlinewidth": 0,
              "ticks": ""
             }
            },
            "marker": {
             "colorbar": {
              "outlinewidth": 0,
              "ticks": ""
             }
            },
            "type": "scatter3d"
           }
          ],
          "scattercarpet": [
           {
            "marker": {
             "colorbar": {
              "outlinewidth": 0,
              "ticks": ""
             }
            },
            "type": "scattercarpet"
           }
          ],
          "scattergeo": [
           {
            "marker": {
             "colorbar": {
              "outlinewidth": 0,
              "ticks": ""
             }
            },
            "type": "scattergeo"
           }
          ],
          "scattergl": [
           {
            "marker": {
             "colorbar": {
              "outlinewidth": 0,
              "ticks": ""
             }
            },
            "type": "scattergl"
           }
          ],
          "scattermapbox": [
           {
            "marker": {
             "colorbar": {
              "outlinewidth": 0,
              "ticks": ""
             }
            },
            "type": "scattermapbox"
           }
          ],
          "scatterpolar": [
           {
            "marker": {
             "colorbar": {
              "outlinewidth": 0,
              "ticks": ""
             }
            },
            "type": "scatterpolar"
           }
          ],
          "scatterpolargl": [
           {
            "marker": {
             "colorbar": {
              "outlinewidth": 0,
              "ticks": ""
             }
            },
            "type": "scatterpolargl"
           }
          ],
          "scatterternary": [
           {
            "marker": {
             "colorbar": {
              "outlinewidth": 0,
              "ticks": ""
             }
            },
            "type": "scatterternary"
           }
          ],
          "surface": [
           {
            "colorbar": {
             "outlinewidth": 0,
             "ticks": ""
            },
            "colorscale": [
             [
              0,
              "#0d0887"
             ],
             [
              0.1111111111111111,
              "#46039f"
             ],
             [
              0.2222222222222222,
              "#7201a8"
             ],
             [
              0.3333333333333333,
              "#9c179e"
             ],
             [
              0.4444444444444444,
              "#bd3786"
             ],
             [
              0.5555555555555556,
              "#d8576b"
             ],
             [
              0.6666666666666666,
              "#ed7953"
             ],
             [
              0.7777777777777778,
              "#fb9f3a"
             ],
             [
              0.8888888888888888,
              "#fdca26"
             ],
             [
              1,
              "#f0f921"
             ]
            ],
            "type": "surface"
           }
          ],
          "table": [
           {
            "cells": {
             "fill": {
              "color": "#EBF0F8"
             },
             "line": {
              "color": "white"
             }
            },
            "header": {
             "fill": {
              "color": "#C8D4E3"
             },
             "line": {
              "color": "white"
             }
            },
            "type": "table"
           }
          ]
         },
         "layout": {
          "annotationdefaults": {
           "arrowcolor": "#2a3f5f",
           "arrowhead": 0,
           "arrowwidth": 1
          },
          "autotypenumbers": "strict",
          "coloraxis": {
           "colorbar": {
            "outlinewidth": 0,
            "ticks": ""
           }
          },
          "colorscale": {
           "diverging": [
            [
             0,
             "#8e0152"
            ],
            [
             0.1,
             "#c51b7d"
            ],
            [
             0.2,
             "#de77ae"
            ],
            [
             0.3,
             "#f1b6da"
            ],
            [
             0.4,
             "#fde0ef"
            ],
            [
             0.5,
             "#f7f7f7"
            ],
            [
             0.6,
             "#e6f5d0"
            ],
            [
             0.7,
             "#b8e186"
            ],
            [
             0.8,
             "#7fbc41"
            ],
            [
             0.9,
             "#4d9221"
            ],
            [
             1,
             "#276419"
            ]
           ],
           "sequential": [
            [
             0,
             "#0d0887"
            ],
            [
             0.1111111111111111,
             "#46039f"
            ],
            [
             0.2222222222222222,
             "#7201a8"
            ],
            [
             0.3333333333333333,
             "#9c179e"
            ],
            [
             0.4444444444444444,
             "#bd3786"
            ],
            [
             0.5555555555555556,
             "#d8576b"
            ],
            [
             0.6666666666666666,
             "#ed7953"
            ],
            [
             0.7777777777777778,
             "#fb9f3a"
            ],
            [
             0.8888888888888888,
             "#fdca26"
            ],
            [
             1,
             "#f0f921"
            ]
           ],
           "sequentialminus": [
            [
             0,
             "#0d0887"
            ],
            [
             0.1111111111111111,
             "#46039f"
            ],
            [
             0.2222222222222222,
             "#7201a8"
            ],
            [
             0.3333333333333333,
             "#9c179e"
            ],
            [
             0.4444444444444444,
             "#bd3786"
            ],
            [
             0.5555555555555556,
             "#d8576b"
            ],
            [
             0.6666666666666666,
             "#ed7953"
            ],
            [
             0.7777777777777778,
             "#fb9f3a"
            ],
            [
             0.8888888888888888,
             "#fdca26"
            ],
            [
             1,
             "#f0f921"
            ]
           ]
          },
          "colorway": [
           "#636efa",
           "#EF553B",
           "#00cc96",
           "#ab63fa",
           "#FFA15A",
           "#19d3f3",
           "#FF6692",
           "#B6E880",
           "#FF97FF",
           "#FECB52"
          ],
          "font": {
           "color": "#2a3f5f"
          },
          "geo": {
           "bgcolor": "white",
           "lakecolor": "white",
           "landcolor": "#E5ECF6",
           "showlakes": true,
           "showland": true,
           "subunitcolor": "white"
          },
          "hoverlabel": {
           "align": "left"
          },
          "hovermode": "closest",
          "mapbox": {
           "style": "light"
          },
          "paper_bgcolor": "white",
          "plot_bgcolor": "#E5ECF6",
          "polar": {
           "angularaxis": {
            "gridcolor": "white",
            "linecolor": "white",
            "ticks": ""
           },
           "bgcolor": "#E5ECF6",
           "radialaxis": {
            "gridcolor": "white",
            "linecolor": "white",
            "ticks": ""
           }
          },
          "scene": {
           "xaxis": {
            "backgroundcolor": "#E5ECF6",
            "gridcolor": "white",
            "gridwidth": 2,
            "linecolor": "white",
            "showbackground": true,
            "ticks": "",
            "zerolinecolor": "white"
           },
           "yaxis": {
            "backgroundcolor": "#E5ECF6",
            "gridcolor": "white",
            "gridwidth": 2,
            "linecolor": "white",
            "showbackground": true,
            "ticks": "",
            "zerolinecolor": "white"
           },
           "zaxis": {
            "backgroundcolor": "#E5ECF6",
            "gridcolor": "white",
            "gridwidth": 2,
            "linecolor": "white",
            "showbackground": true,
            "ticks": "",
            "zerolinecolor": "white"
           }
          },
          "shapedefaults": {
           "line": {
            "color": "#2a3f5f"
           }
          },
          "ternary": {
           "aaxis": {
            "gridcolor": "white",
            "linecolor": "white",
            "ticks": ""
           },
           "baxis": {
            "gridcolor": "white",
            "linecolor": "white",
            "ticks": ""
           },
           "bgcolor": "#E5ECF6",
           "caxis": {
            "gridcolor": "white",
            "linecolor": "white",
            "ticks": ""
           }
          },
          "title": {
           "x": 0.05
          },
          "xaxis": {
           "automargin": true,
           "gridcolor": "white",
           "linecolor": "white",
           "ticks": "",
           "title": {
            "standoff": 15
           },
           "zerolinecolor": "white",
           "zerolinewidth": 2
          },
          "yaxis": {
           "automargin": true,
           "gridcolor": "white",
           "linecolor": "white",
           "ticks": "",
           "title": {
            "standoff": 15
           },
           "zerolinecolor": "white",
           "zerolinewidth": 2
          }
         }
        },
        "title": {
         "text": "Impact of COVID-19 on Different Sectors in Luxembourg"
        },
        "xaxis": {
         "anchor": "y",
         "domain": [
          0,
          0.94
         ],
         "matches": "x3",
         "showticklabels": false
        },
        "xaxis2": {
         "anchor": "y3",
         "domain": [
          0,
          0.94
         ],
         "matches": "x3",
         "showticklabels": false
        },
        "xaxis3": {
         "anchor": "y5",
         "domain": [
          0,
          0.94
         ]
        },
        "yaxis": {
         "anchor": "x",
         "domain": [
          0.7333333333333334,
          1
         ]
        },
        "yaxis2": {
         "anchor": "x",
         "overlaying": "y",
         "side": "right"
        },
        "yaxis3": {
         "anchor": "x2",
         "domain": [
          0.3666666666666667,
          0.6333333333333333
         ]
        },
        "yaxis4": {
         "anchor": "x2",
         "overlaying": "y3",
         "side": "right"
        },
        "yaxis5": {
         "anchor": "x3",
         "domain": [
          0,
          0.26666666666666666
         ]
        },
        "yaxis6": {
         "anchor": "x3",
         "overlaying": "y5",
         "side": "right"
        }
       }
      }
     },
     "metadata": {},
     "output_type": "display_data"
    }
   ],
   "source": [
    "fig = make_subplots(rows=3, cols=1,\n",
    "                    shared_xaxes=True,\n",
    "                    subplot_titles=('Air passenger vs Emissions', 'Air passenger vs Tourism', 'Air passenger vs Freight'),\n",
    "                    vertical_spacing=0.1,\n",
    "                    specs=[[{'secondary_y': True}],\n",
    "                           [{'secondary_y': True}],\n",
    "                           [{'secondary_y': True}]])\n",
    "\n",
    "# For Traffic vs Emissions\n",
    "fig.add_trace(go.Scatter(\n",
    "    x=traffic_LU['TIME_PERIOD'],\n",
    "    y=traffic_LU['OBS_VALUE'],\n",
    "    name='Air passenger',\n",
    "    line=dict(color='blue'),\n",
    "), row=1, col=1, secondary_y=True)\n",
    "\n",
    "fig.add_trace(go.Scatter(\n",
    "    x=emissions_LU['TIME_PERIOD'],\n",
    "    y=emissions_LU['OBS_VALUE'],\n",
    "    name=\"Emissions (NO_2)\",\n",
    "    line=dict(color='green'),\n",
    "), row=1, col=1, secondary_y=False)\n",
    "\n",
    "# For Traffic vs Tourism\n",
    "fig.add_trace(go.Scatter(\n",
    "    x=traffic_LU['TIME_PERIOD'],\n",
    "    y=traffic_LU['OBS_VALUE'],\n",
    "    showlegend=False,  \n",
    "    line=dict(color='blue'),\n",
    "), row=2, col=1, secondary_y=True)\n",
    "\n",
    "fig.add_trace(go.Scatter(\n",
    "    x=tourism_LU['TIME_PERIOD'],\n",
    "    y=tourism_LU['OBS_VALUE'],\n",
    "    name='Tourism',\n",
    "    line=dict(color='red'),\n",
    "), row=2, col=1, secondary_y=False)\n",
    "\n",
    "# For Traffic vs Freight\n",
    "fig.add_trace(go.Scatter(\n",
    "    x=traffic_LU['TIME_PERIOD'],\n",
    "    y=traffic_LU['OBS_VALUE'],\n",
    "    showlegend=False, \n",
    "    line=dict(color='blue'),\n",
    "), row=3, col=1, secondary_y=True)\n",
    "\n",
    "fig.add_trace(go.Scatter(\n",
    "    x=supply_LU['TIME_PERIOD'],\n",
    "    y=supply_LU['OBS_VALUE'],\n",
    "    name='Freight NL',\n",
    "    line=dict(color='black'),\n",
    "), row=3, col=1, secondary_y=False)\n",
    "\n",
    "fig.update_layout(\n",
    "    title_text='Impact of COVID-19 on Different Sectors in Luxembourg',\n",
    "    height=900 \n",
    ")\n",
    "\n",
    "fig.add_vline(x='2020-02', line_width=2, line_color='red', line_dash='dot')\n",
    "fig.add_annotation(\n",
    "    dict(\n",
    "        x='2020-02-01',\n",
    "        y=1.05,  \n",
    "        xref='x',\n",
    "        yref='paper',\n",
    "        text='Begin COVID-19',  \n",
    "        showarrow=False,\n",
    "        font=dict(\n",
    "            family='Courier New, monospace',\n",
    "            size=16,\n",
    "            color='red'\n",
    "        ),\n",
    "        ax=0,  \n",
    "        ay=0\n",
    "    )\n",
    ")\n",
    "\n",
    "fig.show()\n"
   ]
  },
  {
   "cell_type": "code",
   "execution_count": 299,
   "metadata": {},
   "outputs": [
    {
     "data": {
      "image/png": "[encoded data removed]",
      "text/plain": [
       "<Figure size 1000x800 with 2 Axes>"
      ]
     },
     "metadata": {},
     "output_type": "display_data"
    }
   ],
   "source": [
    "# Merge the dataframes based on the TIME_PERIOD column\n",
    "merged_LU = traffic_LU[['TIME_PERIOD', 'OBS_VALUE']].rename(columns={'OBS_VALUE': 'Traffic'})\n",
    "merged_LU = pd.merge(merged_LU, emissions_LU[['TIME_PERIOD', 'OBS_VALUE']], on='TIME_PERIOD', how='left').rename(columns={'OBS_VALUE': 'Emissions'})\n",
    "merged_LU = pd.merge(merged_LU, tourism_LU[['TIME_PERIOD', 'OBS_VALUE']], on='TIME_PERIOD', how='left').rename(columns={'OBS_VALUE': 'Tourism'})\n",
    "merged_LU = pd.merge(merged_LU, supply_LU[['TIME_PERIOD', 'OBS_VALUE']], on='TIME_PERIOD', how='left').rename(columns={'OBS_VALUE': 'Supply'})\n",
    "\n",
    "corr = merged_LU.drop(columns='TIME_PERIOD').corr()\n",
    "\n",
    "mask = np.triu(np.ones_like(corr, dtype=bool))\n",
    "plt.figure(figsize=(10, 8))\n",
    "sns.heatmap(corr, mask=mask, cmap='coolwarm', vmax=1.0, vmin=-1.0, center=0,\n",
    "            square=True, linewidths=.5, cbar_kws={\"shrink\": .5}, annot=True)\n",
    "plt.title('Correlation Heatmap for Traffic, Emission, Tourism, and Supply in Luxembourg')\n",
    "plt.show()\n"
   ]
  },
  {
   "cell_type": "markdown",
   "metadata": {},
   "source": [
    "### Poland\n"
   ]
  },
  {
   "cell_type": "code",
   "execution_count": 300,
   "metadata": {},
   "outputs": [],
   "source": [
    "traffic_PL = traffic[\n",
    "    (traffic['geo'] == 'PL') &\n",
    "    (traffic['tra_meas'] == 'PAS_BRD') &\n",
    "    (traffic['TIME_PERIOD'] >= '2019-02')                   \n",
    "]\n",
    "\n",
    "emissions_PL = emissions[\n",
    "    (emissions['geo'] == 'PL_CAP') &\n",
    "    (emissions['TIME_PERIOD'] >= '2019-02')\n",
    "]\n",
    "\n",
    "tourism_PL = tourism[\n",
    "    (tourism['geo'] == 'PL') &\n",
    "    (tourism['unit'] == 'NR') &\n",
    "    (tourism['nace_r2'] == 'I551') &\n",
    "    (tourism['c_resid'] == 'TOTAL') &\n",
    "    (tourism['TIME_PERIOD'] >= '2019-02')\n",
    "]\n",
    "\n",
    "supply_PL = supply[\n",
    "    (supply['geo'] == 'PL') &\n",
    "    (supply['tra_meas'] == 'FRM_BRD') & \n",
    "    (supply['TIME_PERIOD'] >= '2019-02')\n",
    "]"
   ]
  },
  {
   "cell_type": "code",
   "execution_count": 301,
   "metadata": {},
   "outputs": [
    {
     "data": {
      "application/vnd.plotly.v1+json": {
       "config": {
        "plotlyServerURL": "https://plot.ly"
       },
       "data": [
        {
         "line": {
          "color": "blue"
         },
         "name": "Air passenger",
         "type": "scatter",
         "x": [
          "2019-02",
          "2019-03",
          "2019-04",
          "2019-05",
          "2019-06",
          "2019-07",
          "2019-08",
          "2019-09",
          "2019-10",
          "2019-11",
          "2019-12",
          "2020-01",
          "2020-02",
          "2020-03",
          "2020-04",
          "2020-05",
          "2020-06",
          "2020-07",
          "2020-08",
          "2020-09",
          "2020-10",
          "2020-11",
          "2020-12",
          "2021-01",
          "2021-02",
          "2021-03",
          "2021-04",
          "2021-05",
          "2021-06",
          "2021-07",
          "2021-08",
          "2021-09",
          "2021-10",
          "2021-11",
          "2021-12",
          "2022-01",
          "2022-02",
          "2022-03",
          "2022-04",
          "2022-05",
          "2022-06",
          "2022-07",
          "2022-08",
          "2022-09",
          "2022-10",
          "2022-11",
          "2022-12",
          "2023-01",
          "2023-02",
          "2023-03",
          "2023-04",
          "2023-05",
          "2023-06"
         ],
         "xaxis": "x",
         "y": [
          2827246,
          3210970,
          3601320,
          4172215,
          4648311,
          4991974,
          5050195,
          4736514,
          4072476,
          3398811,
          3377614,
          3243373,
          3110797,
          1209699,
          16962,
          10555,
          86142,
          1222945,
          1863299,
          1406953,
          836962,
          359060,
          484423,
          367529,
          261807,
          357901,
          431413,
          707792,
          1551462,
          2775774,
          3211572,
          2819072,
          2459229,
          2040673,
          1988347,
          1622563,
          1710885,
          2151440,
          2770479,
          3468217,
          4248526,
          4736602,
          4696865,
          4353210,
          3814328,
          2876446,
          2973753,
          2949180,
          2834985,
          3244453,
          3795083,
          4394123,
          5067020
         ],
         "yaxis": "y2"
        },
        {
         "line": {
          "color": "green"
         },
         "name": "Emissions (NO_2)",
         "type": "scatter",
         "x": [
          "2019-02",
          "2019-03",
          "2019-04",
          "2019-05",
          "2019-06",
          "2019-07",
          "2019-08",
          "2019-09",
          "2019-10",
          "2019-11",
          "2019-12",
          "2020-01",
          "2020-02",
          "2020-03",
          "2020-04",
          "2020-05",
          "2020-06",
          "2020-07",
          "2020-08",
          "2020-09",
          "2020-10",
          "2020-11",
          "2020-12",
          "2021-01",
          "2021-02",
          "2021-03",
          "2021-04",
          "2021-05",
          "2021-06",
          "2021-07",
          "2021-08",
          "2021-09",
          "2021-10",
          "2021-11",
          "2021-12",
          "2022-01",
          "2022-02",
          "2022-03",
          "2022-04",
          "2022-05",
          "2022-06",
          "2022-07",
          "2022-08",
          "2022-09",
          "2022-10",
          "2022-11",
          "2022-12",
          "2023-01",
          "2023-02",
          "2023-03",
          "2023-04",
          "2023-05",
          "2023-06",
          "2023-07",
          "2023-08"
         ],
         "xaxis": "x",
         "y": [
          33.5,
          36.9,
          29.9,
          31.1,
          22.3,
          26.7,
          32.3,
          28.5,
          32.8,
          22.5,
          27.5,
          27.9,
          26.3,
          28.8,
          26.5,
          23.6,
          21.5,
          24.5,
          25,
          29,
          23.9,
          22.5,
          19.7,
          26.7,
          34.6,
          27.9,
          24.5,
          19.9,
          25.8,
          23.8,
          23.7,
          26,
          24.9,
          23.5,
          28.3,
          22.2,
          23.8,
          37.1,
          26,
          28.7,
          26.7,
          24.8,
          25.3,
          26,
          29.3,
          24.4,
          24.1,
          21.4,
          24.9,
          28.8,
          22.1,
          22.5,
          26.1,
          28.2,
          27.8
         ],
         "yaxis": "y"
        },
        {
         "line": {
          "color": "blue"
         },
         "showlegend": false,
         "type": "scatter",
         "x": [
          "2019-02",
          "2019-03",
          "2019-04",
          "2019-05",
          "2019-06",
          "2019-07",
          "2019-08",
          "2019-09",
          "2019-10",
          "2019-11",
          "2019-12",
          "2020-01",
          "2020-02",
          "2020-03",
          "2020-04",
          "2020-05",
          "2020-06",
          "2020-07",
          "2020-08",
          "2020-09",
          "2020-10",
          "2020-11",
          "2020-12",
          "2021-01",
          "2021-02",
          "2021-03",
          "2021-04",
          "2021-05",
          "2021-06",
          "2021-07",
          "2021-08",
          "2021-09",
          "2021-10",
          "2021-11",
          "2021-12",
          "2022-01",
          "2022-02",
          "2022-03",
          "2022-04",
          "2022-05",
          "2022-06",
          "2022-07",
          "2022-08",
          "2022-09",
          "2022-10",
          "2022-11",
          "2022-12",
          "2023-01",
          "2023-02",
          "2023-03",
          "2023-04",
          "2023-05",
          "2023-06"
         ],
         "xaxis": "x2",
         "y": [
          2827246,
          3210970,
          3601320,
          4172215,
          4648311,
          4991974,
          5050195,
          4736514,
          4072476,
          3398811,
          3377614,
          3243373,
          3110797,
          1209699,
          16962,
          10555,
          86142,
          1222945,
          1863299,
          1406953,
          836962,
          359060,
          484423,
          367529,
          261807,
          357901,
          431413,
          707792,
          1551462,
          2775774,
          3211572,
          2819072,
          2459229,
          2040673,
          1988347,
          1622563,
          1710885,
          2151440,
          2770479,
          3468217,
          4248526,
          4736602,
          4696865,
          4353210,
          3814328,
          2876446,
          2973753,
          2949180,
          2834985,
          3244453,
          3795083,
          4394123,
          5067020
         ],
         "yaxis": "y4"
        },
        {
         "line": {
          "color": "red"
         },
         "name": "Tourism",
         "type": "scatter",
         "x": [
          "2019-02",
          "2019-03",
          "2019-04",
          "2019-05",
          "2019-06",
          "2019-07",
          "2019-08",
          "2019-09",
          "2019-10",
          "2019-11",
          "2019-12",
          "2020-01",
          "2020-02",
          "2020-03",
          "2020-04",
          "2020-05",
          "2020-06",
          "2020-07",
          "2020-08",
          "2020-09",
          "2020-10",
          "2020-11",
          "2020-12",
          "2021-01",
          "2021-02",
          "2021-03",
          "2021-04",
          "2021-05",
          "2021-06",
          "2021-07",
          "2021-08",
          "2021-09",
          "2021-10",
          "2021-11",
          "2021-12",
          "2022-01",
          "2022-02",
          "2022-03",
          "2022-04",
          "2022-05",
          "2022-06",
          "2022-07",
          "2022-08",
          "2022-09",
          "2022-10",
          "2022-11",
          "2022-12",
          "2023-01",
          "2023-02",
          "2023-03",
          "2023-04",
          "2023-05",
          "2023-06",
          "2023-07"
         ],
         "xaxis": "x2",
         "y": [
          3614138,
          3706066,
          3888285,
          4747531,
          5051302,
          5824766,
          6242349,
          4939760,
          4507327,
          3990928,
          3720836,
          3805083,
          3975676,
          1501279,
          232388,
          602380,
          1896005,
          3908681,
          4755572,
          3461089,
          2289634,
          1033458,
          834037,
          456658,
          1186565,
          1144387,
          691904,
          1680655,
          3288298,
          5356574,
          6029441,
          4578363,
          4212323,
          3319168,
          2947436,
          3026446,
          3605164,
          4016783,
          4011294,
          4553046,
          5206926,
          6188269,
          6540920,
          5204256,
          4922079,
          4062227,
          3897817,
          3831586,
          4095277,
          4045097,
          4281513,
          4752612,
          5346998,
          6269109
         ],
         "yaxis": "y3"
        },
        {
         "line": {
          "color": "blue"
         },
         "showlegend": false,
         "type": "scatter",
         "x": [
          "2019-02",
          "2019-03",
          "2019-04",
          "2019-05",
          "2019-06",
          "2019-07",
          "2019-08",
          "2019-09",
          "2019-10",
          "2019-11",
          "2019-12",
          "2020-01",
          "2020-02",
          "2020-03",
          "2020-04",
          "2020-05",
          "2020-06",
          "2020-07",
          "2020-08",
          "2020-09",
          "2020-10",
          "2020-11",
          "2020-12",
          "2021-01",
          "2021-02",
          "2021-03",
          "2021-04",
          "2021-05",
          "2021-06",
          "2021-07",
          "2021-08",
          "2021-09",
          "2021-10",
          "2021-11",
          "2021-12",
          "2022-01",
          "2022-02",
          "2022-03",
          "2022-04",
          "2022-05",
          "2022-06",
          "2022-07",
          "2022-08",
          "2022-09",
          "2022-10",
          "2022-11",
          "2022-12",
          "2023-01",
          "2023-02",
          "2023-03",
          "2023-04",
          "2023-05",
          "2023-06"
         ],
         "xaxis": "x3",
         "y": [
          2827246,
          3210970,
          3601320,
          4172215,
          4648311,
          4991974,
          5050195,
          4736514,
          4072476,
          3398811,
          3377614,
          3243373,
          3110797,
          1209699,
          16962,
          10555,
          86142,
          1222945,
          1863299,
          1406953,
          836962,
          359060,
          484423,
          367529,
          261807,
          357901,
          431413,
          707792,
          1551462,
          2775774,
          3211572,
          2819072,
          2459229,
          2040673,
          1988347,
          1622563,
          1710885,
          2151440,
          2770479,
          3468217,
          4248526,
          4736602,
          4696865,
          4353210,
          3814328,
          2876446,
          2973753,
          2949180,
          2834985,
          3244453,
          3795083,
          4394123,
          5067020
         ],
         "yaxis": "y6"
        },
        {
         "line": {
          "color": "black"
         },
         "name": "Freight NL",
         "type": "scatter",
         "x": [
          "2019-02",
          "2019-03",
          "2019-04",
          "2019-05",
          "2019-06",
          "2019-07",
          "2019-08",
          "2019-09",
          "2019-10",
          "2019-11",
          "2019-12",
          "2020-01",
          "2020-02",
          "2020-03",
          "2020-04",
          "2020-05",
          "2020-06",
          "2020-07",
          "2020-08",
          "2020-09",
          "2020-10",
          "2020-11",
          "2020-12",
          "2021-01",
          "2021-02",
          "2021-03",
          "2021-04",
          "2021-05",
          "2021-06",
          "2021-07",
          "2021-08",
          "2021-09",
          "2021-10",
          "2021-11",
          "2021-12",
          "2022-01",
          "2022-02",
          "2022-03",
          "2022-04",
          "2022-05",
          "2022-06",
          "2022-07",
          "2022-08",
          "2022-09",
          "2022-10",
          "2022-11",
          "2022-12",
          "2023-01",
          "2023-02",
          "2023-03",
          "2023-04",
          "2023-05",
          "2023-06"
         ],
         "xaxis": "x3",
         "y": [
          9977.4,
          11795.2,
          11515.3,
          12016.8,
          11530.9,
          12575.8,
          11782.1,
          12641.9,
          13224.3,
          12900.9,
          12645.2,
          11715.7,
          11327.3,
          8795.9,
          6540.1,
          7106.1,
          7162.3,
          7922.9,
          8443.3,
          9671,
          10133.5,
          10432.6,
          11989.8,
          9308.8,
          8999.1,
          11273.6,
          11208.6,
          11195,
          10946.2,
          12390.8,
          12718,
          13497.9,
          13702.8,
          13439.6,
          14704.8,
          11941.7,
          12276,
          18405.9,
          19553.8,
          17736.9,
          14402.9,
          17718.9,
          21518.2,
          16044.4,
          21989.8,
          16321.5,
          17038.8,
          12926.7,
          12820.7,
          21567.2,
          24287.3,
          16140.2,
          15115.8
         ],
         "yaxis": "y5"
        }
       ],
       "layout": {
        "annotations": [
         {
          "font": {
           "size": 16
          },
          "showarrow": false,
          "text": "Air passenger vs Emissions",
          "x": 0.47,
          "xanchor": "center",
          "xref": "paper",
          "y": 1,
          "yanchor": "bottom",
          "yref": "paper"
         },
         {
          "font": {
           "size": 16
          },
          "showarrow": false,
          "text": "Air passenger vs Tourism",
          "x": 0.47,
          "xanchor": "center",
          "xref": "paper",
          "y": 0.6333333333333333,
          "yanchor": "bottom",
          "yref": "paper"
         },
         {
          "font": {
           "size": 16
          },
          "showarrow": false,
          "text": "Air passenger vs Freight",
          "x": 0.47,
          "xanchor": "center",
          "xref": "paper",
          "y": 0.26666666666666666,
          "yanchor": "bottom",
          "yref": "paper"
         },
         {
          "ax": 0,
          "ay": 0,
          "font": {
           "color": "red",
           "family": "Courier New, monospace",
           "size": 16
          },
          "showarrow": false,
          "text": "Begin COVID-19",
          "x": "2020-02-01",
          "xref": "x",
          "y": 1.05,
          "yref": "paper"
         }
        ],
        "height": 900,
        "shapes": [
         {
          "line": {
           "color": "red",
           "dash": "dot",
           "width": 2
          },
          "type": "line",
          "x0": "2020-02",
          "x1": "2020-02",
          "xref": "x",
          "y0": 0,
          "y1": 1,
          "yref": "y domain"
         },
         {
          "line": {
           "color": "red",
           "dash": "dot",
           "width": 2
          },
          "type": "line",
          "x0": "2020-02",
          "x1": "2020-02",
          "xref": "x2",
          "y0": 0,
          "y1": 1,
          "yref": "y3 domain"
         },
         {
          "line": {
           "color": "red",
           "dash": "dot",
           "width": 2
          },
          "type": "line",
          "x0": "2020-02",
          "x1": "2020-02",
          "xref": "x3",
          "y0": 0,
          "y1": 1,
          "yref": "y5 domain"
         }
        ],
        "template": {
         "data": {
          "bar": [
           {
            "error_x": {
             "color": "#2a3f5f"
            },
            "error_y": {
             "color": "#2a3f5f"
            },
            "marker": {
             "line": {
              "color": "#E5ECF6",
              "width": 0.5
             },
             "pattern": {
              "fillmode": "overlay",
              "size": 10,
              "solidity": 0.2
             }
            },
            "type": "bar"
           }
          ],
          "barpolar": [
           {
            "marker": {
             "line": {
              "color": "#E5ECF6",
              "width": 0.5
             },
             "pattern": {
              "fillmode": "overlay",
              "size": 10,
              "solidity": 0.2
             }
            },
            "type": "barpolar"
           }
          ],
          "carpet": [
           {
            "aaxis": {
             "endlinecolor": "#2a3f5f",
             "gridcolor": "white",
             "linecolor": "white",
             "minorgridcolor": "white",
             "startlinecolor": "#2a3f5f"
            },
            "baxis": {
             "endlinecolor": "#2a3f5f",
             "gridcolor": "white",
             "linecolor": "white",
             "minorgridcolor": "white",
             "startlinecolor": "#2a3f5f"
            },
            "type": "carpet"
           }
          ],
          "choropleth": [
           {
            "colorbar": {
             "outlinewidth": 0,
             "ticks": ""
            },
            "type": "choropleth"
           }
          ],
          "contour": [
           {
            "colorbar": {
             "outlinewidth": 0,
             "ticks": ""
            },
            "colorscale": [
             [
              0,
              "#0d0887"
             ],
             [
              0.1111111111111111,
              "#46039f"
             ],
             [
              0.2222222222222222,
              "#7201a8"
             ],
             [
              0.3333333333333333,
              "#9c179e"
             ],
             [
              0.4444444444444444,
              "#bd3786"
             ],
             [
              0.5555555555555556,
              "#d8576b"
             ],
             [
              0.6666666666666666,
              "#ed7953"
             ],
             [
              0.7777777777777778,
              "#fb9f3a"
             ],
             [
              0.8888888888888888,
              "#fdca26"
             ],
             [
              1,
              "#f0f921"
             ]
            ],
            "type": "contour"
           }
          ],
          "contourcarpet": [
           {
            "colorbar": {
             "outlinewidth": 0,
             "ticks": ""
            },
            "type": "contourcarpet"
           }
          ],
          "heatmap": [
           {
            "colorbar": {
             "outlinewidth": 0,
             "ticks": ""
            },
            "colorscale": [
             [
              0,
              "#0d0887"
             ],
             [
              0.1111111111111111,
              "#46039f"
             ],
             [
              0.2222222222222222,
              "#7201a8"
             ],
             [
              0.3333333333333333,
              "#9c179e"
             ],
             [
              0.4444444444444444,
              "#bd3786"
             ],
             [
              0.5555555555555556,
              "#d8576b"
             ],
             [
              0.6666666666666666,
              "#ed7953"
             ],
             [
              0.7777777777777778,
              "#fb9f3a"
             ],
             [
              0.8888888888888888,
              "#fdca26"
             ],
             [
              1,
              "#f0f921"
             ]
            ],
            "type": "heatmap"
           }
          ],
          "heatmapgl": [
           {
            "colorbar": {
             "outlinewidth": 0,
             "ticks": ""
            },
            "colorscale": [
             [
              0,
              "#0d0887"
             ],
             [
              0.1111111111111111,
              "#46039f"
             ],
             [
              0.2222222222222222,
              "#7201a8"
             ],
             [
              0.3333333333333333,
              "#9c179e"
             ],
             [
              0.4444444444444444,
              "#bd3786"
             ],
             [
              0.5555555555555556,
              "#d8576b"
             ],
             [
              0.6666666666666666,
              "#ed7953"
             ],
             [
              0.7777777777777778,
              "#fb9f3a"
             ],
             [
              0.8888888888888888,
              "#fdca26"
             ],
             [
              1,
              "#f0f921"
             ]
            ],
            "type": "heatmapgl"
           }
          ],
          "histogram": [
           {
            "marker": {
             "pattern": {
              "fillmode": "overlay",
              "size": 10,
              "solidity": 0.2
             }
            },
            "type": "histogram"
           }
          ],
          "histogram2d": [
           {
            "colorbar": {
             "outlinewidth": 0,
             "ticks": ""
            },
            "colorscale": [
             [
              0,
              "#0d0887"
             ],
             [
              0.1111111111111111,
              "#46039f"
             ],
             [
              0.2222222222222222,
              "#7201a8"
             ],
             [
              0.3333333333333333,
              "#9c179e"
             ],
             [
              0.4444444444444444,
              "#bd3786"
             ],
             [
              0.5555555555555556,
              "#d8576b"
             ],
             [
              0.6666666666666666,
              "#ed7953"
             ],
             [
              0.7777777777777778,
              "#fb9f3a"
             ],
             [
              0.8888888888888888,
              "#fdca26"
             ],
             [
              1,
              "#f0f921"
             ]
            ],
            "type": "histogram2d"
           }
          ],
          "histogram2dcontour": [
           {
            "colorbar": {
             "outlinewidth": 0,
             "ticks": ""
            },
            "colorscale": [
             [
              0,
              "#0d0887"
             ],
             [
              0.1111111111111111,
              "#46039f"
             ],
             [
              0.2222222222222222,
              "#7201a8"
             ],
             [
              0.3333333333333333,
              "#9c179e"
             ],
             [
              0.4444444444444444,
              "#bd3786"
             ],
             [
              0.5555555555555556,
              "#d8576b"
             ],
             [
              0.6666666666666666,
              "#ed7953"
             ],
             [
              0.7777777777777778,
              "#fb9f3a"
             ],
             [
              0.8888888888888888,
              "#fdca26"
             ],
             [
              1,
              "#f0f921"
             ]
            ],
            "type": "histogram2dcontour"
           }
          ],
          "mesh3d": [
           {
            "colorbar": {
             "outlinewidth": 0,
             "ticks": ""
            },
            "type": "mesh3d"
           }
          ],
          "parcoords": [
           {
            "line": {
             "colorbar": {
              "outlinewidth": 0,
              "ticks": ""
             }
            },
            "type": "parcoords"
           }
          ],
          "pie": [
           {
            "automargin": true,
            "type": "pie"
           }
          ],
          "scatter": [
           {
            "fillpattern": {
             "fillmode": "overlay",
             "size": 10,
             "solidity": 0.2
            },
            "type": "scatter"
           }
          ],
          "scatter3d": [
           {
            "line": {
             "colorbar": {
              "outlinewidth": 0,
              "ticks": ""
             }
            },
            "marker": {
             "colorbar": {
              "outlinewidth": 0,
              "ticks": ""
             }
            },
            "type": "scatter3d"
           }
          ],
          "scattercarpet": [
           {
            "marker": {
             "colorbar": {
              "outlinewidth": 0,
              "ticks": ""
             }
            },
            "type": "scattercarpet"
           }
          ],
          "scattergeo": [
           {
            "marker": {
             "colorbar": {
              "outlinewidth": 0,
              "ticks": ""
             }
            },
            "type": "scattergeo"
           }
          ],
          "scattergl": [
           {
            "marker": {
             "colorbar": {
              "outlinewidth": 0,
              "ticks": ""
             }
            },
            "type": "scattergl"
           }
          ],
          "scattermapbox": [
           {
            "marker": {
             "colorbar": {
              "outlinewidth": 0,
              "ticks": ""
             }
            },
            "type": "scattermapbox"
           }
          ],
          "scatterpolar": [
           {
            "marker": {
             "colorbar": {
              "outlinewidth": 0,
              "ticks": ""
             }
            },
            "type": "scatterpolar"
           }
          ],
          "scatterpolargl": [
           {
            "marker": {
             "colorbar": {
              "outlinewidth": 0,
              "ticks": ""
             }
            },
            "type": "scatterpolargl"
           }
          ],
          "scatterternary": [
           {
            "marker": {
             "colorbar": {
              "outlinewidth": 0,
              "ticks": ""
             }
            },
            "type": "scatterternary"
           }
          ],
          "surface": [
           {
            "colorbar": {
             "outlinewidth": 0,
             "ticks": ""
            },
            "colorscale": [
             [
              0,
              "#0d0887"
             ],
             [
              0.1111111111111111,
              "#46039f"
             ],
             [
              0.2222222222222222,
              "#7201a8"
             ],
             [
              0.3333333333333333,
              "#9c179e"
             ],
             [
              0.4444444444444444,
              "#bd3786"
             ],
             [
              0.5555555555555556,
              "#d8576b"
             ],
             [
              0.6666666666666666,
              "#ed7953"
             ],
             [
              0.7777777777777778,
              "#fb9f3a"
             ],
             [
              0.8888888888888888,
              "#fdca26"
             ],
             [
              1,
              "#f0f921"
             ]
            ],
            "type": "surface"
           }
          ],
          "table": [
           {
            "cells": {
             "fill": {
              "color": "#EBF0F8"
             },
             "line": {
              "color": "white"
             }
            },
            "header": {
             "fill": {
              "color": "#C8D4E3"
             },
             "line": {
              "color": "white"
             }
            },
            "type": "table"
           }
          ]
         },
         "layout": {
          "annotationdefaults": {
           "arrowcolor": "#2a3f5f",
           "arrowhead": 0,
           "arrowwidth": 1
          },
          "autotypenumbers": "strict",
          "coloraxis": {
           "colorbar": {
            "outlinewidth": 0,
            "ticks": ""
           }
          },
          "colorscale": {
           "diverging": [
            [
             0,
             "#8e0152"
            ],
            [
             0.1,
             "#c51b7d"
            ],
            [
             0.2,
             "#de77ae"
            ],
            [
             0.3,
             "#f1b6da"
            ],
            [
             0.4,
             "#fde0ef"
            ],
            [
             0.5,
             "#f7f7f7"
            ],
            [
             0.6,
             "#e6f5d0"
            ],
            [
             0.7,
             "#b8e186"
            ],
            [
             0.8,
             "#7fbc41"
            ],
            [
             0.9,
             "#4d9221"
            ],
            [
             1,
             "#276419"
            ]
           ],
           "sequential": [
            [
             0,
             "#0d0887"
            ],
            [
             0.1111111111111111,
             "#46039f"
            ],
            [
             0.2222222222222222,
             "#7201a8"
            ],
            [
             0.3333333333333333,
             "#9c179e"
            ],
            [
             0.4444444444444444,
             "#bd3786"
            ],
            [
             0.5555555555555556,
             "#d8576b"
            ],
            [
             0.6666666666666666,
             "#ed7953"
            ],
            [
             0.7777777777777778,
             "#fb9f3a"
            ],
            [
             0.8888888888888888,
             "#fdca26"
            ],
            [
             1,
             "#f0f921"
            ]
           ],
           "sequentialminus": [
            [
             0,
             "#0d0887"
            ],
            [
             0.1111111111111111,
             "#46039f"
            ],
            [
             0.2222222222222222,
             "#7201a8"
            ],
            [
             0.3333333333333333,
             "#9c179e"
            ],
            [
             0.4444444444444444,
             "#bd3786"
            ],
            [
             0.5555555555555556,
             "#d8576b"
            ],
            [
             0.6666666666666666,
             "#ed7953"
            ],
            [
             0.7777777777777778,
             "#fb9f3a"
            ],
            [
             0.8888888888888888,
             "#fdca26"
            ],
            [
             1,
             "#f0f921"
            ]
           ]
          },
          "colorway": [
           "#636efa",
           "#EF553B",
           "#00cc96",
           "#ab63fa",
           "#FFA15A",
           "#19d3f3",
           "#FF6692",
           "#B6E880",
           "#FF97FF",
           "#FECB52"
          ],
          "font": {
           "color": "#2a3f5f"
          },
          "geo": {
           "bgcolor": "white",
           "lakecolor": "white",
           "landcolor": "#E5ECF6",
           "showlakes": true,
           "showland": true,
           "subunitcolor": "white"
          },
          "hoverlabel": {
           "align": "left"
          },
          "hovermode": "closest",
          "mapbox": {
           "style": "light"
          },
          "paper_bgcolor": "white",
          "plot_bgcolor": "#E5ECF6",
          "polar": {
           "angularaxis": {
            "gridcolor": "white",
            "linecolor": "white",
            "ticks": ""
           },
           "bgcolor": "#E5ECF6",
           "radialaxis": {
            "gridcolor": "white",
            "linecolor": "white",
            "ticks": ""
           }
          },
          "scene": {
           "xaxis": {
            "backgroundcolor": "#E5ECF6",
            "gridcolor": "white",
            "gridwidth": 2,
            "linecolor": "white",
            "showbackground": true,
            "ticks": "",
            "zerolinecolor": "white"
           },
           "yaxis": {
            "backgroundcolor": "#E5ECF6",
            "gridcolor": "white",
            "gridwidth": 2,
            "linecolor": "white",
            "showbackground": true,
            "ticks": "",
            "zerolinecolor": "white"
           },
           "zaxis": {
            "backgroundcolor": "#E5ECF6",
            "gridcolor": "white",
            "gridwidth": 2,
            "linecolor": "white",
            "showbackground": true,
            "ticks": "",
            "zerolinecolor": "white"
           }
          },
          "shapedefaults": {
           "line": {
            "color": "#2a3f5f"
           }
          },
          "ternary": {
           "aaxis": {
            "gridcolor": "white",
            "linecolor": "white",
            "ticks": ""
           },
           "baxis": {
            "gridcolor": "white",
            "linecolor": "white",
            "ticks": ""
           },
           "bgcolor": "#E5ECF6",
           "caxis": {
            "gridcolor": "white",
            "linecolor": "white",
            "ticks": ""
           }
          },
          "title": {
           "x": 0.05
          },
          "xaxis": {
           "automargin": true,
           "gridcolor": "white",
           "linecolor": "white",
           "ticks": "",
           "title": {
            "standoff": 15
           },
           "zerolinecolor": "white",
           "zerolinewidth": 2
          },
          "yaxis": {
           "automargin": true,
           "gridcolor": "white",
           "linecolor": "white",
           "ticks": "",
           "title": {
            "standoff": 15
           },
           "zerolinecolor": "white",
           "zerolinewidth": 2
          }
         }
        },
        "title": {
         "text": "Impact of COVID-19 on Different Sectors in Poland"
        },
        "xaxis": {
         "anchor": "y",
         "domain": [
          0,
          0.94
         ],
         "matches": "x3",
         "showticklabels": false
        },
        "xaxis2": {
         "anchor": "y3",
         "domain": [
          0,
          0.94
         ],
         "matches": "x3",
         "showticklabels": false
        },
        "xaxis3": {
         "anchor": "y5",
         "domain": [
          0,
          0.94
         ]
        },
        "yaxis": {
         "anchor": "x",
         "domain": [
          0.7333333333333334,
          1
         ]
        },
        "yaxis2": {
         "anchor": "x",
         "overlaying": "y",
         "side": "right"
        },
        "yaxis3": {
         "anchor": "x2",
         "domain": [
          0.3666666666666667,
          0.6333333333333333
         ]
        },
        "yaxis4": {
         "anchor": "x2",
         "overlaying": "y3",
         "side": "right"
        },
        "yaxis5": {
         "anchor": "x3",
         "domain": [
          0,
          0.26666666666666666
         ]
        },
        "yaxis6": {
         "anchor": "x3",
         "overlaying": "y5",
         "side": "right"
        }
       }
      }
     },
     "metadata": {},
     "output_type": "display_data"
    }
   ],
   "source": [
    "fig = make_subplots(rows=3, cols=1,\n",
    "                    shared_xaxes=True,\n",
    "                    subplot_titles=('Air passenger vs Emissions', 'Air passenger vs Tourism', 'Air passenger vs Freight'),\n",
    "                    vertical_spacing=0.1,\n",
    "                    specs=[[{'secondary_y': True}],\n",
    "                           [{'secondary_y': True}],\n",
    "                           [{'secondary_y': True}]])\n",
    "\n",
    "# For Traffic vs Emissions\n",
    "fig.add_trace(go.Scatter(\n",
    "    x=traffic_PL['TIME_PERIOD'],\n",
    "    y=traffic_PL['OBS_VALUE'],\n",
    "    name='Air passenger',\n",
    "    line=dict(color='blue'),\n",
    "), row=1, col=1, secondary_y=True)\n",
    "\n",
    "fig.add_trace(go.Scatter(\n",
    "    x=emissions_PL['TIME_PERIOD'],\n",
    "    y=emissions_PL['OBS_VALUE'],\n",
    "    name=\"Emissions (NO_2)\",\n",
    "    line=dict(color='green'),\n",
    "), row=1, col=1, secondary_y=False)\n",
    "\n",
    "# For Traffic vs Tourism\n",
    "fig.add_trace(go.Scatter(\n",
    "    x=traffic_PL['TIME_PERIOD'],\n",
    "    y=traffic_PL['OBS_VALUE'],\n",
    "    showlegend=False,  \n",
    "    line=dict(color='blue'),\n",
    "), row=2, col=1, secondary_y=True)\n",
    "\n",
    "fig.add_trace(go.Scatter(\n",
    "    x=tourism_PL['TIME_PERIOD'],\n",
    "    y=tourism_PL['OBS_VALUE'],\n",
    "    name='Tourism',\n",
    "    line=dict(color='red'),\n",
    "), row=2, col=1, secondary_y=False)\n",
    "\n",
    "# For Traffic vs Freight\n",
    "fig.add_trace(go.Scatter(\n",
    "    x=traffic_PL['TIME_PERIOD'],\n",
    "    y=traffic_PL['OBS_VALUE'],\n",
    "    showlegend=False, \n",
    "    line=dict(color='blue'),\n",
    "), row=3, col=1, secondary_y=True)\n",
    "\n",
    "fig.add_trace(go.Scatter(\n",
    "    x=supply_PL['TIME_PERIOD'],\n",
    "    y=supply_PL['OBS_VALUE'],\n",
    "    name='Freight NL',\n",
    "    line=dict(color='black'),\n",
    "), row=3, col=1, secondary_y=False)\n",
    "\n",
    "fig.update_layout(\n",
    "    title_text='Impact of COVID-19 on Different Sectors in Poland',\n",
    "    height=900 \n",
    ")\n",
    "\n",
    "fig.add_vline(x='2020-02', line_width=2, line_color='red', line_dash='dot')\n",
    "fig.add_annotation(\n",
    "    dict(\n",
    "        x='2020-02-01',\n",
    "        y=1.05,  \n",
    "        xref='x',\n",
    "        yref='paper',\n",
    "        text='Begin COVID-19',  \n",
    "        showarrow=False,\n",
    "        font=dict(\n",
    "            family='Courier New, monospace',\n",
    "            size=16,\n",
    "            color='red'\n",
    "        ),\n",
    "        ax=0,  \n",
    "        ay=0\n",
    "    )\n",
    ")\n",
    "\n",
    "fig.show()\n"
   ]
  },
  {
   "cell_type": "code",
   "execution_count": 302,
   "metadata": {},
   "outputs": [
    {
     "data": {
      "image/png": "[encoded data removed]",
      "text/plain": [
       "<Figure size 1000x800 with 2 Axes>"
      ]
     },
     "metadata": {},
     "output_type": "display_data"
    }
   ],
   "source": [
    "# Merge the dataframes based on the TIME_PERIOD column\n",
    "merged_FR = traffic_FR[['TIME_PERIOD', 'OBS_VALUE']].rename(columns={'OBS_VALUE': 'Traffic'})\n",
    "merged_FR = pd.merge(merged_FR, emissions_FR[['TIME_PERIOD', 'OBS_VALUE']], on='TIME_PERIOD', how='left').rename(columns={'OBS_VALUE': 'Emissions'})\n",
    "merged_FR = pd.merge(merged_FR, tourism_FR[['TIME_PERIOD', 'OBS_VALUE']], on='TIME_PERIOD', how='left').rename(columns={'OBS_VALUE': 'Tourism'})\n",
    "merged_FR = pd.merge(merged_FR, supply_FR[['TIME_PERIOD', 'OBS_VALUE']], on='TIME_PERIOD', how='left').rename(columns={'OBS_VALUE': 'Supply'})\n",
    "\n",
    "corr = merged_FR.drop(columns='TIME_PERIOD').corr()\n",
    "\n",
    "mask = np.triu(np.ones_like(corr, dtype=bool))\n",
    "plt.figure(figsize=(10, 8))\n",
    "sns.heatmap(corr, mask=mask, cmap='coolwarm', vmax=1.0, vmin=-1.0, center=0,\n",
    "            square=True, linewidths=.5, cbar_kws={\"shrink\": .5}, annot=True)\n",
    "plt.title('Correlation Heatmap for Traffic, Emission, Tourism, and Supply in Poland')\n",
    "plt.show()\n"
   ]
  },
  {
   "cell_type": "markdown",
   "metadata": {},
   "source": [
    "### Bulgaria"
   ]
  },
  {
   "cell_type": "code",
   "execution_count": 303,
   "metadata": {},
   "outputs": [],
   "source": [
    "traffic_BG = traffic[\n",
    "    (traffic['geo'] == 'BG') &\n",
    "    (traffic['tra_meas'] == 'PAS_BRD') &\n",
    "    (traffic['TIME_PERIOD'] >= '2019-02')                   \n",
    "]\n",
    "\n",
    "emissions_BG = emissions[\n",
    "    (emissions['geo'] == 'BG_CAP') &\n",
    "    (emissions['TIME_PERIOD'] >= '2019-02')\n",
    "]\n",
    "\n",
    "tourism_BG = tourism[\n",
    "    (tourism['geo'] == 'BG') &\n",
    "    (tourism['unit'] == 'NR') &\n",
    "    (tourism['nace_r2'] == 'I551') &\n",
    "    (tourism['c_resid'] == 'TOTAL') &\n",
    "    (tourism['TIME_PERIOD'] >= '2019-02')\n",
    "]\n",
    "\n",
    "supply_BG = supply[\n",
    "    (supply['geo'] == 'BG') &\n",
    "    (supply['tra_meas'] == 'FRM_BRD') & \n",
    "    (supply['TIME_PERIOD'] >= '2019-02')\n",
    "]"
   ]
  },
  {
   "cell_type": "code",
   "execution_count": 304,
   "metadata": {},
   "outputs": [
    {
     "data": {
      "application/vnd.plotly.v1+json": {
       "config": {
        "plotlyServerURL": "https://plot.ly"
       },
       "data": [
        {
         "line": {
          "color": "blue"
         },
         "name": "Air passenger",
         "type": "scatter",
         "x": [
          "2019-02",
          "2019-03",
          "2019-04",
          "2019-05",
          "2019-06",
          "2019-07",
          "2019-08",
          "2019-09",
          "2019-10",
          "2019-11",
          "2019-12",
          "2020-01",
          "2020-02",
          "2020-03",
          "2020-04",
          "2020-05",
          "2020-06",
          "2020-07",
          "2020-08",
          "2020-09",
          "2020-10",
          "2020-11",
          "2020-12",
          "2021-01",
          "2021-02",
          "2021-03",
          "2021-04",
          "2021-05",
          "2021-06",
          "2021-07",
          "2021-08",
          "2021-09",
          "2021-10",
          "2021-11",
          "2021-12",
          "2022-01",
          "2022-02",
          "2022-03",
          "2022-04",
          "2022-05",
          "2022-06",
          "2022-07",
          "2022-08",
          "2022-09",
          "2022-10",
          "2022-11",
          "2022-12",
          "2023-01",
          "2023-02",
          "2023-03"
         ],
         "xaxis": "x",
         "y": [
          537044,
          618879,
          678766,
          879835,
          1459266,
          1871688,
          1892362,
          1295432,
          718887,
          584328,
          633438,
          620442,
          596149,
          293343,
          29572,
          77346,
          157153,
          440150,
          547295,
          406960,
          268221,
          134357,
          167168,
          191261,
          191261,
          132522,
          162877,
          227275,
          411911,
          878301,
          1074693,
          704559,
          461440,
          320848,
          389332,
          343476,
          342961,
          431752,
          579310,
          697535,
          955361,
          1311984,
          1330091,
          995689,
          714856,
          539312,
          587717,
          590190,
          562606,
          650930
         ],
         "yaxis": "y2"
        },
        {
         "line": {
          "color": "green"
         },
         "name": "Emissions (NO_2)",
         "type": "scatter",
         "x": [
          "2019-02",
          "2019-03",
          "2019-04",
          "2019-05",
          "2019-06",
          "2019-07",
          "2019-08",
          "2019-09",
          "2019-10",
          "2019-11",
          "2019-12",
          "2020-01",
          "2020-02",
          "2020-03",
          "2020-04",
          "2020-05",
          "2020-06",
          "2020-07",
          "2020-08",
          "2020-09",
          "2020-10",
          "2020-11",
          "2020-12",
          "2021-01",
          "2021-02",
          "2021-03",
          "2021-04",
          "2021-05",
          "2021-06",
          "2021-07",
          "2021-08",
          "2021-09",
          "2021-10",
          "2021-11",
          "2021-12",
          "2022-01",
          "2022-02",
          "2022-03",
          "2022-04",
          "2022-05",
          "2022-06",
          "2022-07",
          "2022-08",
          "2022-09",
          "2022-10",
          "2022-11",
          "2022-12",
          "2023-01",
          "2023-02",
          "2023-03",
          "2023-04",
          "2023-05",
          "2023-06",
          "2023-07",
          "2023-08"
         ],
         "xaxis": "x",
         "y": [
          28.7,
          26.9,
          21.3,
          16.4,
          19.2,
          17.7,
          22.2,
          27.4,
          42.5,
          32.5,
          46.1,
          40.4,
          33.5,
          24.6,
          19.9,
          15.1,
          16.9,
          17.4,
          20.6,
          24.5,
          31.4,
          40.3,
          32.7,
          31.4,
          37,
          30.6,
          24.1,
          18.5,
          20.3,
          18.6,
          20.4,
          23.9,
          23.4,
          34.9,
          29.5,
          27.6,
          36.7,
          30.5,
          24,
          21.2,
          16.1,
          13.3,
          13.5,
          17.2,
          31.3,
          36,
          38.5,
          27.8,
          28.2,
          28.4,
          20.3,
          13.7,
          16,
          15.3,
          19.1
         ],
         "yaxis": "y"
        },
        {
         "line": {
          "color": "blue"
         },
         "showlegend": false,
         "type": "scatter",
         "x": [
          "2019-02",
          "2019-03",
          "2019-04",
          "2019-05",
          "2019-06",
          "2019-07",
          "2019-08",
          "2019-09",
          "2019-10",
          "2019-11",
          "2019-12",
          "2020-01",
          "2020-02",
          "2020-03",
          "2020-04",
          "2020-05",
          "2020-06",
          "2020-07",
          "2020-08",
          "2020-09",
          "2020-10",
          "2020-11",
          "2020-12",
          "2021-01",
          "2021-02",
          "2021-03",
          "2021-04",
          "2021-05",
          "2021-06",
          "2021-07",
          "2021-08",
          "2021-09",
          "2021-10",
          "2021-11",
          "2021-12",
          "2022-01",
          "2022-02",
          "2022-03",
          "2022-04",
          "2022-05",
          "2022-06",
          "2022-07",
          "2022-08",
          "2022-09",
          "2022-10",
          "2022-11",
          "2022-12",
          "2023-01",
          "2023-02",
          "2023-03"
         ],
         "xaxis": "x2",
         "y": [
          537044,
          618879,
          678766,
          879835,
          1459266,
          1871688,
          1892362,
          1295432,
          718887,
          584328,
          633438,
          620442,
          596149,
          293343,
          29572,
          77346,
          157153,
          440150,
          547295,
          406960,
          268221,
          134357,
          167168,
          191261,
          191261,
          132522,
          162877,
          227275,
          411911,
          878301,
          1074693,
          704559,
          461440,
          320848,
          389332,
          343476,
          342961,
          431752,
          579310,
          697535,
          955361,
          1311984,
          1330091,
          995689,
          714856,
          539312,
          587717,
          590190,
          562606,
          650930
         ],
         "yaxis": "y4"
        },
        {
         "line": {
          "color": "red"
         },
         "name": "Tourism",
         "type": "scatter",
         "x": [
          "2019-02",
          "2019-03",
          "2019-04",
          "2019-05",
          "2019-06",
          "2019-07",
          "2019-08",
          "2019-09",
          "2019-10",
          "2019-11",
          "2019-12",
          "2020-01",
          "2020-02",
          "2020-03",
          "2020-04",
          "2020-05",
          "2020-06",
          "2020-07",
          "2020-08",
          "2020-09",
          "2020-10",
          "2020-11",
          "2020-12",
          "2021-01",
          "2021-02",
          "2021-03",
          "2021-04",
          "2021-05",
          "2021-06",
          "2021-07",
          "2021-08",
          "2021-09",
          "2021-10",
          "2021-11",
          "2021-12",
          "2022-01",
          "2022-02",
          "2022-03",
          "2022-04",
          "2022-05",
          "2022-06",
          "2022-07",
          "2022-08",
          "2022-09",
          "2022-10",
          "2022-11",
          "2022-12",
          "2023-01",
          "2023-02",
          "2023-03",
          "2023-04",
          "2023-05",
          "2023-06",
          "2023-07"
         ],
         "xaxis": "x2",
         "y": [
          826763,
          800328,
          888474,
          1369430,
          3793185,
          5380677,
          5801578,
          2885931,
          841227,
          698248,
          817857,
          973280,
          961663,
          342295,
          42168,
          95150,
          419498,
          1943844,
          3085512,
          1585863,
          564351,
          277533,
          232316,
          408493,
          560217,
          388846,
          367881,
          658964,
          1507361,
          3801551,
          4852270,
          1840923,
          558640,
          391451,
          552102,
          637864,
          725542,
          735003,
          812634,
          1170756,
          2643048,
          4886868,
          5600455,
          2321465,
          929844,
          778940,
          874539,
          944051,
          1080618,
          936452,
          934076,
          1152689,
          3141448,
          5266360
         ],
         "yaxis": "y3"
        },
        {
         "line": {
          "color": "blue"
         },
         "showlegend": false,
         "type": "scatter",
         "x": [
          "2019-02",
          "2019-03",
          "2019-04",
          "2019-05",
          "2019-06",
          "2019-07",
          "2019-08",
          "2019-09",
          "2019-10",
          "2019-11",
          "2019-12",
          "2020-01",
          "2020-02",
          "2020-03",
          "2020-04",
          "2020-05",
          "2020-06",
          "2020-07",
          "2020-08",
          "2020-09",
          "2020-10",
          "2020-11",
          "2020-12",
          "2021-01",
          "2021-02",
          "2021-03",
          "2021-04",
          "2021-05",
          "2021-06",
          "2021-07",
          "2021-08",
          "2021-09",
          "2021-10",
          "2021-11",
          "2021-12",
          "2022-01",
          "2022-02",
          "2022-03",
          "2022-04",
          "2022-05",
          "2022-06",
          "2022-07",
          "2022-08",
          "2022-09",
          "2022-10",
          "2022-11",
          "2022-12",
          "2023-01",
          "2023-02",
          "2023-03"
         ],
         "xaxis": "x3",
         "y": [
          537044,
          618879,
          678766,
          879835,
          1459266,
          1871688,
          1892362,
          1295432,
          718887,
          584328,
          633438,
          620442,
          596149,
          293343,
          29572,
          77346,
          157153,
          440150,
          547295,
          406960,
          268221,
          134357,
          167168,
          191261,
          191261,
          132522,
          162877,
          227275,
          411911,
          878301,
          1074693,
          704559,
          461440,
          320848,
          389332,
          343476,
          342961,
          431752,
          579310,
          697535,
          955361,
          1311984,
          1330091,
          995689,
          714856,
          539312,
          587717,
          590190,
          562606,
          650930
         ],
         "yaxis": "y6"
        },
        {
         "line": {
          "color": "black"
         },
         "name": "Freight NL",
         "type": "scatter",
         "x": [
          "2019-02",
          "2019-03",
          "2019-04",
          "2019-05",
          "2019-06",
          "2019-07",
          "2019-08",
          "2019-09",
          "2019-10",
          "2019-11",
          "2019-12",
          "2020-01",
          "2020-02",
          "2020-03",
          "2020-04",
          "2020-05",
          "2020-06",
          "2020-07",
          "2020-08",
          "2020-09",
          "2020-10",
          "2020-11",
          "2020-12",
          "2021-01",
          "2021-02",
          "2021-03",
          "2021-04",
          "2021-05",
          "2021-06",
          "2021-07",
          "2021-08",
          "2021-09",
          "2021-10",
          "2021-11",
          "2021-12",
          "2022-01",
          "2022-02",
          "2022-03",
          "2022-04",
          "2022-05",
          "2022-06",
          "2022-07",
          "2022-08",
          "2022-09",
          "2022-10",
          "2022-11",
          "2022-12",
          "2023-01",
          "2023-02",
          "2023-03"
         ],
         "xaxis": "x3",
         "y": [
          2383.7,
          2437.1,
          2737.6,
          2394.2,
          2457.9,
          2394.9,
          2352.5,
          2305.4,
          2447.9,
          2378.1,
          2293.4,
          2405.9,
          2398.8,
          1863,
          1476.5,
          1507.9,
          1968.5,
          2118.6,
          1920,
          1934.7,
          2388.5,
          2824.3,
          3150.8,
          2055.8,
          2055.8,
          2020.4,
          2696.9,
          2034.5,
          2435.9,
          2112.4,
          2152.9,
          2002.4,
          2252.7,
          1999,
          1949,
          1685,
          1855.5,
          1964.4,
          2789.7,
          4222.3,
          3022.9,
          1750.2,
          1734.5,
          1801.9,
          1869.5,
          2120.5,
          1902.4,
          1675.8,
          1463.5,
          2077.9
         ],
         "yaxis": "y5"
        }
       ],
       "layout": {
        "annotations": [
         {
          "font": {
           "size": 16
          },
          "showarrow": false,
          "text": "Air passenger vs Emissions",
          "x": 0.47,
          "xanchor": "center",
          "xref": "paper",
          "y": 1,
          "yanchor": "bottom",
          "yref": "paper"
         },
         {
          "font": {
           "size": 16
          },
          "showarrow": false,
          "text": "Air passenger vs Tourism",
          "x": 0.47,
          "xanchor": "center",
          "xref": "paper",
          "y": 0.6333333333333333,
          "yanchor": "bottom",
          "yref": "paper"
         },
         {
          "font": {
           "size": 16
          },
          "showarrow": false,
          "text": "Air passenger vs Freight",
          "x": 0.47,
          "xanchor": "center",
          "xref": "paper",
          "y": 0.26666666666666666,
          "yanchor": "bottom",
          "yref": "paper"
         },
         {
          "ax": 0,
          "ay": 0,
          "font": {
           "color": "red",
           "family": "Courier New, monospace",
           "size": 16
          },
          "showarrow": false,
          "text": "Begin COVID-19",
          "x": "2020-02-01",
          "xref": "x",
          "y": 1.05,
          "yref": "paper"
         }
        ],
        "height": 900,
        "shapes": [
         {
          "line": {
           "color": "red",
           "dash": "dot",
           "width": 2
          },
          "type": "line",
          "x0": "2020-02",
          "x1": "2020-02",
          "xref": "x",
          "y0": 0,
          "y1": 1,
          "yref": "y domain"
         },
         {
          "line": {
           "color": "red",
           "dash": "dot",
           "width": 2
          },
          "type": "line",
          "x0": "2020-02",
          "x1": "2020-02",
          "xref": "x2",
          "y0": 0,
          "y1": 1,
          "yref": "y3 domain"
         },
         {
          "line": {
           "color": "red",
           "dash": "dot",
           "width": 2
          },
          "type": "line",
          "x0": "2020-02",
          "x1": "2020-02",
          "xref": "x3",
          "y0": 0,
          "y1": 1,
          "yref": "y5 domain"
         }
        ],
        "template": {
         "data": {
          "bar": [
           {
            "error_x": {
             "color": "#2a3f5f"
            },
            "error_y": {
             "color": "#2a3f5f"
            },
            "marker": {
             "line": {
              "color": "#E5ECF6",
              "width": 0.5
             },
             "pattern": {
              "fillmode": "overlay",
              "size": 10,
              "solidity": 0.2
             }
            },
            "type": "bar"
           }
          ],
          "barpolar": [
           {
            "marker": {
             "line": {
              "color": "#E5ECF6",
              "width": 0.5
             },
             "pattern": {
              "fillmode": "overlay",
              "size": 10,
              "solidity": 0.2
             }
            },
            "type": "barpolar"
           }
          ],
          "carpet": [
           {
            "aaxis": {
             "endlinecolor": "#2a3f5f",
             "gridcolor": "white",
             "linecolor": "white",
             "minorgridcolor": "white",
             "startlinecolor": "#2a3f5f"
            },
            "baxis": {
             "endlinecolor": "#2a3f5f",
             "gridcolor": "white",
             "linecolor": "white",
             "minorgridcolor": "white",
             "startlinecolor": "#2a3f5f"
            },
            "type": "carpet"
           }
          ],
          "choropleth": [
           {
            "colorbar": {
             "outlinewidth": 0,
             "ticks": ""
            },
            "type": "choropleth"
           }
          ],
          "contour": [
           {
            "colorbar": {
             "outlinewidth": 0,
             "ticks": ""
            },
            "colorscale": [
             [
              0,
              "#0d0887"
             ],
             [
              0.1111111111111111,
              "#46039f"
             ],
             [
              0.2222222222222222,
              "#7201a8"
             ],
             [
              0.3333333333333333,
              "#9c179e"
             ],
             [
              0.4444444444444444,
              "#bd3786"
             ],
             [
              0.5555555555555556,
              "#d8576b"
             ],
             [
              0.6666666666666666,
              "#ed7953"
             ],
             [
              0.7777777777777778,
              "#fb9f3a"
             ],
             [
              0.8888888888888888,
              "#fdca26"
             ],
             [
              1,
              "#f0f921"
             ]
            ],
            "type": "contour"
           }
          ],
          "contourcarpet": [
           {
            "colorbar": {
             "outlinewidth": 0,
             "ticks": ""
            },
            "type": "contourcarpet"
           }
          ],
          "heatmap": [
           {
            "colorbar": {
             "outlinewidth": 0,
             "ticks": ""
            },
            "colorscale": [
             [
              0,
              "#0d0887"
             ],
             [
              0.1111111111111111,
              "#46039f"
             ],
             [
              0.2222222222222222,
              "#7201a8"
             ],
             [
              0.3333333333333333,
              "#9c179e"
             ],
             [
              0.4444444444444444,
              "#bd3786"
             ],
             [
              0.5555555555555556,
              "#d8576b"
             ],
             [
              0.6666666666666666,
              "#ed7953"
             ],
             [
              0.7777777777777778,
              "#fb9f3a"
             ],
             [
              0.8888888888888888,
              "#fdca26"
             ],
             [
              1,
              "#f0f921"
             ]
            ],
            "type": "heatmap"
           }
          ],
          "heatmapgl": [
           {
            "colorbar": {
             "outlinewidth": 0,
             "ticks": ""
            },
            "colorscale": [
             [
              0,
              "#0d0887"
             ],
             [
              0.1111111111111111,
              "#46039f"
             ],
             [
              0.2222222222222222,
              "#7201a8"
             ],
             [
              0.3333333333333333,
              "#9c179e"
             ],
             [
              0.4444444444444444,
              "#bd3786"
             ],
             [
              0.5555555555555556,
              "#d8576b"
             ],
             [
              0.6666666666666666,
              "#ed7953"
             ],
             [
              0.7777777777777778,
              "#fb9f3a"
             ],
             [
              0.8888888888888888,
              "#fdca26"
             ],
             [
              1,
              "#f0f921"
             ]
            ],
            "type": "heatmapgl"
           }
          ],
          "histogram": [
           {
            "marker": {
             "pattern": {
              "fillmode": "overlay",
              "size": 10,
              "solidity": 0.2
             }
            },
            "type": "histogram"
           }
          ],
          "histogram2d": [
           {
            "colorbar": {
             "outlinewidth": 0,
             "ticks": ""
            },
            "colorscale": [
             [
              0,
              "#0d0887"
             ],
             [
              0.1111111111111111,
              "#46039f"
             ],
             [
              0.2222222222222222,
              "#7201a8"
             ],
             [
              0.3333333333333333,
              "#9c179e"
             ],
             [
              0.4444444444444444,
              "#bd3786"
             ],
             [
              0.5555555555555556,
              "#d8576b"
             ],
             [
              0.6666666666666666,
              "#ed7953"
             ],
             [
              0.7777777777777778,
              "#fb9f3a"
             ],
             [
              0.8888888888888888,
              "#fdca26"
             ],
             [
              1,
              "#f0f921"
             ]
            ],
            "type": "histogram2d"
           }
          ],
          "histogram2dcontour": [
           {
            "colorbar": {
             "outlinewidth": 0,
             "ticks": ""
            },
            "colorscale": [
             [
              0,
              "#0d0887"
             ],
             [
              0.1111111111111111,
              "#46039f"
             ],
             [
              0.2222222222222222,
              "#7201a8"
             ],
             [
              0.3333333333333333,
              "#9c179e"
             ],
             [
              0.4444444444444444,
              "#bd3786"
             ],
             [
              0.5555555555555556,
              "#d8576b"
             ],
             [
              0.6666666666666666,
              "#ed7953"
             ],
             [
              0.7777777777777778,
              "#fb9f3a"
             ],
             [
              0.8888888888888888,
              "#fdca26"
             ],
             [
              1,
              "#f0f921"
             ]
            ],
            "type": "histogram2dcontour"
           }
          ],
          "mesh3d": [
           {
            "colorbar": {
             "outlinewidth": 0,
             "ticks": ""
            },
            "type": "mesh3d"
           }
          ],
          "parcoords": [
           {
            "line": {
             "colorbar": {
              "outlinewidth": 0,
              "ticks": ""
             }
            },
            "type": "parcoords"
           }
          ],
          "pie": [
           {
            "automargin": true,
            "type": "pie"
           }
          ],
          "scatter": [
           {
            "fillpattern": {
             "fillmode": "overlay",
             "size": 10,
             "solidity": 0.2
            },
            "type": "scatter"
           }
          ],
          "scatter3d": [
           {
            "line": {
             "colorbar": {
              "outlinewidth": 0,
              "ticks": ""
             }
            },
            "marker": {
             "colorbar": {
              "outlinewidth": 0,
              "ticks": ""
             }
            },
            "type": "scatter3d"
           }
          ],
          "scattercarpet": [
           {
            "marker": {
             "colorbar": {
              "outlinewidth": 0,
              "ticks": ""
             }
            },
            "type": "scattercarpet"
           }
          ],
          "scattergeo": [
           {
            "marker": {
             "colorbar": {
              "outlinewidth": 0,
              "ticks": ""
             }
            },
            "type": "scattergeo"
           }
          ],
          "scattergl": [
           {
            "marker": {
             "colorbar": {
              "outlinewidth": 0,
              "ticks": ""
             }
            },
            "type": "scattergl"
           }
          ],
          "scattermapbox": [
           {
            "marker": {
             "colorbar": {
              "outlinewidth": 0,
              "ticks": ""
             }
            },
            "type": "scattermapbox"
           }
          ],
          "scatterpolar": [
           {
            "marker": {
             "colorbar": {
              "outlinewidth": 0,
              "ticks": ""
             }
            },
            "type": "scatterpolar"
           }
          ],
          "scatterpolargl": [
           {
            "marker": {
             "colorbar": {
              "outlinewidth": 0,
              "ticks": ""
             }
            },
            "type": "scatterpolargl"
           }
          ],
          "scatterternary": [
           {
            "marker": {
             "colorbar": {
              "outlinewidth": 0,
              "ticks": ""
             }
            },
            "type": "scatterternary"
           }
          ],
          "surface": [
           {
            "colorbar": {
             "outlinewidth": 0,
             "ticks": ""
            },
            "colorscale": [
             [
              0,
              "#0d0887"
             ],
             [
              0.1111111111111111,
              "#46039f"
             ],
             [
              0.2222222222222222,
              "#7201a8"
             ],
             [
              0.3333333333333333,
              "#9c179e"
             ],
             [
              0.4444444444444444,
              "#bd3786"
             ],
             [
              0.5555555555555556,
              "#d8576b"
             ],
             [
              0.6666666666666666,
              "#ed7953"
             ],
             [
              0.7777777777777778,
              "#fb9f3a"
             ],
             [
              0.8888888888888888,
              "#fdca26"
             ],
             [
              1,
              "#f0f921"
             ]
            ],
            "type": "surface"
           }
          ],
          "table": [
           {
            "cells": {
             "fill": {
              "color": "#EBF0F8"
             },
             "line": {
              "color": "white"
             }
            },
            "header": {
             "fill": {
              "color": "#C8D4E3"
             },
             "line": {
              "color": "white"
             }
            },
            "type": "table"
           }
          ]
         },
         "layout": {
          "annotationdefaults": {
           "arrowcolor": "#2a3f5f",
           "arrowhead": 0,
           "arrowwidth": 1
          },
          "autotypenumbers": "strict",
          "coloraxis": {
           "colorbar": {
            "outlinewidth": 0,
            "ticks": ""
           }
          },
          "colorscale": {
           "diverging": [
            [
             0,
             "#8e0152"
            ],
            [
             0.1,
             "#c51b7d"
            ],
            [
             0.2,
             "#de77ae"
            ],
            [
             0.3,
             "#f1b6da"
            ],
            [
             0.4,
             "#fde0ef"
            ],
            [
             0.5,
             "#f7f7f7"
            ],
            [
             0.6,
             "#e6f5d0"
            ],
            [
             0.7,
             "#b8e186"
            ],
            [
             0.8,
             "#7fbc41"
            ],
            [
             0.9,
             "#4d9221"
            ],
            [
             1,
             "#276419"
            ]
           ],
           "sequential": [
            [
             0,
             "#0d0887"
            ],
            [
             0.1111111111111111,
             "#46039f"
            ],
            [
             0.2222222222222222,
             "#7201a8"
            ],
            [
             0.3333333333333333,
             "#9c179e"
            ],
            [
             0.4444444444444444,
             "#bd3786"
            ],
            [
             0.5555555555555556,
             "#d8576b"
            ],
            [
             0.6666666666666666,
             "#ed7953"
            ],
            [
             0.7777777777777778,
             "#fb9f3a"
            ],
            [
             0.8888888888888888,
             "#fdca26"
            ],
            [
             1,
             "#f0f921"
            ]
           ],
           "sequentialminus": [
            [
             0,
             "#0d0887"
            ],
            [
             0.1111111111111111,
             "#46039f"
            ],
            [
             0.2222222222222222,
             "#7201a8"
            ],
            [
             0.3333333333333333,
             "#9c179e"
            ],
            [
             0.4444444444444444,
             "#bd3786"
            ],
            [
             0.5555555555555556,
             "#d8576b"
            ],
            [
             0.6666666666666666,
             "#ed7953"
            ],
            [
             0.7777777777777778,
             "#fb9f3a"
            ],
            [
             0.8888888888888888,
             "#fdca26"
            ],
            [
             1,
             "#f0f921"
            ]
           ]
          },
          "colorway": [
           "#636efa",
           "#EF553B",
           "#00cc96",
           "#ab63fa",
           "#FFA15A",
           "#19d3f3",
           "#FF6692",
           "#B6E880",
           "#FF97FF",
           "#FECB52"
          ],
          "font": {
           "color": "#2a3f5f"
          },
          "geo": {
           "bgcolor": "white",
           "lakecolor": "white",
           "landcolor": "#E5ECF6",
           "showlakes": true,
           "showland": true,
           "subunitcolor": "white"
          },
          "hoverlabel": {
           "align": "left"
          },
          "hovermode": "closest",
          "mapbox": {
           "style": "light"
          },
          "paper_bgcolor": "white",
          "plot_bgcolor": "#E5ECF6",
          "polar": {
           "angularaxis": {
            "gridcolor": "white",
            "linecolor": "white",
            "ticks": ""
           },
           "bgcolor": "#E5ECF6",
           "radialaxis": {
            "gridcolor": "white",
            "linecolor": "white",
            "ticks": ""
           }
          },
          "scene": {
           "xaxis": {
            "backgroundcolor": "#E5ECF6",
            "gridcolor": "white",
            "gridwidth": 2,
            "linecolor": "white",
            "showbackground": true,
            "ticks": "",
            "zerolinecolor": "white"
           },
           "yaxis": {
            "backgroundcolor": "#E5ECF6",
            "gridcolor": "white",
            "gridwidth": 2,
            "linecolor": "white",
            "showbackground": true,
            "ticks": "",
            "zerolinecolor": "white"
           },
           "zaxis": {
            "backgroundcolor": "#E5ECF6",
            "gridcolor": "white",
            "gridwidth": 2,
            "linecolor": "white",
            "showbackground": true,
            "ticks": "",
            "zerolinecolor": "white"
           }
          },
          "shapedefaults": {
           "line": {
            "color": "#2a3f5f"
           }
          },
          "ternary": {
           "aaxis": {
            "gridcolor": "white",
            "linecolor": "white",
            "ticks": ""
           },
           "baxis": {
            "gridcolor": "white",
            "linecolor": "white",
            "ticks": ""
           },
           "bgcolor": "#E5ECF6",
           "caxis": {
            "gridcolor": "white",
            "linecolor": "white",
            "ticks": ""
           }
          },
          "title": {
           "x": 0.05
          },
          "xaxis": {
           "automargin": true,
           "gridcolor": "white",
           "linecolor": "white",
           "ticks": "",
           "title": {
            "standoff": 15
           },
           "zerolinecolor": "white",
           "zerolinewidth": 2
          },
          "yaxis": {
           "automargin": true,
           "gridcolor": "white",
           "linecolor": "white",
           "ticks": "",
           "title": {
            "standoff": 15
           },
           "zerolinecolor": "white",
           "zerolinewidth": 2
          }
         }
        },
        "title": {
         "text": "Impact of COVID-19 on Different Sectors in Bulgaria"
        },
        "xaxis": {
         "anchor": "y",
         "domain": [
          0,
          0.94
         ],
         "matches": "x3",
         "showticklabels": false
        },
        "xaxis2": {
         "anchor": "y3",
         "domain": [
          0,
          0.94
         ],
         "matches": "x3",
         "showticklabels": false
        },
        "xaxis3": {
         "anchor": "y5",
         "domain": [
          0,
          0.94
         ]
        },
        "yaxis": {
         "anchor": "x",
         "domain": [
          0.7333333333333334,
          1
         ]
        },
        "yaxis2": {
         "anchor": "x",
         "overlaying": "y",
         "side": "right"
        },
        "yaxis3": {
         "anchor": "x2",
         "domain": [
          0.3666666666666667,
          0.6333333333333333
         ]
        },
        "yaxis4": {
         "anchor": "x2",
         "overlaying": "y3",
         "side": "right"
        },
        "yaxis5": {
         "anchor": "x3",
         "domain": [
          0,
          0.26666666666666666
         ]
        },
        "yaxis6": {
         "anchor": "x3",
         "overlaying": "y5",
         "side": "right"
        }
       }
      }
     },
     "metadata": {},
     "output_type": "display_data"
    }
   ],
   "source": [
    "fig = make_subplots(rows=3, cols=1,\n",
    "                    shared_xaxes=True,\n",
    "                    subplot_titles=('Air passenger vs Emissions', 'Air passenger vs Tourism', 'Air passenger vs Freight'),\n",
    "                    vertical_spacing=0.1,\n",
    "                    specs=[[{'secondary_y': True}],\n",
    "                           [{'secondary_y': True}],\n",
    "                           [{'secondary_y': True}]])\n",
    "\n",
    "# For Traffic vs Emissions\n",
    "fig.add_trace(go.Scatter(\n",
    "    x=traffic_BG['TIME_PERIOD'],\n",
    "    y=traffic_BG['OBS_VALUE'],\n",
    "    name='Air passenger',\n",
    "    line=dict(color='blue'),\n",
    "), row=1, col=1, secondary_y=True)\n",
    "\n",
    "fig.add_trace(go.Scatter(\n",
    "    x=emissions_BG['TIME_PERIOD'],\n",
    "    y=emissions_BG['OBS_VALUE'],\n",
    "    name=\"Emissions (NO_2)\",\n",
    "    line=dict(color='green'),\n",
    "), row=1, col=1, secondary_y=False)\n",
    "\n",
    "# For Traffic vs Tourism\n",
    "fig.add_trace(go.Scatter(\n",
    "    x=traffic_BG['TIME_PERIOD'],\n",
    "    y=traffic_BG['OBS_VALUE'],\n",
    "    showlegend=False,  \n",
    "    line=dict(color='blue'),\n",
    "), row=2, col=1, secondary_y=True)\n",
    "\n",
    "fig.add_trace(go.Scatter(\n",
    "    x=tourism_BG['TIME_PERIOD'],\n",
    "    y=tourism_BG['OBS_VALUE'],\n",
    "    name='Tourism',\n",
    "    line=dict(color='red'),\n",
    "), row=2, col=1, secondary_y=False)\n",
    "\n",
    "# For Traffic vs Freight\n",
    "fig.add_trace(go.Scatter(\n",
    "    x=traffic_BG['TIME_PERIOD'],\n",
    "    y=traffic_BG['OBS_VALUE'],\n",
    "    showlegend=False, \n",
    "    line=dict(color='blue'),\n",
    "), row=3, col=1, secondary_y=True)\n",
    "\n",
    "fig.add_trace(go.Scatter(\n",
    "    x=supply_BG['TIME_PERIOD'],\n",
    "    y=supply_BG['OBS_VALUE'],\n",
    "    name='Freight NL',\n",
    "    line=dict(color='black'),\n",
    "), row=3, col=1, secondary_y=False)\n",
    "\n",
    "fig.update_layout(\n",
    "    title_text='Impact of COVID-19 on Different Sectors in Bulgaria',\n",
    "    height=900 \n",
    ")\n",
    "\n",
    "fig.add_vline(x='2020-02', line_width=2, line_color='red', line_dash='dot')\n",
    "fig.add_annotation(\n",
    "    dict(\n",
    "        x='2020-02-01',\n",
    "        y=1.05,  \n",
    "        xref='x',\n",
    "        yref='paper',\n",
    "        text='Begin COVID-19',  \n",
    "        showarrow=False,\n",
    "        font=dict(\n",
    "            family='Courier New, monospace',\n",
    "            size=16,\n",
    "            color='red'\n",
    "        ),\n",
    "        ax=0,  \n",
    "        ay=0\n",
    "    )\n",
    ")\n",
    "\n",
    "fig.show()\n"
   ]
  },
  {
   "cell_type": "code",
   "execution_count": 305,
   "metadata": {},
   "outputs": [
    {
     "data": {
      "image/png": "[encoded data removed]",
      "text/plain": [
       "<Figure size 1000x800 with 2 Axes>"
      ]
     },
     "metadata": {},
     "output_type": "display_data"
    }
   ],
   "source": [
    "# Merge the dataframes based on the TIME_PERIOD column\n",
    "merged_BG = traffic_BG[['TIME_PERIOD', 'OBS_VALUE']].rename(columns={'OBS_VALUE': 'Traffic'})\n",
    "merged_BG = pd.merge(merged_BG, emissions_BG[['TIME_PERIOD', 'OBS_VALUE']], on='TIME_PERIOD', how='left').rename(columns={'OBS_VALUE': 'Emissions'})\n",
    "merged_BG = pd.merge(merged_BG, tourism_BG[['TIME_PERIOD', 'OBS_VALUE']], on='TIME_PERIOD', how='left').rename(columns={'OBS_VALUE': 'Tourism'})\n",
    "merged_BG = pd.merge(merged_BG, supply_BG[['TIME_PERIOD', 'OBS_VALUE']], on='TIME_PERIOD', how='left').rename(columns={'OBS_VALUE': 'Supply'})\n",
    "\n",
    "corr = merged_BG.drop(columns='TIME_PERIOD').corr()\n",
    "\n",
    "mask = np.triu(np.ones_like(corr, dtype=bool))\n",
    "plt.figure(figsize=(10, 8))\n",
    "sns.heatmap(corr, mask=mask, cmap='coolwarm', vmax=1.0, vmin=-1.0, center=0,\n",
    "            square=True, linewidths=.5, cbar_kws={\"shrink\": .5}, annot=True)\n",
    "plt.title('Correlation Heatmap for Traffic, Emission, Tourism, and Supply in Bulgaria')\n",
    "plt.show()\n"
   ]
  },
  {
   "cell_type": "markdown",
   "metadata": {},
   "source": [
    "## Clustering"
   ]
  },
  {
   "cell_type": "code",
   "execution_count": 323,
   "metadata": {},
   "outputs": [
    {
     "name": "stdout",
     "output_type": "stream",
     "text": [
      "     TIME_PERIOD geo    Traffic  Emissions     Tourism   Supply\n",
      "0        2019-02  AT  2362496.0        NaN  10323988.0  20406.9\n",
      "1        2019-03  AT  2884515.0        NaN   9246629.0  25965.7\n",
      "2        2019-04  AT  2993159.0        NaN   5541037.0  25910.5\n",
      "3        2019-05  AT  3050436.0        NaN   5231195.0  24700.3\n",
      "4        2019-06  AT  3332670.0        NaN   7976921.0  23749.0\n",
      "...          ...  ..        ...        ...         ...      ...\n",
      "3590     2022-11  XK        NaN        NaN     48191.0      NaN\n",
      "3591     2022-12  XK        NaN        NaN     77133.0      NaN\n",
      "3592     2023-01  XK        NaN        NaN     59438.0      NaN\n",
      "3593     2023-02  XK        NaN        NaN     75281.0      NaN\n",
      "3594     2023-03  XK        NaN        NaN    104445.0      NaN\n",
      "\n",
      "[3595 rows x 6 columns]\n"
     ]
    }
   ],
   "source": [
    "# First, let's rename the 'OBS_VALUE' columns in each dataframe for clarity\n",
    "traffic = traffic.rename(columns={'OBS_VALUE': 'Traffic'})\n",
    "emissions = emissions.rename(columns={'OBS_VALUE': 'Emissions'})\n",
    "tourism = tourism.rename(columns={'OBS_VALUE': 'Tourism'})\n",
    "supply = supply.rename(columns={'OBS_VALUE': 'Supply'})\n",
    "\n",
    "# Filter datasets based on your criteria (but without the 'geo' condition)\n",
    "traffic_filtered = traffic[\n",
    "    (traffic['tra_meas'] == 'PAS_BRD') &\n",
    "    (traffic['TIME_PERIOD'] >= '2019-02') & \n",
    "    (traffic['TIME_PERIOD'] <= '2023-03')                   \n",
    "]\n",
    "\n",
    "emissions_filtered = emissions[\n",
    "    (emissions['TIME_PERIOD'] >= '2019-02') &\n",
    "    (emissions['TIME_PERIOD'] <= '2023-03')\n",
    "]\n",
    "\n",
    "tourism_filtered = tourism[\n",
    "    (tourism['unit'] == 'NR') &\n",
    "    (tourism['nace_r2'] == 'I551') &\n",
    "    (tourism['c_resid'] == 'TOTAL') &\n",
    "    (tourism['TIME_PERIOD'] >= '2019-02') &\n",
    "    (tourism['TIME_PERIOD'] <= '2023-03')\n",
    "]\n",
    "\n",
    "supply_filtered = supply[\n",
    "    (supply['tra_meas'] == 'FRM_BRD') & \n",
    "    (supply['TIME_PERIOD'] >= '2019-02') &\n",
    "    (supply['TIME_PERIOD'] <= '2023-03')\n",
    "]\n",
    "\n",
    "# Merge the dataframes on 'TIME_PERIOD'\n",
    "merged_data = pd.merge(traffic_filtered[['TIME_PERIOD', 'geo', 'Traffic']], \n",
    "                       emissions_filtered[['TIME_PERIOD', 'geo', 'Emissions']], \n",
    "                       on=['TIME_PERIOD', 'geo'], \n",
    "                       how='outer')\n",
    "\n",
    "merged_data = pd.merge(merged_data, \n",
    "                       tourism_filtered[['TIME_PERIOD', 'geo', 'Tourism']], \n",
    "                       on=['TIME_PERIOD', 'geo'], \n",
    "                       how='outer')\n",
    "\n",
    "merged_data = pd.merge(merged_data, \n",
    "                       supply_filtered[['TIME_PERIOD', 'geo', 'Supply']], \n",
    "                       on=['TIME_PERIOD', 'geo'], \n",
    "                       how='outer')\n",
    "\n",
    "print(merged_data)\n"
   ]
  },
  {
   "cell_type": "code",
   "execution_count": 324,
   "metadata": {},
   "outputs": [
    {
     "name": "stdout",
     "output_type": "stream",
     "text": [
      "    TIME_PERIOD geo  Traffic  Emissions    Tourism   Supply\n",
      "0       2019-02  BG   537044       28.7   826763.0   2383.7\n",
      "1       2019-03  BG   618879       26.9   800328.0   2437.1\n",
      "2       2019-04  BG   678766       21.3   888474.0   2737.6\n",
      "3       2019-05  BG   879835       16.4  1369430.0   2394.2\n",
      "4       2019-06  BG  1459266       19.2  3793185.0   2457.9\n",
      "..          ...  ..      ...        ...        ...      ...\n",
      "195     2022-11  PL  2876446       24.4  4062227.0  16321.5\n",
      "196     2022-12  PL  2973753       24.1  3897817.0  17038.8\n",
      "197     2023-01  PL  2949180       21.4  3831586.0  12926.7\n",
      "198     2023-02  PL  2834985       24.9  4095277.0  12820.7\n",
      "199     2023-03  PL  3244453       28.8  4045097.0  21567.2\n",
      "\n",
      "[200 rows x 6 columns]\n"
     ]
    },
    {
     "name": "stderr",
     "output_type": "stream",
     "text": [
      "/var/folders/t7/zv66s7112kz90jccz5_hq3480000gn/T/ipykernel_39592/3009799372.py:5: SettingWithCopyWarning:\n",
      "\n",
      "\n",
      "A value is trying to be set on a copy of a slice from a DataFrame.\n",
      "Try using .loc[row_indexer,col_indexer] = value instead\n",
      "\n",
      "See the caveats in the documentation: https://pandas.pydata.org/pandas-docs/stable/user_guide/indexing.html#returning-a-view-versus-a-copy\n",
      "\n"
     ]
    }
   ],
   "source": [
    "# Define the list of countries\n",
    "countries = ['NL', 'LU', 'PL', 'BG']\n",
    "\n",
    "# Adjust for emissions '_CAP' suffix\n",
    "emissions_filtered['geo'] = emissions_filtered['geo'].str.replace('_CAP', '')\n",
    "emissions_filtered = emissions_filtered[emissions_filtered['geo'].isin(countries)]\n",
    "\n",
    "# Now, filter the other datasets based on the countries list\n",
    "traffic_filtered = traffic_filtered[traffic_filtered['geo'].isin(countries)]\n",
    "tourism_filtered = tourism_filtered[tourism_filtered['geo'].isin(countries)]\n",
    "supply_filtered = supply_filtered[supply_filtered['geo'].isin(countries)]\n",
    "\n",
    "\n",
    "# Now, merge the dataframes based on 'TIME_PERIOD' and 'geo'\n",
    "merged_data = pd.merge(traffic_filtered[['TIME_PERIOD', 'geo', 'Traffic']], \n",
    "                       emissions_filtered[['TIME_PERIOD', 'geo', 'Emissions']], \n",
    "                       on=['TIME_PERIOD', 'geo'], \n",
    "                       how='outer')\n",
    "\n",
    "merged_data = pd.merge(merged_data, \n",
    "                       tourism_filtered[['TIME_PERIOD', 'geo', 'Tourism']], \n",
    "                       on=['TIME_PERIOD', 'geo'], \n",
    "                       how='outer')\n",
    "\n",
    "merged_data = pd.merge(merged_data, \n",
    "                       supply_filtered[['TIME_PERIOD', 'geo', 'Supply']], \n",
    "                       on=['TIME_PERIOD', 'geo'], \n",
    "                       how='outer')\n",
    "\n",
    "print(merged_data)\n"
   ]
  },
  {
   "cell_type": "code",
   "execution_count": 333,
   "metadata": {},
   "outputs": [
    {
     "name": "stderr",
     "output_type": "stream",
     "text": [
      "/Library/Frameworks/Python.framework/Versions/3.10/lib/python3.10/site-packages/sklearn/cluster/_kmeans.py:870: FutureWarning:\n",
      "\n",
      "The default value of `n_init` will change from 10 to 'auto' in 1.4. Set the value of `n_init` explicitly to suppress the warning\n",
      "\n",
      "/Library/Frameworks/Python.framework/Versions/3.10/lib/python3.10/site-packages/sklearn/cluster/_kmeans.py:870: FutureWarning:\n",
      "\n",
      "The default value of `n_init` will change from 10 to 'auto' in 1.4. Set the value of `n_init` explicitly to suppress the warning\n",
      "\n",
      "/Library/Frameworks/Python.framework/Versions/3.10/lib/python3.10/site-packages/sklearn/cluster/_kmeans.py:870: FutureWarning:\n",
      "\n",
      "The default value of `n_init` will change from 10 to 'auto' in 1.4. Set the value of `n_init` explicitly to suppress the warning\n",
      "\n",
      "/Library/Frameworks/Python.framework/Versions/3.10/lib/python3.10/site-packages/sklearn/cluster/_kmeans.py:870: FutureWarning:\n",
      "\n",
      "The default value of `n_init` will change from 10 to 'auto' in 1.4. Set the value of `n_init` explicitly to suppress the warning\n",
      "\n",
      "/Library/Frameworks/Python.framework/Versions/3.10/lib/python3.10/site-packages/sklearn/cluster/_kmeans.py:870: FutureWarning:\n",
      "\n",
      "The default value of `n_init` will change from 10 to 'auto' in 1.4. Set the value of `n_init` explicitly to suppress the warning\n",
      "\n",
      "/Library/Frameworks/Python.framework/Versions/3.10/lib/python3.10/site-packages/sklearn/cluster/_kmeans.py:870: FutureWarning:\n",
      "\n",
      "The default value of `n_init` will change from 10 to 'auto' in 1.4. Set the value of `n_init` explicitly to suppress the warning\n",
      "\n",
      "/Library/Frameworks/Python.framework/Versions/3.10/lib/python3.10/site-packages/sklearn/cluster/_kmeans.py:870: FutureWarning:\n",
      "\n",
      "The default value of `n_init` will change from 10 to 'auto' in 1.4. Set the value of `n_init` explicitly to suppress the warning\n",
      "\n",
      "/Library/Frameworks/Python.framework/Versions/3.10/lib/python3.10/site-packages/sklearn/cluster/_kmeans.py:870: FutureWarning:\n",
      "\n",
      "The default value of `n_init` will change from 10 to 'auto' in 1.4. Set the value of `n_init` explicitly to suppress the warning\n",
      "\n",
      "/Library/Frameworks/Python.framework/Versions/3.10/lib/python3.10/site-packages/sklearn/cluster/_kmeans.py:870: FutureWarning:\n",
      "\n",
      "The default value of `n_init` will change from 10 to 'auto' in 1.4. Set the value of `n_init` explicitly to suppress the warning\n",
      "\n",
      "/Library/Frameworks/Python.framework/Versions/3.10/lib/python3.10/site-packages/sklearn/cluster/_kmeans.py:870: FutureWarning:\n",
      "\n",
      "The default value of `n_init` will change from 10 to 'auto' in 1.4. Set the value of `n_init` explicitly to suppress the warning\n",
      "\n",
      "/Library/Frameworks/Python.framework/Versions/3.10/lib/python3.10/site-packages/sklearn/cluster/_kmeans.py:870: FutureWarning:\n",
      "\n",
      "The default value of `n_init` will change from 10 to 'auto' in 1.4. Set the value of `n_init` explicitly to suppress the warning\n",
      "\n",
      "/Library/Frameworks/Python.framework/Versions/3.10/lib/python3.10/site-packages/sklearn/cluster/_kmeans.py:870: FutureWarning:\n",
      "\n",
      "The default value of `n_init` will change from 10 to 'auto' in 1.4. Set the value of `n_init` explicitly to suppress the warning\n",
      "\n",
      "/Library/Frameworks/Python.framework/Versions/3.10/lib/python3.10/site-packages/sklearn/cluster/_kmeans.py:870: FutureWarning:\n",
      "\n",
      "The default value of `n_init` will change from 10 to 'auto' in 1.4. Set the value of `n_init` explicitly to suppress the warning\n",
      "\n",
      "/Library/Frameworks/Python.framework/Versions/3.10/lib/python3.10/site-packages/sklearn/cluster/_kmeans.py:870: FutureWarning:\n",
      "\n",
      "The default value of `n_init` will change from 10 to 'auto' in 1.4. Set the value of `n_init` explicitly to suppress the warning\n",
      "\n"
     ]
    },
    {
     "data": {
      "image/png": "[encoded data removed]",
      "text/plain": [
       "<Figure size 1000x500 with 1 Axes>"
      ]
     },
     "metadata": {},
     "output_type": "display_data"
    }
   ],
   "source": [
    "from sklearn.cluster import KMeans\n",
    "from sklearn.discriminant_analysis import StandardScaler\n",
    "\n",
    "\n",
    "scaler = StandardScaler()\n",
    "scaled_data = scaler.fit_transform(merged_data[['Traffic', 'Emissions', 'Tourism', 'Supply']])\n",
    "\n",
    "distortions = []\n",
    "K = range(1,15)\n",
    "for k in K:\n",
    "    kmeanModel = KMeans(n_clusters=k)\n",
    "    kmeanModel.fit(scaled_data)\n",
    "    distortions.append(kmeanModel.inertia_)\n",
    "\n",
    "plt.figure(figsize=(10,5))\n",
    "plt.plot(K, distortions, 'bx-')\n",
    "plt.xlabel('k')\n",
    "plt.ylabel('Distortion')\n",
    "plt.title('The Elbow Method showing the optimal k')\n",
    "plt.show()"
   ]
  },
  {
   "cell_type": "code",
   "execution_count": 334,
   "metadata": {},
   "outputs": [
    {
     "name": "stdout",
     "output_type": "stream",
     "text": [
      "              Traffic  Emissions       Tourism         Supply\n",
      "Cluster                                                      \n",
      "0        4.189433e+05  30.839130  6.847330e+05   15976.045652\n",
      "1        5.502517e+06  24.924242  4.394835e+06  136376.148485\n",
      "2        2.806259e+06  25.512766  4.407792e+06   11585.748936\n",
      "3        5.368463e+05  21.308108  7.161149e+05   78275.685135\n"
     ]
    },
    {
     "name": "stderr",
     "output_type": "stream",
     "text": [
      "/Library/Frameworks/Python.framework/Versions/3.10/lib/python3.10/site-packages/sklearn/cluster/_kmeans.py:870: FutureWarning:\n",
      "\n",
      "The default value of `n_init` will change from 10 to 'auto' in 1.4. Set the value of `n_init` explicitly to suppress the warning\n",
      "\n",
      "/var/folders/t7/zv66s7112kz90jccz5_hq3480000gn/T/ipykernel_39592/1888150988.py:8: FutureWarning:\n",
      "\n",
      "The default value of numeric_only in DataFrameGroupBy.mean is deprecated. In a future version, numeric_only will default to False. Either specify numeric_only or select only columns which should be valid for the function.\n",
      "\n"
     ]
    },
    {
     "data": {
      "image/png": "[encoded data removed]",
      "text/plain": [
       "<Figure size 640x480 with 1 Axes>"
      ]
     },
     "metadata": {},
     "output_type": "display_data"
    }
   ],
   "source": [
    "# k = 4 is determined from elbow point above\n",
    "k = 4\n",
    "kmeans = KMeans(n_clusters=k, random_state=42)\n",
    "clusters = kmeans.fit_predict(scaled_data)\n",
    "merged_data['Cluster'] = clusters\n",
    "cluster_analysis = merged_data.groupby('Cluster').mean()\n",
    "print(cluster_analysis)\n",
    "\n",
    "\n",
    "plt.scatter(merged_data['Traffic'], merged_data['Emissions'], c=merged_data['Cluster'], cmap='rainbow')\n",
    "plt.xlabel('Traffic')\n",
    "plt.ylabel('Emissions')\n",
    "plt.show()"
   ]
  }
 ],
 "metadata": {
  "kernelspec": {
   "display_name": "Python 3",
   "language": "python",
   "name": "python3"
  },
  "language_info": {
   "codemirror_mode": {
    "name": "ipython",
    "version": 3
   },
   "file_extension": ".py",
   "mimetype": "text/x-python",
   "name": "python",
   "nbconvert_exporter": "python",
   "pygments_lexer": "ipython3",
   "version": "3.10.7"
  }
 },
 "nbformat": 4,
 "nbformat_minor": 2
}

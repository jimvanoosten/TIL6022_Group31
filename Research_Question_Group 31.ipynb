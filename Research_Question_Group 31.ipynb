{
 "cells": [
  {
   "cell_type": "markdown",
   "metadata": {},
   "source": [
    "# Project Group - 31\n",
    "\n",
    "Members: Gijs de Werd, Georges Puttaert, Thijs Roolvink, Jim van Oosten\n",
    "\n",
    "Student numbers: 4717775, 4686160, 4961382, 4734998"
   ]
  },
  {
   "cell_type": "markdown",
   "metadata": {},
   "source": [
    "# Research Objective\n",
    "\n",
    "*Requires data modeling and quantitative research in Transport, Infrastructure & Logistics*"
   ]
  },
  {
   "cell_type": "markdown",
   "metadata": {},
   "source": [
    "## \"How did the COVID-19-related fluctuations in number of flights (2019-2022) affected GHG emissions, GDP, and tourism in the EU in general, the Netherlands, Italy, and Spain and what are the regional variations in these effects??\""
   ]
  },
  {
   "cell_type": "markdown",
   "metadata": {},
   "source": [
    "# Contribution Statement\n",
    "\n",
    "*Be specific. Some of the tasks can be coding (expect everyone to do this), background research, conceptualisation, visualisation, data analysis, data modelling*"
   ]
  },
  {
   "cell_type": "markdown",
   "metadata": {},
   "source": [
    "**Gijs de Werd**: Setting up project and doing the Data analysis\n",
    "\n",
    "**Georges Puttaert**: Visualization of the data\n",
    "\n",
    "**Thijs Roolvink**: Conceptualization \n",
    "\n",
    "**Jim van Oosten**: Background research "
   ]
  },
  {
   "cell_type": "markdown",
   "metadata": {},
   "source": [
    "# Data Used"
   ]
  },
  {
   "cell_type": "markdown",
   "metadata": {},
   "source": [
    "GDP per capita in PPS: https://ec.europa.eu/eurostat/web/products-datasets/-/tec00114 \\\n",
    "Commercial flights by reporting airport – monthly data: https://ec.europa.eu/eurostat/databrowser/view/AVIA_TF_AIRPM/default/table?lang=en \\\n",
    "Nitrogen dioxide concentrations in European capital cities - monthly averages: https://ec.europa.eu/eurostat/databrowser/view/ENV_AIR_NO2/default/table?lang=en \\\n",
    "Arrivals at tourist accommodation establishments - monthly data: https://ec.europa.eu/eurostat/databrowser/view/TOUR_OCC_ARM/default/table?lang=en \\"
   ]
  },
  {
   "cell_type": "markdown",
   "metadata": {},
   "source": [
    "# Data Pipeline"
   ]
  },
  {
   "cell_type": "markdown",
   "metadata": {},
   "source": []
  }
 ],
 "metadata": {
  "kernelspec": {
   "display_name": "Python 3",
   "language": "python",
   "name": "python3"
  },
  "language_info": {
   "name": "python",
   "version": "3.8.2"
  },
  "orig_nbformat": 4,
  "vscode": {
   "interpreter": {
    "hash": "31f2aee4e71d21fbe5cf8b01ff0e069b9275f58929596ceb00d14d90e3e16cd6"
   }
  }
 },
 "nbformat": 4,
 "nbformat_minor": 2
}

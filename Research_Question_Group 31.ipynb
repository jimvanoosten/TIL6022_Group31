{
 "cells": [
  {
   "cell_type": "markdown",
   "metadata": {},
   "source": [
    "# Impact of COVID-19-induced Flight Fluctuations on the EU's Emissions, supply chain, and Tourism: A Deep Dive into The Netherlands, Italy, and Bulgaria\n",
    "\n",
    "## Project Group - 31\n",
    "\n",
    "Members (student number): \n",
    "- Gijs de Werd          (4717775)\n",
    "- Georges Puttaert      (4686160)\n",
    "- Thijs Roolvink        (4961382)\n",
    "- Jim van Oosten        (4734998)\n",
    "\n",
    "A link to the Github Repository: https://github.com/jimvanoosten/TIL6022_Group31"
   ]
  },
  {
   "cell_type": "markdown",
   "metadata": {},
   "source": [
    "## Contribution Statement\n",
    "\n",
    "**Gijs de Werd**: Setting up project and doing the Data analysis, coding data preparation\n",
    "\n",
    "**Georges Puttaert**: Visualization general plots and coding of the data\n",
    "\n",
    "**Thijs Roolvink**: Conceptualization, coding of the in depth plots\n",
    "\n",
    "**Jim van Oosten**: Background research, coding conclusion "
   ]
  },
  {
   "cell_type": "markdown",
   "metadata": {},
   "source": [
    "## Research Objective"
   ]
  },
  {
   "cell_type": "markdown",
   "metadata": {},
   "source": [
    "The main research question that is being analyzed in this report is as following: \"How did the COVID-19-related fluctuations in flights (2019-2022) affected GHG emissions, supply chain, and tourism in lower middle, upper middle and high income country like the Netherlands, France, and Bulgaria\". The main research question is answered by questioning multiple sub research questions to support the final conclusion:\n",
    "\n",
    "- 1: Are there discernible differences within The Netherlands, France, and Bulgaria in terms of declined CO2 emissions due to differentations in income class? *antwoord hierop kan zijn dat dus lagere income class country minder snel vluchten reduceerde en dus minder CO2 daling ziet*\n",
    "- 2: Which aspect fluctuated the most due to changes in flight numbers?\n",
    "*kijk welke factor de grootste correlatie heeft met vluchten*\n",
    "- 3: Does a country's income class determine if aircraft freight and mail export differ when flight numbers change. \n",
    "*misschien zie je dat er dus in lagere income class land ook minder freight en mail export is door mindere vluchten*\n",
    "- 4: How were tourism numbers and patterns altered in the EU as a consequence of the flight restrictions and changes during the COVID-19 period?\n",
    "*check dus of inderdaad correlatie is met minder vluchten en dus minder tourisme, kijk of er aanzienlijk verschil is per inkomsten class country*\n"
   ]
  },
  {
   "cell_type": "markdown",
   "metadata": {},
   "source": [
    "## Data Used"
   ]
  },
  {
   "cell_type": "markdown",
   "metadata": {},
   "source": [
    "GDP per capita in PPS: https://ec.europa.eu/eurostat/web/products-datasets/-/tec00114 \\\n",
    "Commercial flights by reporting airport – monthly data: https://ec.europa.eu/eurostat/databrowser/view/AVIA_TF_AIRPM/default/table?lang=en \\\n",
    "Nitrogen dioxide concentrations in European capital cities - monthly averages: https://ec.europa.eu/eurostat/databrowser/view/ENV_AIR_NO2/default/table?lang=en \\\n",
    "Arrivals at tourist accommodation establishments - monthly data: https://ec.europa.eu/eurostat/databrowser/view/TOUR_OCC_ARM/default/table?lang=en \\"
   ]
  },
  {
   "cell_type": "markdown",
   "metadata": {},
   "source": [
    "## Data Pipeline"
   ]
  },
  {
   "cell_type": "markdown",
   "metadata": {},
   "source": [
    "## 1. Introduction\n",
    "In the last decades, the avation sector grew rapidely in numbers of passengers, aircrafts and flights. Several new heights were reached, untill the start of the COVID-19 pandemic. The transportation sectors were massvively harmed and hitted the avaitionb sector at it's best. The  number of flights stagnated rapidely since the effects of COVID-19 became worse and worse. New flight regualtions were implemented and habitants didnt want to leave their homes resulting in less ask for flying. However, besides the awareness of general scrunity on the environmental impact, the decrease in flight numbers extrapolated into a relatively positive impact on the environment due to reduction in GHG and CO2. Furthermore, what is the impact on the tourism numbers due to decrease in flights? This report will analyze these questions based on datasets available before, during and after the COVID-19 period."
   ]
  },
  {
   "cell_type": "markdown",
   "metadata": {},
   "source": [
    "## 2. Data preperation"
   ]
  },
  {
   "cell_type": "markdown",
   "metadata": {},
   "source": [
    "## 3. Visualization"
   ]
  },
  {
   "cell_type": "markdown",
   "metadata": {},
   "source": [
    "## 3. Conclusion"
   ]
  },
  {
   "cell_type": "markdown",
   "metadata": {},
   "source": [
    "## 4. References"
   ]
  },
  {
   "cell_type": "markdown",
   "metadata": {},
   "source": []
  }
 ],
 "metadata": {
  "kernelspec": {
   "display_name": "Python 3",
   "language": "python",
   "name": "python3"
  },
  "language_info": {
   "name": "python",
   "version": "3.8.2"
  },
  "orig_nbformat": 4,
  "vscode": {
   "interpreter": {
    "hash": "31f2aee4e71d21fbe5cf8b01ff0e069b9275f58929596ceb00d14d90e3e16cd6"
   }
  }
 },
 "nbformat": 4,
 "nbformat_minor": 2
}

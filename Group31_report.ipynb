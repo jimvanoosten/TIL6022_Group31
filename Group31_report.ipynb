{
 "cells": [
  {
   "cell_type": "markdown",
   "metadata": {},
   "source": [
    "## Project Group - 31\n",
    "\n",
    "Members (student number): \n",
    "- Gijs de Werd          (4717775)\n",
    "- Georges Puttaert      (4686160)\n",
    "- Thijs Roolvink        (4961382)\n",
    "- Jim van Oosten        (4734998)\n",
    "\n",
    "A link to the Github Repository: https://github.com/jimvanoosten/TIL6022_Group31"
   ]
  },
  {
   "cell_type": "markdown",
   "metadata": {},
   "source": [
    "## Contribution Statement\n",
    "\n",
    "**Gijs de Werd**: Setting up project and doing the Data analysis, coding data preparation\n",
    "\n",
    "**Georges Puttaert**: Visualization general plots and coding of the data\n",
    "\n",
    "**Thijs Roolvink**: Conceptualization, coding of data preperation and plots, writing report\n",
    "\n",
    "**Jim van Oosten**: Background research, coding conclusion"
   ]
  },
  {
   "cell_type": "markdown",
   "metadata": {},
   "source": [
    "## 1. Introduction\n",
    "\n",
    "From 2010 to 2020, the aviation sector experienced a substantial rise in air passengers, significantly impacting global tourism and GDP. The European Union (EU) member states were mainly influenced by the fluctuations in air travel, tourism, and GDP per capita. Lower-income countries proved more responsive to disruptions in air passengers and tourism, while higher-income nations demonstrated greater resilience. Countries like Italy and Spain heavily relied on air passengers and tourism. This study delves into the intricate relationships among these three factors in EU countries, utilizing data from the decade preceding the COVID-19 pandemic to ensure unbiased results.\n",
    "\n",
    "The research employs data analysis and unsupervised clustering methods to unveil patterns that demonstrate the economic behaviors of countries in response to air passengers, tourism, and GDP. Section 2 outlines the data preparation process, consolidating information into DataFrames. These DataFrames form the basis for interactive plots, presenting a comprehensive overview of air passengers, tourism, and GDP in Section 3. This section includes a Gross National Income (GNI) analysis, time series plots, and a correlation matrix, all accessible through the interactive Dash dashboard, which also features a map of Europe.\n",
    "\n",
    "In Section 4, the study introduces K-means unsupervised clustering to categorize countries based on the three aspects. Boxplots provide a detailed examination of each cluster, and hierarchical clustering analyzes similarities between factors. In section 5 a brief discription is given for the dashboard made. The plots in the report are not interactive, therefore, for visualizing the interactive plots, please click on the link in section 5. The research finishes with a conclusion and discussion in the section 6."
   ]
  },
  {
   "cell_type": "markdown",
   "metadata": {},
   "source": [
    "### Research Objective\n",
    "\n",
    "**Main question**: \n",
    "\n",
    "'How does the correlation between air passenger volume, GDP, and tourism numbers influence the clustering of EU countries between 2010 and 2020?'\n",
    "\n",
    "**Hypotheses**: \n",
    "\n",
    "- High air passenger volume and tourism are positively correlated with GDP, leading to identifiable clusters among EU countries.\n",
    "- Conversely, low-GDP countries are expected to show weaker correlations with tourism, resulting in a lack of distinct clustering.\n",
    "\n",
    "**Sub questions**:\n",
    "\n",
    "1. 'What insights into economic resilience for EU countries from 2010 to 2020 can be derived from analyzing air passenger volume, GDP, and tourism data?'\n",
    "\n",
    "2. 'Are patterns evident in the time series data of air passenger volume, GDP, and tourism numbers across countries from 2010 to 2020?'\n",
    "\n",
    "3. 'How do the three key metrics — air passenger volume, GDP, and tourism numbers — correlate with each other across countries?\n",
    "\n",
    "4. 'How do countries cluster together when analyzed based on air passenger volume, GDP, and tourism data?'\n",
    "\n",
    "5. 'What common aspects can be identified within these clusters that hint at their economic resilience?'\n",
    "\n",
    "6. 'How do member countries' key metrics distribute in the identified clusters?'"
   ]
  },
  {
   "cell_type": "markdown",
   "metadata": {},
   "source": [
    "### Data Used\n",
    "\n",
    "1: Eurostat. (2023). GDP and main components (output, expenditure and income). European Commission. https://ec.europa.eu/eurostat/databrowser/view/namq_10_gdp/default/table?lang=en \\\n",
    "2: Eurostat. (2023). GDP and main components (output, expenditure and income). European Commission. https://ec.europa.eu/eurostat/databrowser/view/namq_10_gdp/default/table?lang=en \\\n",
    "3: Eurostat. (2023). Nights spent at tourist accommodation establishments. European Commission. https://ec.europa.eu/eurostat/databrowser/product/view/tour_occ_nim \\\n",
    "4: wbdata contributors. (2023). wbdata: A Python package to interact with the World Bank's datasets. Read the Docs. https://wbdata.readthedocs.io/en/latest/index.html"
   ]
  },
  {
   "cell_type": "markdown",
   "metadata": {},
   "source": [
    "## 2. Data Pipeline\n",
    "\n",
    "In this chapter, we focus on the initial step of our analysis: data retrieval and preparing. The data is taken from multiple sources, including the European Data Bank and the World Bank, to gather the indicators for all the EU countries.\n",
    "\n",
    "*Data Pipeline - Indicators from the European Data Bank EuroStat*\n",
    "\n",
    "The European Data Bank collects data from various European institutions and offers specific indicators highly relevant to the EU's policy objectives. This is relevant for the scope of this study, which looks at all countries that are members of the European Union.\n",
    "\n",
    "The indicators that are retrieved from the European Data Bank are related to air traffic, tourism, and GDP. The focus is on European Union countries from 2010 to 2020. The datasets that are retrieved are stored in the csv files that can be found in the Datasets folder. These csv files are opened and red to analyse the data.\n",
    "\n",
    "Retrieval and Cleaning\n",
    "\n",
    "As said, datasets from Eurostat include air traffic, tourism, and GDP data from 2010 to 2020. A specific function, 'quarter_to_month', was designed to convert quarterly time periods to a monthly format. After that, the datasets were cleaned, and column names were standardized to improve clarity.\n",
    "\n",
    "Filtering and Merging\n",
    "\n",
    "The datasets were filtered based on specific criteria for each economic factor (traffic, tourism, and GDP). The time periods were restricted to January 2010 to January 2020 to ensure consistency with the World Bank data. The resulting filtered datasets, traffic_filtered, tourism_filtered, and gdp_filtered, were merged into a unified DataFrame. This DataFrame consists of all the indicator information for European Union countries during the specified timeframe.\n",
    "\n",
    "\n",
    "*Data Pipeline - Indicator from the World Bank Data*\n",
    "\n",
    "The World Bank is an international financial institution that provides financial and technical assistance to developing countries. Established in 1944, its primary focus is poverty mitigation and sustainable development. The World Bank offers many data sets, from economic indicators like GDP and inflation rates to social metrics such as health expenditure and education levels.\n",
    "\n",
    "The indicator that was retrieved from the World Bank is the GNI (Gross National Income) per capita for every country worldwide. This was extracted for all European Union countries from 2010 to 2020. \n",
    "\n",
    "Retrieval, Cleaning, and Filtering  \n",
    "\n",
    "With the package 'wbdata', indicators can be retrieved from the World Bank data, when using the right label for the wanted indicator. The cleaning process of the GNI per capita data involved several steps to ensure accurate and relevant information for European Union countries. \n",
    "\n",
    "Notably, the country code for Greece was corrected, as it had an incorrect code ('EL') for the World Bank library, and the corrected code ('GR') was used. The CountryConverter class from the coco library was employed to convert country codes to ISO3 format and retrieve country names. This ensured consistency and compatibility with the World Bank data package. Additionally, the DataFrame was initialized to store the GNI per capita data for the specified years (2010 and 2020). The most significant part of the code involved a nested loop to iterate over each country and year. The cleaning process was particularly challenging due to the need to filter European Union countries from the global dataset. The resulting DataFrame contains the necessary information, including country codes, names, and GNI per capita values for the specified years."
   ]
  },
  {
   "cell_type": "markdown",
   "metadata": {},
   "source": [
    "## 3. Data Visualization\n",
    "\n",
    "### Difference in GNI within the EU countries\n",
    "In this section, we use the overview of Gross National Income (GNI) per capita data for European Union countries in the years 2010 and 2020, sourced from the World Bank's World Development Indicators database. The aim is to showcase the disparities in GNI across different European countries and to visualize the average GNI within the EU. The bar plots presented provide a comparative perspective on the economic status of EU member states over a decade. GNI per capita is a critical economic indicator representing the total domestic and foreign output claimed by residents of a country, which includes wages, dividends, interest, and rents divided by the country's population. It serves as a metric for wealth and provides insights into the economic well-being of a nation's residents. The visualizations facilitate an understanding how individual EU countries stand in relation to each other and against the EU average, which can inform discussions on economic policy, resource allocation, and regional development strategies.\n",
    "\n",
    "By looking at the graphs for 2010 and 2020, changes can be observed in the GNI per capita for each EU country over the ten years. In both years, there is a noticeable variance in the GNI per capita among EU countries, indicating economic disparity within the Union. The dashed red line indicates the average GNI per capita, providing a reference point against which to measure each country's performance. From the visual comparison, it is possible to identify countries above or below the EU average and assess how their position has changed over time. The graphs can also highlight trends, such as which countries have experienced significant growth or decline in GNI per capita over the decade. It is important to note that the graphs alone do not provide reasons for the observed changes. For a more thorough analysis, one would need to consider additional data and context, such as economic policies, demographic changes, and external economic factors.\n",
    "\n",
    "<table><tr>\n",
    "<td> <img src=\"Images/GNI_2010.png\" width=\"800\"/> </td>\n",
    "<td> <img src=\"Images/GNI_2020.png\" width=\"800\"/> </td>\n",
    "</tr></table>"
   ]
  },
  {
   "cell_type": "markdown",
   "metadata": {},
   "source": [
    "### Visualizing all three indicators: Time series interactive plot\n",
    "\n",
    "After looking at the GNI per capita for every country below, an interactive plot can be found for all European countries. It contains the three indicators for every country, and the default option is 'no country'. Data can be visualized by clicking on countries and or aspects on the right side. The plot visualizes the dynamic trends of key economic indicators that are chosen for this project, traffic, tourism, and GDP, across European Union countries from 2010 to 2022. Each line on this plot represents a specific country and indicators, showing the trend of this indicator over the specified timeframe, from 2010 to 2020. The Traffic and Tourism indicators on the left y-axis show the flow of mobility and tourist activity. Peaks and trends in these lines correspond to shifts in economic activities within each country. For instance, in Austria (AT), the tourist travel peaks are clearly in the winter and summer months, and in between, the tourist numbers are much lower. On the right y-axis, the GDP indicator scale is given, providing insight into each country's economic performance. The overlay of GDP on a secondary axis allows for a good comparison of both the GDP and the traffic and tourism."
   ]
  },
  {
   "cell_type": "markdown",
   "metadata": {},
   "source": [
    "<div>\n",
    "<img src=\"Images/Traffic_Tourism_GDP_AT.png\" width=\"800\"/>\n",
    "</div>"
   ]
  },
  {
   "cell_type": "markdown",
   "metadata": {},
   "source": [
    "### Correlation heatmap\n",
    "\n",
    "This subchapter goes deeper into the correlation of the three aspects: air passengers, tourism, and GDP. The three aspects are chosen because they have possible interrelations. However, air passengers and tourism can be related, but this is not always true. Tourism is not as high as expected since air passengers only transit in that country. Furthermore, GDP can be linked to tourism, but it could also be an aspect on its own since a certain economy's GDP is not affected by tourism if there is not that much tourism. After visualizing the correlation heatmap, multiple hypotheses are generated, which will be further elaborated in the upcoming chapters. \n",
    "\n",
    "Observations based on correlation map:\n",
    "- In general, the air passengers and tourism numbers do correlate.\n",
    "- In high-tourism countries, the GDP is interrelated with the tourism number\n",
    "- Lower GHI countries are less vulnerable to tourism and air passengers and, therefore, correlate with each other\n",
    "- Some countries have a high GDP but are not correlated much with air passenger and tourism."
   ]
  },
  {
   "cell_type": "markdown",
   "metadata": {},
   "source": [
    "<div>\n",
    "<img src=\"Images/Correlation_AT_2.png\" width=\"1200\"/>\n",
    "</div>"
   ]
  },
  {
   "cell_type": "markdown",
   "metadata": {},
   "source": [
    "## 4. Unsupervised learning: Kmeans clustering\n",
    "\n",
    "After generically visualizing the data and looking into the correlation heatmap, this chapter focuses on the relationships between countries. The K-means algorithm, an unsupervised learning method, is used to uncover potential clusters within the data. Unlike supervised learning, where data is pre-labeled, unsupervised learning algorithms like K-means work with unlabeled data to uncover hidden patterns in the data.\n",
    "\n",
    "The K-means algorithm aims to split a given dataset into 'K' distinct clusters. Each country is assigned to a cluster such that it is closest to the centroid of that cluster. The variables considered for this clustering include the traffic, tourism, and GDP indicators.\n",
    "\n",
    "Identifying the optimal number of clusters is a critical step in the process. This is typically done by finding the 'elbow point' on a plot. The elbow point is where the rate of decrease sharply changes, indicating the optimal cluster number. The graph illustrates that the elbow point suggests an optimal 'K' value of 2 or 3. For our purposes,  K is selected as 3 to distinguish the countries into three clusters.\n",
    "\n",
    "The K-means are constructed and visualized in the 3D scatter plot and distinguish the countries into three different clusters. The three-axis represents the indicators by which the clusters can be observed, offering insight into the interrelation of the indicators."
   ]
  },
  {
   "cell_type": "markdown",
   "metadata": {},
   "source": [
    "<div>\n",
    "<img src=\"Images/Elbow_method.png\" width=\"800\"/>\n",
    "</div>\n",
    "\n",
    "<div>\n",
    "<img src=\"Images/3D%20Scatter.png\" width=\"800\"/>\n",
    "</div>"
   ]
  },
  {
   "cell_type": "markdown",
   "metadata": {},
   "source": [
    "**Results Clustering**\n",
    "\n",
    "*Cluster 0:*  \n",
    "Bulgaria (BG), Cyprus (CY), Czech Republic (CZ), Estonia (EE), Greece (GR), Croatia (HR), Hungary (HU), Lithuania (LT), Latvia (LV), Malta (MT), Poland (PL), Portugal (PT), Romania (RO), Slovenia (SI), Slovakia (SK)\n",
    "\n",
    "*Cluster 1:*  \n",
    "Germany (DE), Spain (ES), France (FR), Italy (IT), United Kingdom (UK)\n",
    "\n",
    "*Cluster 2:*  \n",
    "Austria (AT), Belgium (BE), Denmark (DK), Finland (FI), Luxembourg (LU), Netherlands (NL), Sweden (SE)"
   ]
  },
  {
   "cell_type": "markdown",
   "metadata": {},
   "source": [
    "### Boxplot per cluster \n",
    "\n",
    "Boxplots serve as a statistical representation to describe the distribution of the dataset. They provide a clear visualization of the data's distribution and identify outliers. Boxplots allow for a quick comparison between different groups or clusters by displaying the median, quartiles, and extremes.\n",
    "\n",
    "In the context of Cluster 1, the boxplots for GDP, Tourism, and Traffic illustrate the economic and social dimensions of the countries within this cluster. The GDP boxplot indicates a uniform economic landscape, with a tighter interquartile range suggesting similar levels of economic activity. Although generally aligning with GDP, tourism data reveals outliers that highlight exceptional cases of tourism that exceed what might be expected based on GDP alone. Traffic volume shows minimal variation, indicating consistent transportation trends across these countries."
   ]
  },
  {
   "cell_type": "markdown",
   "metadata": {},
   "source": [
    "<table><tr>\n",
    "<td> <img src=\"Images/Boxplot_GDP.png\" width=\"800\"/> </td>\n",
    "<td> <img src=\"Images/Boxplot_Traffic.png\" width=\"800\"/> </td>\n",
    "<td> <img src=\"Images/Boxplot_Tourism.png\" width=\"800\"/> </td>\n",
    "</tr></table>"
   ]
  },
  {
   "cell_type": "markdown",
   "metadata": {},
   "source": [
    "### Hierarchical Clustering\n",
    "\n",
    "After looking at the boxplots of the indicators for the three clusters, the next step is to go deeper into the cluster and look at their relation using Hierarchical Clustering. A Hierarchical Clustering is used to visualize the dendrogram of each cluster for each indicator (Traffic, Tourism, and GDP). The dendrogram reveals the similarity in terms of the factors. The 'Distance' in the X-axis can be interpreted as a dissimilarity measure. The shorter the horizontal line that connects two countries, the more similar they are concerning that indicator. Conversely, a longer line suggests more significant dissimilarity.\n",
    "\n",
    "The analysis of Cluster 1's dendrogram concerning GDP, which can be seen below, reveals a distinct grouping within the cluster, particularly between Spain and Italy. These two countries exhibit a close association, as indicated by the small 'distance' between them on the dendrogram, suggesting their GDPs are similar. This similarity contrasts with the more considerable' distances' between these countries and others in the cluster, like France, Germany, and the United Kingdom, which implies that the GDPs of Spain and Italy are less similar to those of the latter countries.\n",
    "\n",
    "The dendrograms serve as a refinement tool for understanding the relationships between countries within each cluster and indicator."
   ]
  },
  {
   "cell_type": "markdown",
   "metadata": {},
   "source": [
    "<div>\n",
    "<img src=\"Images/Hierachical.png\" width=\"1200\"/>\n",
    "</div>"
   ]
  },
  {
   "cell_type": "markdown",
   "metadata": {},
   "source": [
    "### Europe country map\n",
    "\n",
    "The generated choropleth maps provide a view of the locations of the economic clusters within Europe based on three key indicators: traffic, tourism, and GDP. These maps offer insight into how the indicators of countries within each income cluster evolved over the period from 2010 to 2020. The map's color gradients signify variations in the chosen indicators, enabling straightforward interpretation of relative performance across countries. \n",
    "\n",
    "*Cluster 0:*  \n",
    "\n",
    "The maps for Cluster 0 illustrate a shared economic trend among the diverse countries in this cluster. This cluster includes nations with varied histories, cultures, and economic performance, yet a similar pattern is seen when analyzing traffic, tourism, and GDP indicators. What is visible on this map is that most countries in this cluster, except for Portugal, are located in Eastern Europe, which is in line with the fact that Eastern Europe is less developed compared to the Western part of Europe.\n",
    "\n",
    "*Cluster 1:*  \n",
    "\n",
    "For Cluster 1, consisting of major European economies, the maps illustrate the economic dynamics of these influential nations. Changes in traffic, tourism, and GDP are visually given in this map, allowing an understanding of how these more significant economies evolved over the 10-year timeframe. On the map for this cluster, the locations within Europe of these countries can be seen, which are spread over Europe. The surface of these countries is mostly more significant than other average European Countries.\n",
    "\n",
    "*Cluster 2:*  \n",
    "\n",
    "The maps for Cluster 2 provide a similar overview as the other cluster maps. By tracking traffic, tourism, and GDP, the visual representation shows the economic trends of this cluster, composed of growing economies and economically healthy nations. These countries are primarily located in the northern part of Europe."
   ]
  },
  {
   "cell_type": "markdown",
   "metadata": {},
   "source": [
    "\n",
    "<table><tr>\n",
    "<td> <img src=\"Images/GDP_2.png\" width=\"800\"/> </td>\n",
    "<td> <img src=\"Images/Traffic_2.png\" width=\"800\"/> </td>\n",
    "<td> <img src=\"Images/Tourism_2.png\" width=\"800\"/> </td>\n",
    "</tr></table>"
   ]
  },
  {
   "cell_type": "markdown",
   "metadata": {},
   "source": [
    "## 5. Dashboard made with Dash \n",
    "\n",
    "All the plots in this report are not interactive. For this reason, an interactive dashboard has been made.\n",
    "In the following link, an interactive dashboard visualizes the country's correlation heatmap, time series, and map plots for the specific cluster per aspect. \n",
    "\n",
    "Please visit the dashboard in the link below. When opening, a country can be selected. Before opening the link, please ensure the Group31_dashboard.ipynb is runned.  \n",
    "\n",
    "http://127.0.0.1:8051/"
   ]
  },
  {
   "cell_type": "markdown",
   "metadata": {},
   "source": [
    "## 6. Conclusion and discussion\n",
    "\n",
    "The in-depth cluster analysis, spanning from 2010 to 2020, has categorized countries into three distinct economic groups based on three pivotal indicators: GDP, tourism, and air traffic. Each cluster reflects an economic profile, depending on the insight of the economic development (GDP), tourism, and air traffic across the countries in the EU. The countries are divided into three clusters. Per cluster, a brief analysis and conclusion are given.\n",
    "\n",
    "Cluster 0: Smaller economies\n",
    "Within Cluster 0 are the countries at the beginning stage of economic growth, resulting in a lower GDP than the other clusters, like Bulgaria, Greece, and Hungary. These countries are geographically distributed in the east side of Europe. They have relatively low tourism and air traffic. However, they have the potential to grow the GDP by incorporating tourism more into the countries, which is currently the case. The air traffic is also on an upward trend to become more connected to other parts of the world. To conclude, the East EU countries are clustered together, with not a single indicator outlier. \n",
    "\n",
    "\n",
    "Cluster 1: Tourism attracting countries\n",
    "The countries in Cluster 1 represent the economic growth countries, signifying the high number of tourism and air traffic numbers, like Spain, Italy, and France. The cluster is geographically distributed in the south of Europe. They can be seen as international tourist hotspots due to their attractiveness regarding weather and attractions. The cluster is known for its moderate GDP. The aviation sector, the air traffic number, has an extensive network for tourists visiting the countries. To conclude, the countries have high tourism, which is correlated to the air traffic number, resulting in a moderate GDP.\n",
    "\n",
    "Cluster 2 – Balanced economies\n",
    "Cluster 2 is built upon the more northern countries of Europe, including Denmark, The Netherlands, and Sweden. These countries are known for their high and robust GDP, as seen in the 3D scatter plot. The GDP is not interrelated with tourism and air traffic, concluding that these countries in the cluster have a balanced economy, not depending on tourism and air traffic. The countries serve as robust economies with a high GDP, focusing on other thriving sectors than tourism, like Cluster 1.\n",
    "\n",
    "The specific country Luxembourg is characterized as a unique case because its economic structure does not depend on tourism and air traffic, which is controversial with countries in Cluster 1 like Italy and Spain. \n",
    "\n",
    "As mentioned in the hypotheses, high air traffic and tourism do positively correlate with GDP, but not for every cluster. In Cluster 1, it can be seen that, indeed, the GDP is moderately high, and the tourism and traffic also. However, the correlation between GDP and tourism or traffic shows a low number. In Cluster 0, the GDP correlated higher with tourism and air traffic. Cluster 2 does have a high GDP but relatively lower tourism and air traffic, concluding that the three indicators do not correlate highly for every specific country. The second hypothesis is also partly true. It can indeed be seen in the correlation heatmap and the 3D scatter plot that the lower GDP countries (mostly in Cluster 0) show a low correlation between GDP and tourism. However, because of this phenomenon, the countries can be clustered correctly.\n",
    "\n",
    "Overall, the clusters formed on the three indicators show relativeness between them. GDP does not only depend on tourism and air traffic, and the geological distribution also has an impact on the clustering. This model can be used to specify how economic resilience is stated for a country and how the three indicators correlate. \n"
   ]
  },
  {
   "cell_type": "markdown",
   "metadata": {},
   "source": []
  }
 ],
 "metadata": {
  "kernelspec": {
   "display_name": "Python 3",
   "language": "python",
   "name": "python3"
  },
  "language_info": {
   "codemirror_mode": {
    "name": "ipython",
    "version": 3
   },
   "file_extension": ".py",
   "mimetype": "text/x-python",
   "name": "python",
   "nbconvert_exporter": "python",
   "pygments_lexer": "ipython3",
   "version": "3.9.13"
  }
 },
 "nbformat": 4,
 "nbformat_minor": 2
}

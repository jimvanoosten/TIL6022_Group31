{
 "cells": [
  {
   "cell_type": "markdown",
   "metadata": {},
   "source": [
    "## Project Group - 31\n",
    "\n",
    "Members (student number): \n",
    "- Gijs de Werd          (4717775)\n",
    "- Georges Puttaert      (4686160)\n",
    "- Thijs Roolvink        (4961382)\n",
    "- Jim van Oosten        (4734998)\n",
    "\n",
    "A link to the Github Repository: https://github.com/jimvanoosten/TIL6022_Group31"
   ]
  },
  {
   "cell_type": "markdown",
   "metadata": {},
   "source": [
    "## Contribution Statement\n",
    "\n",
    "**Gijs de Werd**: Setting up project and doing the Data analysis, coding data preparation\n",
    "\n",
    "**Georges Puttaert**: Visualization general plots and coding of the data\n",
    "\n",
    "**Thijs Roolvink**: Conceptualization, coding of the in depth plots\n",
    "\n",
    "**Jim van Oosten**: Background research, coding conclusion"
   ]
  },
  {
   "cell_type": "markdown",
   "metadata": {},
   "source": [
    "## 1. Introduction\n",
    "\n",
    "From 2010 to 2020, the aviation sector experienced a substantial rise in air passengers, significantly impacting global tourism and GDP. The European Union (EU) member states were particularly influenced by the fluctuations in air travel, tourism, and GDP per capita. Lower-income countries proved more responsive to disruptions in air passengers and tourism, while higher-income nations demonstrated greater resilience. Notably, countries like Italy and Spain heavily relied on air passengers and tourism. This study delves into the intricate relationships among these three factors in EU countries, utilizing data from the decade preceding the COVID-19 pandemic to ensure unbiased results.\n",
    "\n",
    "The research employs data analysis and unsupervised clustering methods to unveil patterns that demonstrate the economic behaviors of countries in response to air passengers, tourism, and GDP. Section 2 outlines the data preparation process, consolidating information into dataframes. These dataframes form the basis for interactive plots, presenting a comprehensive overview of air passengers, tourism, and GDP in Section 3. This section includes a Gross National Income (GNI) analysis, time series plots, and a correlation matrix, all accessible through the interactive Dash dashboard, which also features a map of Europe.\n",
    "\n",
    "In Section 4, the study introduces K-means unsupervised clustering to categorize countries based on the three aspects. Boxplots provide a detailed examination of each cluster, and hierarchical clustering analyzes similarities between factors. The section concludes with an interactive EU map displaying countries within each cluster. The research finishes with a conclusion and discussion in the final section."
   ]
  },
  {
   "cell_type": "markdown",
   "metadata": {},
   "source": [
    "### Research Objective\n",
    "\n",
    "**Main question**: \n",
    "\n",
    "'How does the correlation between air passenger volume, GDP, and tourism numbers influence the clustering of EU countries between 2010 and 2020?'\n",
    "\n",
    "**Hypotheses**: \n",
    "\n",
    "- High air passenger volume and tourism are positively correlated with GDP, leading to identifiable clusters among EU countries.\n",
    "- Conversely, low GDP countries are expected to show weaker correlations with tourism, resulting in a lack of distinct clustering.\n",
    "\n",
    "**Sub questions**:\n",
    "\n",
    "1. 'What insights into economic resilience for EU countries from 2010 to 2020 can be derived from analyzing air passenger volume, GDP, and tourism data?'\n",
    "\n",
    "2. 'Are patterns evident in the time series data of air passenger volume, GDP, and tourism numbers across countries from 2010 to 2020?'\n",
    "\n",
    "3. 'How do the three key metrics — air passenger volume, GDP, and tourism numbers — correlate with each other across countries?\n",
    "\n",
    "4. 'How do countries cluster together when analyzed based on air passenger volume, GDP, and tourism data?'\n",
    "\n",
    "5. 'What common aspects can be identified within these clusters that hint at their economic resilience?'\n",
    "\n",
    "6. 'In the identified clusters, how do member countries' key metrics distribute?'"
   ]
  },
  {
   "cell_type": "markdown",
   "metadata": {},
   "source": [
    "## 2. Data Pipeline\n",
    "\n",
    "In this chapter, we focus on the initial step of our analysis: data retrieval. The data is sourced from multiple repositories, including the European Data Bank and the World Bank, to gather the indicators for the EU countries.\n",
    "\n",
    "**Data Pipeline - Indicators from the European Data Bank EuroStat**\n",
    "\n",
    "The European Data Bank collects data from various European institutions and offers specific indicators that are highly relevant to the EU's policy objectives. This is relevant for the scope of this study, which looks at all countries that are members of the European Union.\n",
    "\n",
    "The indicators that are retrieved from the European Data Bank are related to air traffic, tourism, and GDP. The focus is on European Union countries over the period from 2010 to 2020.\n",
    "\n",
    "*Retrieval and Cleaning*\n",
    "\n",
    "Datasets were sourced from Eurostat, encompassing air traffic, tourism, and GDP data from 2010 to 2020. A specific function, ‘quarter_to_month’, was designed to convert quarterly time periods to a monthly format. The datasets were meticulously cleaned, and column names were standardized for clarity.\n",
    "\n",
    "*Filtering and Merging*\n",
    "\n",
    "The datasets were filtered based on specific criteria for each economic factor (traffic, tourism, and GDP). The time periods were restricted to January 2010 to January 2020 to ensure consistency with the World Bank data. The resulting filtered datasets; traffic_filtered, tourism_filtered, and gdp_filtered, were subsequently merged into a unified DataFrame. This DataFrame consists of all the indicator information for European Union countries during the specified timeframe.\n",
    "\n",
    "\n",
    "**Data Pipeline - Indicator from the World Bank Data**\n",
    "\n",
    "The World Bank is an international financial institution that provides financial and technical assistance to developing countries. Established in 1944, its primary focus is poverty mitigation and sustainable development. The World Bank offers many data sets, from economic indicators like GDP and inflation rates to social metrics such as health expenditure and education levels.\n",
    "\n",
    "The indicator that was retrieved from the World Bank is the GNI (Gross National Income) per capita, for every country worldwide. This was extracted for all European Union countries for the years 2010 to 2020. \n",
    "\n",
    "Retrieval, Cleaning and Filtering\n",
    "With the package ‘wbdata’, indicators can be retrieved from the World Bank data. The cleaning process of the GNI per capita data involved several steps to ensure accurate and relevant information for European Union countries. Notably, the country code for Greece was corrected, as it had an incorrect code ('EL') for the World Bank library, and the corrected code ('GR') was used. The CountryConverter class from the coco library was employed to convert country codes to ISO3 format and retrieve country names. This ensured consistency and compatibility with the World Bank data package. Additionally, the DataFrame was initialized to store the GNI per capita data for the specified years (2010 and 2020). The biggest part of the code involved a nested loop to iterate over each country and year.  The cleaning process was particularly challenging due to the need to filter European Union countries from the global dataset. This involved careful consideration of the country codes and a systematic approach to retrieving and organizing the GNI per capita data. The resulting DataFrame contains the necessary information, including country codes, names, and GNI per capita values for the specified years. In the end, the GNI for each country was plotted in a bar plot for several years. This plot visualizes the differences in GNI per capita between the European countries."
   ]
  },
  {
   "cell_type": "markdown",
   "metadata": {},
   "source": [
    "## 3. Data Visualization\n",
    "\n",
    "### Difference in GNI within the EU countries\n",
    "In this section, we use the overview of Gross National Income (GNI) per capita data for European Union countries in the years 2010 and 2020, sourced from the World Bank’s World Development Indicators database. The aim is to showcase the disparities in GNI across different European countries and to visualize the average GNI within the EU. The bar plots presented provide a comparative perspective on the economic status of EU member states over the span of a decade. GNI per capita is a critical economic indicator that represents the total domestic and foreign output claimed by residents of a country, which includes wages, dividends, interest, and rents, divided by the population of the country. It serves as a metric for wealth and provides insights into the economic well-being of a nation’s residents. The visualisations facilitate an understanding of how individual EU countries stand in relation to each other and against the EU average, which can inform discussions on economic policy, resource allocation, and regional development strategies.\n",
    "\n",
    "By looking at the graphs for 2010 and 2020, changes can be observe in the GNI per capita for each EU country over the ten-year period. In both years, there is a noticeable variance in the GNI per capita among EU countries, indicating economic disparity within the Union. The average GNI per capita is indicated by the dashed red line, providing a reference point against which to measure each country’s performance. From the visual comparison, it is possible to identify countries that are above or below the EU average and assess how their position has changed over time. The graphs can also highlight trends, such as which countries have experienced significant growth or decline in GNI per capita over the decade. It is important to note that the graphs alone do not provide reasons for the observed changes. For a more thorough analysis, one would need to consider additional data and context, such as economic policies, demographic changes, and external economic factors.\n",
    "\n",
    "![GNI per Capita (US$) in 2010](Images/GNI_2010.png)\n",
    "\n",
    "![GNI per Capita (US$) in 2020](Images/GNI_2020.png)\n",
    "\n",
    "\n"
   ]
  },
  {
   "cell_type": "markdown",
   "metadata": {},
   "source": [
    "### Time series\n",
    "\n",
    "Below, a interactive plot can be found for all European countries. It contains the three aspects, the default option is 'no country'. Data can be visualized by clicking on countries and or aspects on the right side."
   ]
  },
  {
   "cell_type": "markdown",
   "metadata": {},
   "source": [
    "![Traffic, Tourism and GDP of Austria](Images/Traffic_Tourism_GDP_AT.png)"
   ]
  },
  {
   "cell_type": "markdown",
   "metadata": {},
   "source": [
    "### Correlation heatmap\n",
    "\n",
    "This subchapter goes deeper into the correlation of the three aspects, namely: air passengers, tourism and GDP. The three aspects are chosen because they have possible interrelations. However, air passengers and tourism can be related, but this is not always, it could be that tourism is not as high as expected since air passengers only transit in that country. Furthermore, GDP can be linked to tourism since, but could also be a aspect on its own since a certain economys GDP is not affected by the tourism, if there is not that much tourism. After vizualizing the correlation heatmap, multiple hypotheses are generated which will be further elobarated in the upcoming chapters. \n",
    "\n",
    "For the visualization of the heatmap, please visit the dashboard in the link below. When opening, a country can be selected and the correlation heatmap will be visualized. Before opening the link, please make sure that the Group31_dashboard.ipynb is runned. An example of the heatmap can be seen underneath.\n",
    "\n",
    "Hypotheses based on correlation map:\n",
    "- In general, the air passengers and tourism numbers do correlate.\n",
    "- In high tourism countries, the gdp is interrelated with the tourism number\n",
    "- Lower GHI countries are less vulnerable for tourism and air passengers and therefore correlate with each other\n",
    "- There are countries that have a high GDP but is not correlated much with air passenger and tourism."
   ]
  },
  {
   "cell_type": "markdown",
   "metadata": {},
   "source": [
    "![Correlation map AT](Images/Correlation_AT.png)"
   ]
  },
  {
   "cell_type": "markdown",
   "metadata": {},
   "source": [
    "## 4. Unsupervised learning: Kmeans clustering\n",
    "\n",
    "This chapter contains the clustering of the countries. The method that is used is an unsupervised learning method called Kmeans. Unsupervised learning means that the data is unlabeled in which supervised learning means data is labeled. The Kmeansis an algorithm used to 'cluster' a set of points into K clusters, where each point belongs to the cluster with the nearest mean to the centroid bases on the three aspects air passengers, tourism and GDP. The elbow point, point at which K is optimal can be found in the graph, the elbow points lies at 2 to 3. However, 3 is chosen to give more distinction between the clusters. Then, the Kmeans is done and the plot in which the countries are determined by the colors per cluster, can be seen beneath. \n",
    "\n",
    "![Elbow Method](Images/Elbow_method.png) \n",
    "![3D Scatter Plot](Images/3D%20Scatter.png)"
   ]
  },
  {
   "cell_type": "markdown",
   "metadata": {},
   "source": [
    "### Boxplot per cluster \n",
    "\n",
    "Below are the boxplots for each aspects containing the three cluster. There can be seen how the aspect per cluster is distributed. As the hypotheses at the beginning, there can be indeed seen that some of them are true, for example the cluster in which the air passengers and tourism are very high. Or the cluster in which the air passengers and tourism are relatively low but with a high GDP. These are countries not that determined by tourism. \n",
    "\n",
    "![Boxplot GDP](Images/Boxplot_GDP.png)\n",
    "![Boxplot Traffic](Images/Boxplot_Traffic.png)\n",
    "![Boxplot Tourism](Images/Boxplot_Tourism.png)"
   ]
  },
  {
   "cell_type": "markdown",
   "metadata": {},
   "source": [
    "### Hierachical Clustering\n",
    "\n",
    "A Hierachical Clustering is used to visualize the dendrogram of each cluster for each factor (Traffic, Tourism and GDP). The dendogram reveals the similarity in terms of the factors. The 'Distance' in the X-axis can be interpreted as a measure of dissimilarity. The lower the distance at which two countries merge in the dendrogram, the more similar they are.\n",
    "\n",
    "![Hierachical Clustering](Images/Hierachical.png)"
   ]
  },
  {
   "cell_type": "markdown",
   "metadata": {},
   "source": [
    "### Maps per index and per cluster\n",
    "\n",
    "*Add text*"
   ]
  },
  {
   "cell_type": "markdown",
   "metadata": {},
   "source": [
    "![Map GDP cluster 2](Images/GDP_2.png)\n",
    "![Map Traffic cluster 2](Images/Traffic_2.png)\n",
    "![Map Tourism cluster 2](Images/Tourism_2.png)"
   ]
  },
  {
   "cell_type": "markdown",
   "metadata": {},
   "source": [
    "## 5. Dashboard made with Dash \n",
    "\n",
    "In the following link, an interactive dasboard is made which vizualises the countries correlation heatmap, timeseries and the map plots per for the specific cluster per aspect. \n",
    "\n",
    "For the visualization of the heatmap, please visit the dashboard in the link below. When opening, a country can be selected and the correlation heatmap will be visualized. Before opening the link, please make sure that the Group31_dashboard.ipynb is runned. An example of the heatmap can be seen underneath.\n",
    "\n",
    "http://127.0.0.1:8051/"
   ]
  },
  {
   "cell_type": "markdown",
   "metadata": {},
   "source": [
    "## 6. Conclusion and discussion\n",
    "\n",
    "First conclusions per cluster based on the results\n",
    "\n",
    "- **Cluster 0 (15 countries)**: These countries are the smallest in terms of GDP, tourism, and air passengers.\n",
    "\n",
    "    - GDP: These nations might be developing countries or have smaller economies in comparison to the other two clusters.\n",
    "    - Tourism: They have emerging tourist destinations or destinations that might be popular locally or regionally but not as hotspots for international tourism.\n",
    "    - Air Passengers: They see fewer international passengers, likely due to having fewer international airports or fewer connections to major global hubs. Also, the lower tourism rates could have a significant influence on the number of international passengers.  \n",
    "</br>\n",
    "- **Cluster 1 (5 countries)**: These are the top performers in all three categories, visualizing their importance both in Europe and globally in these categories.\n",
    "\n",
    "    - GDP: Some of Europe’s largest economies, play a pivotal role in global economic activities.\n",
    "    - Tourism: These are top tourist destinations, attracting a vast majority of international tourists due to their diverse attractions.\n",
    "    - Air Passengers: As significant hubs for international travel, these countries likely have multiple major international airports and could benefit from more business travelers.  \n",
    "</br>\n",
    "- **Cluster 2 (7 countries)**: These countries are in between the other two clusters in all categories, signifying their robust yet not dominant position.\n",
    "\n",
    "    - GDP: Their GDP is quite high compared to other clusters, but that is not related to Tourism or Passenger Air Traffic. The GDP could have benefitted from other factors such as the Export of products for instance.\n",
    "    - Tourism: Attracting both the mainstream and niche tourist markets, they have a significant number of tourists but not as much as Cluster 1.\n",
    "    - Air Passengers: They have good connectivity and might serve as smaller hubs in Europe, but they don't see as much traffic as the countries in Cluster 1.\n",
    "\n",
    "Through this research, the complexities of interrelations between flight volume, GDP growth, and tourism numbers from 2010 to 2020 have been examined with a focus on their implications for economic resilience across varying income classes.\n",
    "\n",
    "The adoption of clustering algorithms, particularly K-means, has proven instrumental in unveiling patterns and relationships based on the three selected economic indicators. By observing the clusters formed, it became evident how countries inherently align or diverge based on their dependency or independence on these factors.\n",
    "\n",
    "Countries such as Luxembourg displayed a unique clustering pattern, indicating a relative economic independence from the aviation and tourism sectors. This is contrasted by countries like Italy, Spain, France, and Germany, whose economic well-being demonstrated a stronger reliance on tourism and aviation, as reflected in their cluster grouping.\n",
    "\n",
    "When viewing the broader landscape of high-income countries, there's a clear pattern of clustering based on flight volume, tourism, and GDP metrics, underscoring their economic interdependencies. Notably, countries like AT, BE, DK, FI, LU, NL, and SE were found to cluster together, solidifying the findings.\n",
    "\n",
    "The results underscore the power of data-driven clustering techniques in shedding light on intricate economic dynamics and providing nuanced understandings of country-specific economic behaviors. Such insights can guide policymakers and stakeholders in shaping economic strategies that are both responsive and adaptive to changing global trends."
   ]
  },
  {
   "cell_type": "markdown",
   "metadata": {},
   "source": [
    "## References\n",
    "\n",
    "1: Eurostat. (2023). GDP and main components (output, expenditure and income). European Commission. https://ec.europa.eu/eurostat/databrowser/view/namq_10_gdp/default/table?lang=en \\\n",
    "2: Eurostat. (2023). GDP and main components (output, expenditure and income). European Commission. https://ec.europa.eu/eurostat/databrowser/view/namq_10_gdp/default/table?lang=en \\\n",
    "3: Eurostat. (2023). Nights spent at tourist accommodation establishments. European Commission. https://ec.europa.eu/eurostat/databrowser/product/view/tour_occ_nim \\\n",
    "4: wbdata contributors. (2023). wbdata: A Python package to interact with the World Bank's datasets. Read the Docs. https://wbdata.readthedocs.io/en/latest/index.html"
   ]
  },
  {
   "cell_type": "markdown",
   "metadata": {},
   "source": []
  }
 ],
 "metadata": {
  "kernelspec": {
   "display_name": "Python 3",
   "language": "python",
   "name": "python3"
  },
  "language_info": {
   "codemirror_mode": {
    "name": "ipython",
    "version": 3
   },
   "file_extension": ".py",
   "mimetype": "text/x-python",
   "name": "python",
   "nbconvert_exporter": "python",
   "pygments_lexer": "ipython3",
   "version": "3.9.13"
  }
 },
 "nbformat": 4,
 "nbformat_minor": 2
}

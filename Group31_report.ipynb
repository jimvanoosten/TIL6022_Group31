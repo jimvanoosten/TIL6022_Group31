{
 "cells": [
  {
   "cell_type": "markdown",
   "metadata": {},
   "source": [
    "## Project Group - 31\n",
    "\n",
    "Members (student number): \n",
    "- Gijs de Werd          (4717775)\n",
    "- Georges Puttaert      (4686160)\n",
    "- Thijs Roolvink        (4961382)\n",
    "- Jim van Oosten        (4734998)\n",
    "\n",
    "A link to the Github Repository: https://github.com/jimvanoosten/TIL6022_Group31"
   ]
  },
  {
   "cell_type": "markdown",
   "metadata": {},
   "source": [
    "## Contribution Statement\n",
    "\n",
    "**Gijs de Werd**: Setting up project and doing the Data analysis, coding data preparation\n",
    "\n",
    "**Georges Puttaert**: Visualization general plots and coding of the data\n",
    "\n",
    "**Thijs Roolvink**: Conceptualization, coding of the in depth plots\n",
    "\n",
    "**Jim van Oosten**: Background research, coding conclusion"
   ]
  },
  {
   "cell_type": "markdown",
   "metadata": {},
   "source": [
    "## Research Objective\n",
    "\n",
    "**Main question**: \n",
    "\n",
    "'How do air passenger volume, GDP, and tourism numbers correlate and cluster EU countries from 2010 to 2020, and what insights can quantitative analysis and data visualization techniques reveal about economic resilience during this period?' \n",
    "\n",
    "**Hypotheses**: \n",
    "\n",
    "High air passenger and tourism interrelate with gdp and these countries will cluster together. Controversely, low gdp countries do not correlate with tourism. \n",
    "\n",
    "**Sub questions**:\n",
    "- 1: How have air passenger volume, GDP, and tourism numbers differ from 2010 to 2020 in general, and are there discernible patterns in their time series data across countries? \n",
    "\n",
    "- 2: How do the three key metrics – air passenger volume, GDP, and tourism numbers correlate with each other across countries? \n",
    "\n",
    "- 3: How do countries cluster together when analyzed based on air passenger volume, GDP, and tourism data, and what common aspects can be identified within these clusters that hint at their economic resilience? \n",
    "\n",
    "- 4: In the identified clusters, how do member countries' key metrics distribute, and how do their correlation heatmaps compare to our initial hypotheses? "
   ]
  },
  {
   "cell_type": "markdown",
   "metadata": {},
   "source": [
    "**SHORT DESCIPTION OF THE RESEARCH PROJECT**:\n",
    "\n",
    "We want to begin high level, so tell something about the three factors, then show the timeseries for visualization. After that we want to dive deeper in the correlation between the three factors, so how they interrelate and make a few hypotheses about the correlations. Then we want to implement a K-means clustering to cluster the countries into 3 groups. Then after the clusters are formed, we check boxplots per cluster the see how the data is per boxplot and a hierachical clustering per cluster. Analyze it and state that there can be differences in comparison with the hypotheses. Also heatmaps for each cluster will be implemented for all 3 factors, Traffic, GDP and Tourism. All the visualization will be displayed in a dashboard."
   ]
  },
  {
   "cell_type": "markdown",
   "metadata": {},
   "source": [
    "(*some answers already for a quick overview*:\n",
    "- *The clustering algorithm can cluster countries based on these factors*\n",
    "- *There can be seen that luxembourg do not care if lower passengers or tourism, gdp still stays high*\n",
    "- *The lower income countries can be determined with the kmeans and there can be seen that Italy, Spain, France and Germany indeed need tourism and passengers, can be clearly seen*\n",
    "- *AT, BE, DK, FI, LU, NL, SE: These are high income classes and are clustered together based on the criteria.*)"
   ]
  },
  {
   "cell_type": "markdown",
   "metadata": {},
   "source": [
    "## Data Used\n",
    "\n",
    "1: Eurostat. (2023). GDP and main components (output, expenditure and income). European Commission. https://ec.europa.eu/eurostat/databrowser/view/namq_10_gdp/default/table?lang=en \\\n",
    "2: Eurostat. (2023). GDP and main components (output, expenditure and income). European Commission. https://ec.europa.eu/eurostat/databrowser/view/namq_10_gdp/default/table?lang=en \\\n",
    "3: Eurostat. (2023). Nights spent at tourist accommodation establishments. European Commission. https://ec.europa.eu/eurostat/databrowser/product/view/tour_occ_nim \\\n",
    "4: wbdata contributors. (2023). wbdata: A Python package to interact with the World Bank's datasets. Read the Docs. https://wbdata.readthedocs.io/en/latest/index.html"
   ]
  },
  {
   "cell_type": "markdown",
   "metadata": {},
   "source": [
    "## 1. Introduction\n",
    "\n",
    "From the year 2010 to 2020, the aviation sector showed a rapid increase in air passengers and the tourism sector flourished influencing the global GDP. Countries in the EU are influenced by the number fluctuations regarding the air passengers, tourism, and GDP per capita. Where lower-income countries are being more vulnarable to disruptions in air passengers and tourism, whereas higher income countries tend be more resilient. Countries as Italy and Spain depend highly on air passengers and tourism. This study aims to deep dive into the interrealtion between the three factors in the EU countries. Using data from a decade before the COVID-19 pandamic, since otherwise biased results are generated. Throughout data analysis and unsupervised clustering methods, pattern are uncovered highlighting the economic behaviors of countries in response to air passengers, tourism and GDP. The EU countries are clustered based on these pattern are will show significant interrelations which can be linked to the social and income class of a country. In chapter 2, the data is prepared and brought into dataframes. Eventually, the data for the three aspects (air passengers, tourism and GDP) are merged into one dataframe is used as the basis for the interactive plots. Chapter 3 consist of the visualization part starting with a general GNI (Gross National Income) analysis to get an insight in each country, followed by the time series plots for all the three aspects, and eventually the correlation matrix. The timeseries and correlation matrix are viewable in the Dash interactive dashboard provided at the end of chapter 3. This dashboard also contains the interactive map of Europe. In chapter 4, the KMeans unsupervised clustering learing can be found. The KMeans clusters the countries based on the three aspects. Furthermore, boxplots are made in order to deep-dive into each cluster. Also  hierarchical clustering is made to analyze the similarities in terms of factors. The last graph is this chapter is the EU map containing the countries of a cluster in a interactive way. Finally, the conclusion and discussion are stated. "
   ]
  },
  {
   "cell_type": "markdown",
   "metadata": {},
   "source": [
    "## 2. Data preperation\n",
    "\n",
    "This chapter contains the preparation of the data. Making ready dataframes for air passengers, tourism and GDP data. Additionaly, merging the data together. Also, packages are imported and libraries are imported.\n",
    "\n",
    "*TEXT TOEVOEGEN*"
   ]
  },
  {
   "cell_type": "markdown",
   "metadata": {},
   "source": [
    "## 3. Visualization General Plots\n",
    "\n",
    "### Difference in GNI within the EU countries\n",
    "Below, the GNI (Gross National Income) per capita for all Europian Union countries for the years 2010 and 2020 are given. This data is published by the worldbank, World development indicators database. This bar plot gives a first impressions on the GNI differnces between European countries and visualizes the European average. "
   ]
  },
  {
   "cell_type": "markdown",
   "metadata": {},
   "source": [
    "*Add Plots*"
   ]
  },
  {
   "cell_type": "markdown",
   "metadata": {},
   "source": [
    "### Time series interactive plot\n",
    "\n",
    "Below, a interactive plot can be found for all European countries. It contains the three aspects, the default option is 'no country'. Data can be visualized by clicking on countries and or aspects on the right side."
   ]
  },
  {
   "cell_type": "markdown",
   "metadata": {},
   "source": [
    "*Add Plot*"
   ]
  },
  {
   "cell_type": "markdown",
   "metadata": {},
   "source": [
    "### Correlation heatmap\n",
    "\n",
    "This subchapter goes deeper into the correlation of the three aspects, namely: air passengers, tourism and GDP. The three aspects are chosen because they have possible interrelations. However, air passengers and tourism can be related, but this is not always, it could be that tourism is not as high as expected since air passengers only transit in that country. Furthermore, GDP can be linked to tourism since, but could also be a aspect on its own since a certain economys GDP is not affected by the tourism, if there is not that much tourism. After vizualizing the correlation heatmap, multiple hypotheses are generated which will be further elobarated in the upcoming chapters. \n",
    "\n",
    "For the visualization of the heatmap, please visit the dashboard in the link below. When opening, a country can be selected and the correlation heatmap will be visualized. Before opening the link, please make sure that the Group31_dashboard.ipynb is runned. An example of the heatmap can be seen underneath.\n",
    "\n",
    "http://127.0.0.1:8051/\n",
    "\n",
    "\n",
    "Hypotheses:\n",
    "- In general, the air passengers and tourism numbers do correlate.\n",
    "- In high tourism countries, the gdp is interrelated with the tourism number\n",
    "- Lower GHI countries are less vulnerable for tourism and air passengers and therefore correlate with each other\n",
    "- There are countries that have a high GDP but is not correlated much with air passenger and tourism."
   ]
  },
  {
   "cell_type": "markdown",
   "metadata": {},
   "source": [
    "*Add Correlation map*"
   ]
  },
  {
   "cell_type": "markdown",
   "metadata": {},
   "source": [
    "## 4. Unsupervised learning: Kmeans clustering\n",
    "\n",
    "This chapter contains the clustering of the countries. The method that is used is an unsupervised learning method called Kmeans. Unsupervised learning means that the data is unlabeled in which supervised learning means data is labeled. The Kmeansis an algorithm used to 'cluster' a set of points into K clusters, where each point belongs to the cluster with the nearest mean to the centroid bases on the three aspects air passengers, tourism and GDP. The elbow point, point at which K is optimal can be found in the graph, the elbow points lies at 2 to 3. However, 3 is chosen to give more distinction between the clusters. Then, the Kmeans is done and the plot in which the countries are determined by the colors per cluster, can be seen beneath. "
   ]
  },
  {
   "cell_type": "markdown",
   "metadata": {},
   "source": [
    "*Add elbow method plot & 3D Cluster plot* "
   ]
  },
  {
   "cell_type": "markdown",
   "metadata": {},
   "source": [
    "### Boxplot per cluster \n",
    "\n",
    "Below are the boxplots for each aspects containing the three cluster. There can be seen how the aspect per cluster is distributed. As the hypotheses at the beginning, there can be indeed seen that some of them are true, for example the cluster in which the air passengers and tourism are very high. Or the cluster in which the air passengers and tourism are relatively low but with a high GDP. These are countries not that determined by tourism. "
   ]
  },
  {
   "cell_type": "markdown",
   "metadata": {},
   "source": [
    "*Add boxplots*"
   ]
  },
  {
   "cell_type": "markdown",
   "metadata": {},
   "source": [
    "### Hierachical Clustering\n",
    "\n",
    "A Hierachical Clustering is used to visualize the dendrogram of each cluster for each factor (Traffic, Tourism and GDP). The dendogram reveals the similarity in terms of the factors. The 'Distance' in the X-axis can be interpreted as a measure of dissimilarity. The lower the distance at which two countries merge in the dendrogram, the more similar they are."
   ]
  },
  {
   "cell_type": "markdown",
   "metadata": {},
   "source": [
    "*Add Hierachrical clustering plot*"
   ]
  },
  {
   "cell_type": "markdown",
   "metadata": {},
   "source": [
    "### Maps per index and per cluster\n",
    "\n",
    "*Add text*"
   ]
  },
  {
   "cell_type": "markdown",
   "metadata": {},
   "source": [
    "*Add plots*"
   ]
  },
  {
   "cell_type": "code",
   "execution_count": null,
   "metadata": {},
   "outputs": [],
   "source": []
  }
 ],
 "metadata": {
  "kernelspec": {
   "display_name": "Python 3",
   "language": "python",
   "name": "python3"
  },
  "language_info": {
   "codemirror_mode": {
    "name": "ipython",
    "version": 3
   },
   "file_extension": ".py",
   "mimetype": "text/x-python",
   "name": "python",
   "nbconvert_exporter": "python",
   "pygments_lexer": "ipython3",
   "version": "3.9.13"
  }
 },
 "nbformat": 4,
 "nbformat_minor": 2
}

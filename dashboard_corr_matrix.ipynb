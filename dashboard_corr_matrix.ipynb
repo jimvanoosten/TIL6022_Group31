{
 "cells": [
  {
   "cell_type": "markdown",
   "metadata": {},
   "source": [
    "# Dash for heatmap"
   ]
  },
  {
   "cell_type": "code",
   "execution_count": 1,
   "metadata": {},
   "outputs": [],
   "source": [
    "import pandas as pd"
   ]
  },
  {
   "cell_type": "code",
   "execution_count": 2,
   "metadata": {},
   "outputs": [],
   "source": [
    "traffic = pd.read_csv('Datasets/air_passengers_from2000.csv')\n",
    "tourism = pd.read_csv('Datasets/tourism_from2000.csv')\n",
    "gdp = pd.read_csv('Datasets/gdp_from2000.csv')"
   ]
  },
  {
   "cell_type": "code",
   "execution_count": 3,
   "metadata": {},
   "outputs": [],
   "source": [
    "def quarter_to_month(quarter):\n",
    "    year, qtr = quarter.split('-')\n",
    "    if qtr == 'Q1':\n",
    "        return [f'{year}-01', f'{year}-02', f'{year}-03']\n",
    "    elif qtr == 'Q2':\n",
    "        return [f'{year}-04', f'{year}-05', f'{year}-06']\n",
    "    elif qtr == 'Q3':\n",
    "        return [f'{year}-07', f'{year}-08', f'{year}-09']\n",
    "    else: # 'Q4'\n",
    "        return [f'{year}-10', f'{year}-11', f'{year}-12']\n",
    "\n",
    "mask = gdp['TIME_PERIOD'].str.match(r'\\d{4}-Q[1-4]$')\n",
    "gdp.loc[mask, 'TIME_PERIOD'] = gdp.loc[mask, 'TIME_PERIOD'].apply(quarter_to_month)\n",
    "gdp = gdp.explode('TIME_PERIOD')"
   ]
  },
  {
   "cell_type": "code",
   "execution_count": 4,
   "metadata": {},
   "outputs": [],
   "source": [
    "# Make a database \n",
    "traffic = traffic.rename(columns={'OBS_VALUE': 'Traffic'})\n",
    "tourism = tourism.rename(columns={'OBS_VALUE': 'Tourism'})\n",
    "gdp = gdp.rename(columns={'OBS_VALUE': 'GDP'})\n",
    "\n",
    "\n",
    "traffic_filtered = traffic[\n",
    "    (traffic['tra_meas'] == 'PAS_BRD') &\n",
    "    (traffic['TIME_PERIOD'] >= '2010-01') & \n",
    "    (traffic['TIME_PERIOD'] <= '2020-01')                   \n",
    "]\n",
    "\n",
    "tourism_filtered = tourism[\n",
    "    (tourism['unit'] == 'NR') &\n",
    "    (tourism['nace_r2'] == 'I551') &\n",
    "    (tourism['c_resid'] == 'TOTAL') &\n",
    "    (tourism['TIME_PERIOD'] >= '2010-01') &\n",
    "    (tourism['TIME_PERIOD'] <= '2020-01')\n",
    "]\n",
    "\n",
    "gdp_filtered = gdp[\n",
    "    (gdp['unit'] == 'CP_EUR_HAB') &\n",
    "    (gdp['s_adj'] == 'NSA') &\n",
    "    (gdp['na_item'] == 'B1GQ') &\n",
    "    (gdp['TIME_PERIOD'] >= '2010-01') &\n",
    "    (gdp['TIME_PERIOD'] <= '2020-01')\n",
    "]"
   ]
  },
  {
   "cell_type": "code",
   "execution_count": 5,
   "metadata": {},
   "outputs": [],
   "source": [
    "# Merge the dataset into 1 big dataset\n",
    "countries = [\"AT\", \"BE\", \"BG\", \"CY\", \"CZ\", \"DE\", \"DK\", \"EE\", \"EL\", \"ES\", \"FI\", \"FR\", \"HR\", \"HU\", 'UK', \"IT\", \"LT\", \"LU\", \"LV\", \"MT\", \"NL\", \"PL\", \"PT\", \"RO\", \"SE\", \"SI\", \"SK\"]\n",
    "\n",
    "traffic_filtered = traffic_filtered[traffic_filtered['geo'].isin(countries)]\n",
    "tourism_filtered = tourism_filtered[tourism_filtered['geo'].isin(countries)]\n",
    "gdp_filtered = gdp_filtered[gdp_filtered['geo'].isin(countries)]\n",
    "\n",
    "\n",
    "merged_data = pd.merge(traffic_filtered[['TIME_PERIOD', 'geo', 'Traffic']], \n",
    "                       gdp_filtered[['TIME_PERIOD', 'geo', 'GDP']], \n",
    "                       on=['TIME_PERIOD', 'geo'], \n",
    "                       how='outer')\n",
    "\n",
    "merged_data = pd.merge(merged_data,\n",
    "                       tourism_filtered[['TIME_PERIOD', 'geo', 'Tourism']], \n",
    "                       on=['TIME_PERIOD', 'geo'], \n",
    "                       how='outer')"
   ]
  },
  {
   "cell_type": "code",
   "execution_count": 6,
   "metadata": {},
   "outputs": [
    {
     "name": "stderr",
     "output_type": "stream",
     "text": [
      "/Library/Frameworks/Python.framework/Versions/3.10/lib/python3.10/site-packages/dash/dash.py:538: UserWarning:\n",
      "\n",
      "JupyterDash is deprecated, use Dash instead.\n",
      "See https://dash.plotly.com/dash-in-jupyter for more details.\n",
      "\n",
      "Address already in use\n",
      "Port 8050 is in use by another program. Either identify and stop that program, or start the server with a different port.\n"
     ]
    },
    {
     "ename": "OSError",
     "evalue": "Address 'http://127.0.0.1:8050' already in use.\n    Try passing a different port to run_server.",
     "output_type": "error",
     "traceback": [
      "\u001b[0;31m---------------------------------------------------------------------------\u001b[0m",
      "\u001b[0;31mOSError\u001b[0m                                   Traceback (most recent call last)",
      "\u001b[1;32m/Users/gijsdewerd/Documents/Documenten - MacBook Pro/master SAT/Year 2/Q1/TIL6022 Intro to Python /Assignment/TIL6022_Group31/dashboard_corr_matrix.ipynb Cell 7\u001b[0m line \u001b[0;36m4\n\u001b[1;32m     <a href='vscode-notebook-cell:/Users/gijsdewerd/Documents/Documenten%20-%20MacBook%20Pro/master%20SAT/Year%202/Q1/TIL6022%20Intro%20to%20Python%20/Assignment/TIL6022_Group31/dashboard_corr_matrix.ipynb#W6sZmlsZQ%3D%3D?line=38'>39</a>\u001b[0m     fig\u001b[39m.\u001b[39mupdate_layout(title\u001b[39m=\u001b[39m\u001b[39mf\u001b[39m\u001b[39m'\u001b[39m\u001b[39mCorrelation Heatmap for \u001b[39m\u001b[39m{\u001b[39;00mcountry\u001b[39m}\u001b[39;00m\u001b[39m'\u001b[39m)\n\u001b[1;32m     <a href='vscode-notebook-cell:/Users/gijsdewerd/Documents/Documenten%20-%20MacBook%20Pro/master%20SAT/Year%202/Q1/TIL6022%20Intro%20to%20Python%20/Assignment/TIL6022_Group31/dashboard_corr_matrix.ipynb#W6sZmlsZQ%3D%3D?line=39'>40</a>\u001b[0m     \u001b[39mreturn\u001b[39;00m fig\n\u001b[0;32m---> <a href='vscode-notebook-cell:/Users/gijsdewerd/Documents/Documenten%20-%20MacBook%20Pro/master%20SAT/Year%202/Q1/TIL6022%20Intro%20to%20Python%20/Assignment/TIL6022_Group31/dashboard_corr_matrix.ipynb#W6sZmlsZQ%3D%3D?line=42'>43</a>\u001b[0m app\u001b[39m.\u001b[39;49mrun_server(mode\u001b[39m=\u001b[39;49m\u001b[39m'\u001b[39;49m\u001b[39minline\u001b[39;49m\u001b[39m'\u001b[39;49m)  \u001b[39m# for inline view\u001b[39;00m\n",
      "File \u001b[0;32m/Library/Frameworks/Python.framework/Versions/3.10/lib/python3.10/site-packages/jupyter_dash/jupyter_app.py:339\u001b[0m, in \u001b[0;36mJupyterDash.run_server\u001b[0;34m(self, mode, width, height, inline_exceptions, **kwargs)\u001b[0m\n\u001b[1;32m    329\u001b[0m         url \u001b[39m=\u001b[39m \u001b[39m\"\u001b[39m\u001b[39mhttp://\u001b[39m\u001b[39m{host}\u001b[39;00m\u001b[39m:\u001b[39m\u001b[39m{port}\u001b[39;00m\u001b[39m\"\u001b[39m\u001b[39m.\u001b[39mformat(\n\u001b[1;32m    330\u001b[0m             host\u001b[39m=\u001b[39mhost, port\u001b[39m=\u001b[39mport, token\u001b[39m=\u001b[39mJupyterDash\u001b[39m.\u001b[39m_token\n\u001b[1;32m    331\u001b[0m         )\n\u001b[1;32m    332\u001b[0m         \u001b[39mraise\u001b[39;00m \u001b[39mOSError\u001b[39;00m(\n\u001b[1;32m    333\u001b[0m             \u001b[39m\"\u001b[39m\u001b[39mAddress \u001b[39m\u001b[39m'\u001b[39m\u001b[39m{url}\u001b[39;00m\u001b[39m'\u001b[39m\u001b[39m already in use.\u001b[39m\u001b[39m\\n\u001b[39;00m\u001b[39m\"\u001b[39m\n\u001b[1;32m    334\u001b[0m             \u001b[39m\"\u001b[39m\u001b[39m    Try passing a different port to run_server.\u001b[39m\u001b[39m\"\u001b[39m\u001b[39m.\u001b[39mformat(\n\u001b[1;32m    335\u001b[0m                 url\u001b[39m=\u001b[39murl\n\u001b[1;32m    336\u001b[0m             )\n\u001b[1;32m    337\u001b[0m         )\n\u001b[0;32m--> 339\u001b[0m wait_for_app()\n\u001b[1;32m    341\u001b[0m \u001b[39mif\u001b[39;00m JupyterDash\u001b[39m.\u001b[39m_in_colab:\n\u001b[1;32m    342\u001b[0m     \u001b[39mself\u001b[39m\u001b[39m.\u001b[39m_display_in_colab(dashboard_url, port, mode, width, height)\n",
      "File \u001b[0;32m/Library/Frameworks/Python.framework/Versions/3.10/lib/python3.10/site-packages/retrying.py:56\u001b[0m, in \u001b[0;36mretry.<locals>.wrap.<locals>.wrapped_f\u001b[0;34m(*args, **kw)\u001b[0m\n\u001b[1;32m     54\u001b[0m \u001b[39m@six\u001b[39m\u001b[39m.\u001b[39mwraps(f)\n\u001b[1;32m     55\u001b[0m \u001b[39mdef\u001b[39;00m \u001b[39mwrapped_f\u001b[39m(\u001b[39m*\u001b[39margs, \u001b[39m*\u001b[39m\u001b[39m*\u001b[39mkw):\n\u001b[0;32m---> 56\u001b[0m     \u001b[39mreturn\u001b[39;00m Retrying(\u001b[39m*\u001b[39;49mdargs, \u001b[39m*\u001b[39;49m\u001b[39m*\u001b[39;49mdkw)\u001b[39m.\u001b[39;49mcall(f, \u001b[39m*\u001b[39;49margs, \u001b[39m*\u001b[39;49m\u001b[39m*\u001b[39;49mkw)\n",
      "File \u001b[0;32m/Library/Frameworks/Python.framework/Versions/3.10/lib/python3.10/site-packages/retrying.py:266\u001b[0m, in \u001b[0;36mRetrying.call\u001b[0;34m(self, fn, *args, **kwargs)\u001b[0m\n\u001b[1;32m    263\u001b[0m \u001b[39mif\u001b[39;00m \u001b[39mself\u001b[39m\u001b[39m.\u001b[39mstop(attempt_number, delay_since_first_attempt_ms):\n\u001b[1;32m    264\u001b[0m     \u001b[39mif\u001b[39;00m \u001b[39mnot\u001b[39;00m \u001b[39mself\u001b[39m\u001b[39m.\u001b[39m_wrap_exception \u001b[39mand\u001b[39;00m attempt\u001b[39m.\u001b[39mhas_exception:\n\u001b[1;32m    265\u001b[0m         \u001b[39m# get() on an attempt with an exception should cause it to be raised, but raise just in case\u001b[39;00m\n\u001b[0;32m--> 266\u001b[0m         \u001b[39mraise\u001b[39;00m attempt\u001b[39m.\u001b[39;49mget()\n\u001b[1;32m    267\u001b[0m     \u001b[39melse\u001b[39;00m:\n\u001b[1;32m    268\u001b[0m         \u001b[39mraise\u001b[39;00m RetryError(attempt)\n",
      "File \u001b[0;32m/Library/Frameworks/Python.framework/Versions/3.10/lib/python3.10/site-packages/retrying.py:301\u001b[0m, in \u001b[0;36mAttempt.get\u001b[0;34m(self, wrap_exception)\u001b[0m\n\u001b[1;32m    299\u001b[0m         \u001b[39mraise\u001b[39;00m RetryError(\u001b[39mself\u001b[39m)\n\u001b[1;32m    300\u001b[0m     \u001b[39melse\u001b[39;00m:\n\u001b[0;32m--> 301\u001b[0m         six\u001b[39m.\u001b[39;49mreraise(\u001b[39mself\u001b[39;49m\u001b[39m.\u001b[39;49mvalue[\u001b[39m0\u001b[39;49m], \u001b[39mself\u001b[39;49m\u001b[39m.\u001b[39;49mvalue[\u001b[39m1\u001b[39;49m], \u001b[39mself\u001b[39;49m\u001b[39m.\u001b[39;49mvalue[\u001b[39m2\u001b[39;49m])\n\u001b[1;32m    302\u001b[0m \u001b[39melse\u001b[39;00m:\n\u001b[1;32m    303\u001b[0m     \u001b[39mreturn\u001b[39;00m \u001b[39mself\u001b[39m\u001b[39m.\u001b[39mvalue\n",
      "File \u001b[0;32m/Library/Frameworks/Python.framework/Versions/3.10/lib/python3.10/site-packages/six.py:719\u001b[0m, in \u001b[0;36mreraise\u001b[0;34m(tp, value, tb)\u001b[0m\n\u001b[1;32m    717\u001b[0m     \u001b[39mif\u001b[39;00m value\u001b[39m.\u001b[39m__traceback__ \u001b[39mis\u001b[39;00m \u001b[39mnot\u001b[39;00m tb:\n\u001b[1;32m    718\u001b[0m         \u001b[39mraise\u001b[39;00m value\u001b[39m.\u001b[39mwith_traceback(tb)\n\u001b[0;32m--> 719\u001b[0m     \u001b[39mraise\u001b[39;00m value\n\u001b[1;32m    720\u001b[0m \u001b[39mfinally\u001b[39;00m:\n\u001b[1;32m    721\u001b[0m     value \u001b[39m=\u001b[39m \u001b[39mNone\u001b[39;00m\n",
      "File \u001b[0;32m/Library/Frameworks/Python.framework/Versions/3.10/lib/python3.10/site-packages/retrying.py:251\u001b[0m, in \u001b[0;36mRetrying.call\u001b[0;34m(self, fn, *args, **kwargs)\u001b[0m\n\u001b[1;32m    248\u001b[0m     \u001b[39mself\u001b[39m\u001b[39m.\u001b[39m_before_attempts(attempt_number)\n\u001b[1;32m    250\u001b[0m \u001b[39mtry\u001b[39;00m:\n\u001b[0;32m--> 251\u001b[0m     attempt \u001b[39m=\u001b[39m Attempt(fn(\u001b[39m*\u001b[39;49margs, \u001b[39m*\u001b[39;49m\u001b[39m*\u001b[39;49mkwargs), attempt_number, \u001b[39mFalse\u001b[39;00m)\n\u001b[1;32m    252\u001b[0m \u001b[39mexcept\u001b[39;00m:\n\u001b[1;32m    253\u001b[0m     tb \u001b[39m=\u001b[39m sys\u001b[39m.\u001b[39mexc_info()\n",
      "File \u001b[0;32m/Library/Frameworks/Python.framework/Versions/3.10/lib/python3.10/site-packages/jupyter_dash/jupyter_app.py:332\u001b[0m, in \u001b[0;36mJupyterDash.run_server.<locals>.wait_for_app\u001b[0;34m()\u001b[0m\n\u001b[1;32m    328\u001b[0m \u001b[39mif\u001b[39;00m res \u001b[39m!=\u001b[39m \u001b[39m\"\u001b[39m\u001b[39mAlive\u001b[39m\u001b[39m\"\u001b[39m:\n\u001b[1;32m    329\u001b[0m     url \u001b[39m=\u001b[39m \u001b[39m\"\u001b[39m\u001b[39mhttp://\u001b[39m\u001b[39m{host}\u001b[39;00m\u001b[39m:\u001b[39m\u001b[39m{port}\u001b[39;00m\u001b[39m\"\u001b[39m\u001b[39m.\u001b[39mformat(\n\u001b[1;32m    330\u001b[0m         host\u001b[39m=\u001b[39mhost, port\u001b[39m=\u001b[39mport, token\u001b[39m=\u001b[39mJupyterDash\u001b[39m.\u001b[39m_token\n\u001b[1;32m    331\u001b[0m     )\n\u001b[0;32m--> 332\u001b[0m     \u001b[39mraise\u001b[39;00m \u001b[39mOSError\u001b[39;00m(\n\u001b[1;32m    333\u001b[0m         \u001b[39m\"\u001b[39m\u001b[39mAddress \u001b[39m\u001b[39m'\u001b[39m\u001b[39m{url}\u001b[39;00m\u001b[39m'\u001b[39m\u001b[39m already in use.\u001b[39m\u001b[39m\\n\u001b[39;00m\u001b[39m\"\u001b[39m\n\u001b[1;32m    334\u001b[0m         \u001b[39m\"\u001b[39m\u001b[39m    Try passing a different port to run_server.\u001b[39m\u001b[39m\"\u001b[39m\u001b[39m.\u001b[39mformat(\n\u001b[1;32m    335\u001b[0m             url\u001b[39m=\u001b[39murl\n\u001b[1;32m    336\u001b[0m         )\n\u001b[1;32m    337\u001b[0m     )\n",
      "\u001b[0;31mOSError\u001b[0m: Address 'http://127.0.0.1:8050' already in use.\n    Try passing a different port to run_server."
     ]
    }
   ],
   "source": [
    "import dash\n",
    "from jupyter_dash import JupyterDash\n",
    "from dash import dcc, html\n",
    "from dash.dependencies import Input, Output\n",
    "import plotly.graph_objects as go\n",
    "\n",
    "# Replace 'dash.Dash()' with 'JupyterDash()'\n",
    "app = JupyterDash(__name__)\n",
    "\n",
    "# Define the app layout\n",
    "app.layout = html.Div([\n",
    "    dcc.Dropdown(\n",
    "        id='country-dropdown',\n",
    "        options=[{'label': country, 'value': country} for country in merged_data['geo'].unique()],\n",
    "        value='AT',  # default value\n",
    "        clearable=False\n",
    "    ),\n",
    "    dcc.Graph(id='heatmap')\n",
    "])\n",
    "\n",
    "# Define callback to update heatmap\n",
    "@app.callback(\n",
    "    Output('heatmap', 'figure'),\n",
    "    [Input('country-dropdown', 'value')]\n",
    ")\n",
    "def update_heatmap(country):\n",
    "    country_data = merged_data[merged_data['geo'] == country]\n",
    "    \n",
    "    # Calculate correlation matrix\n",
    "    corr_matrix = country_data[['Traffic', 'Tourism', 'GDP']].corr()\n",
    "    \n",
    "    # Create heatmap\n",
    "    fig = go.Figure(data=go.Heatmap(\n",
    "                   z=corr_matrix.values,\n",
    "                   x=corr_matrix.columns,\n",
    "                   y=corr_matrix.columns,\n",
    "                   hoverongaps = False, colorscale='Viridis'))\n",
    "    \n",
    "    fig.update_layout(title=f'Correlation Heatmap for {country}')\n",
    "    return fig\n",
    "\n",
    "\n",
    "app.run_server(mode='inline')  # for inline view\n"
   ]
  },
  {
   "cell_type": "code",
   "execution_count": null,
   "metadata": {},
   "outputs": [],
   "source": []
  }
 ],
 "metadata": {
  "kernelspec": {
   "display_name": "Python 3",
   "language": "python",
   "name": "python3"
  },
  "language_info": {
   "codemirror_mode": {
    "name": "ipython",
    "version": 3
   },
   "file_extension": ".py",
   "mimetype": "text/x-python",
   "name": "python",
   "nbconvert_exporter": "python",
   "pygments_lexer": "ipython3",
   "version": "3.10.7"
  }
 },
 "nbformat": 4,
 "nbformat_minor": 2
}

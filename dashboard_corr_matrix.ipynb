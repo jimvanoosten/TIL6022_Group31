{
 "cells": [
  {
   "cell_type": "markdown",
   "metadata": {},
   "source": [
    "# Dashboard for heatmap and time series\n",
    "\n",
    "## Group 31\n",
    "\n",
    "### Gijs de Werd, Thijs Roolvink, Georges Puttaert, Jim van Oosten"
   ]
  },
  {
   "cell_type": "code",
   "execution_count": 1,
   "metadata": {},
   "outputs": [],
   "source": [
    "import pandas as pd"
   ]
  },
  {
   "cell_type": "code",
   "execution_count": 2,
   "metadata": {},
   "outputs": [],
   "source": [
    "traffic = pd.read_csv('Datasets/air_passengers_from2000.csv')\n",
    "tourism = pd.read_csv('Datasets/tourism_from2000.csv')\n",
    "gdp = pd.read_csv('Datasets/gdp_from2000.csv')"
   ]
  },
  {
   "cell_type": "code",
   "execution_count": 3,
   "metadata": {},
   "outputs": [],
   "source": [
    "def quarter_to_month(quarter):\n",
    "    year, qtr = quarter.split('-')\n",
    "    if qtr == 'Q1':\n",
    "        return [f'{year}-01', f'{year}-02', f'{year}-03']\n",
    "    elif qtr == 'Q2':\n",
    "        return [f'{year}-04', f'{year}-05', f'{year}-06']\n",
    "    elif qtr == 'Q3':\n",
    "        return [f'{year}-07', f'{year}-08', f'{year}-09']\n",
    "    else: # 'Q4'\n",
    "        return [f'{year}-10', f'{year}-11', f'{year}-12']\n",
    "\n",
    "mask = gdp['TIME_PERIOD'].str.match(r'\\d{4}-Q[1-4]$')\n",
    "gdp.loc[mask, 'TIME_PERIOD'] = gdp.loc[mask, 'TIME_PERIOD'].apply(quarter_to_month)\n",
    "gdp = gdp.explode('TIME_PERIOD')"
   ]
  },
  {
   "cell_type": "code",
   "execution_count": 4,
   "metadata": {},
   "outputs": [],
   "source": [
    "# Make a database \n",
    "traffic = traffic.rename(columns={'OBS_VALUE': 'Traffic'})\n",
    "tourism = tourism.rename(columns={'OBS_VALUE': 'Tourism'})\n",
    "gdp = gdp.rename(columns={'OBS_VALUE': 'GDP'})\n",
    "\n",
    "\n",
    "traffic_filtered = traffic[\n",
    "    (traffic['tra_meas'] == 'PAS_BRD') &\n",
    "    (traffic['TIME_PERIOD'] >= '2010-01') & \n",
    "    (traffic['TIME_PERIOD'] <= '2020-01')                   \n",
    "]\n",
    "\n",
    "tourism_filtered = tourism[\n",
    "    (tourism['unit'] == 'NR') &\n",
    "    (tourism['nace_r2'] == 'I551') &\n",
    "    (tourism['c_resid'] == 'TOTAL') &\n",
    "    (tourism['TIME_PERIOD'] >= '2010-01') &\n",
    "    (tourism['TIME_PERIOD'] <= '2020-01')\n",
    "]\n",
    "\n",
    "gdp_filtered = gdp[\n",
    "    (gdp['unit'] == 'CP_EUR_HAB') &\n",
    "    (gdp['s_adj'] == 'NSA') &\n",
    "    (gdp['na_item'] == 'B1GQ') &\n",
    "    (gdp['TIME_PERIOD'] >= '2010-01') &\n",
    "    (gdp['TIME_PERIOD'] <= '2020-01')\n",
    "]"
   ]
  },
  {
   "cell_type": "code",
   "execution_count": 5,
   "metadata": {},
   "outputs": [],
   "source": [
    "# Merge the dataset into 1 big dataset\n",
    "countries = [\"AT\", \"BE\", \"BG\", \"CY\", \"CZ\", \"DE\", \"DK\", \"EE\", \"EL\", \"ES\", \"FI\", \"FR\", \"HR\", \"HU\", 'UK', \"IT\", \"LT\", \"LU\", \"LV\", \"MT\", \"NL\", \"PL\", \"PT\", \"RO\", \"SE\", \"SI\", \"SK\"]\n",
    "\n",
    "traffic_filtered = traffic_filtered[traffic_filtered['geo'].isin(countries)]\n",
    "tourism_filtered = tourism_filtered[tourism_filtered['geo'].isin(countries)]\n",
    "gdp_filtered = gdp_filtered[gdp_filtered['geo'].isin(countries)]\n",
    "\n",
    "\n",
    "merged_data = pd.merge(traffic_filtered[['TIME_PERIOD', 'geo', 'Traffic']], \n",
    "                       gdp_filtered[['TIME_PERIOD', 'geo', 'GDP']], \n",
    "                       on=['TIME_PERIOD', 'geo'], \n",
    "                       how='outer')\n",
    "\n",
    "merged_data = pd.merge(merged_data,\n",
    "                       tourism_filtered[['TIME_PERIOD', 'geo', 'Tourism']], \n",
    "                       on=['TIME_PERIOD', 'geo'], \n",
    "                       how='outer')"
   ]
  },
  {
   "cell_type": "code",
   "execution_count": 6,
   "metadata": {},
   "outputs": [
    {
     "name": "stdout",
     "output_type": "stream",
     "text": [
      "Dash app running on http://127.0.0.1:8051/\n"
     ]
    },
    {
     "name": "stderr",
     "output_type": "stream",
     "text": [
      "/Library/Frameworks/Python.framework/Versions/3.10/lib/python3.10/site-packages/dash/dash.py:538: UserWarning:\n",
      "\n",
      "JupyterDash is deprecated, use Dash instead.\n",
      "See https://dash.plotly.com/dash-in-jupyter for more details.\n",
      "\n"
     ]
    },
    {
     "data": {
      "text/html": [
       "\n",
       "        <iframe\n",
       "            width=\"100%\"\n",
       "            height=\"650\"\n",
       "            src=\"http://127.0.0.1:8051/\"\n",
       "            frameborder=\"0\"\n",
       "            allowfullscreen\n",
       "            \n",
       "        ></iframe>\n",
       "        "
      ],
      "text/plain": [
       "<IPython.lib.display.IFrame at 0x13ffe7cd0>"
      ]
     },
     "metadata": {},
     "output_type": "display_data"
    }
   ],
   "source": [
    "import dash\n",
    "from jupyter_dash import JupyterDash\n",
    "from dash import dcc, html\n",
    "from dash.dependencies import Input, Output\n",
    "import plotly.graph_objects as go\n",
    "\n",
    "# Replace 'dash.Dash()' with 'JupyterDash()'\n",
    "app = JupyterDash(__name__)\n",
    "\n",
    "# Define some styles\n",
    "styles = {\n",
    "    'container': {\n",
    "        'padding': '20px',\n",
    "        'backgroundColor': '#f4f4f4',\n",
    "        'borderRadius': '5px',\n",
    "        'boxShadow': '2px 2px 2px lightgrey'\n",
    "    },\n",
    "    'dropdown': {\n",
    "        'width': '50%'\n",
    "    }\n",
    "}\n",
    "\n",
    "# Define the app layout\n",
    "app.layout = html.Div([\n",
    "    html.Div([\n",
    "        html.H1('Correlation Matrix Dashboard', \n",
    "                style={'text-align': 'left', 'color': '#333'}),\n",
    "        html.H2('This is the dashboad from Group 31: Gijs de Werd, Thijs Roolvink, Georges Puttaert, Jim van Oosten', \n",
    "                style={'text-align': 'left', 'color': '#333'}),\n",
    "        html.H3('Select country:', \n",
    "                style={'text-align': 'left', 'color': '#333'}),\n",
    "        dcc.Dropdown(\n",
    "            id='country-dropdown',\n",
    "            options=[{'label': country, 'value': country} for country in merged_data['geo'].unique()],\n",
    "            value='AT',  # default value\n",
    "            clearable=False,\n",
    "            style=styles['dropdown']\n",
    "        ),\n",
    "    ], style=styles['container']),\n",
    "    \n",
    "    dcc.Graph(id='heatmap', style={'height': '70vh'}),\n",
    "    \n",
    "], style={'padding': '50px', 'backgroundColor': '#f9f9f9'})\n",
    "\n",
    "# Add a new Graph for the time series plot\n",
    "app.layout.children.append(dcc.Graph(id='time-series-plot', style={'height': '70vh'}))\n",
    "\n",
    "@app.callback(\n",
    "    [Output('heatmap', 'figure'),\n",
    "     Output('time-series-plot', 'figure')],   # Update both figures\n",
    "    [Input('country-dropdown', 'value')]\n",
    ")\n",
    "def update_output(country):\n",
    "    country_data = merged_data[merged_data['geo'] == country]\n",
    "    \n",
    "    # Calculate correlation matrix\n",
    "    corr_matrix = country_data[['Traffic', 'Tourism', 'GDP']].corr()\n",
    "    \n",
    "    # Create heatmap\n",
    "    heatmap = go.Figure(data=go.Heatmap(\n",
    "                   z=corr_matrix.values,\n",
    "                   x=corr_matrix.columns,\n",
    "                   y=corr_matrix.columns,\n",
    "                   hoverongaps = False, colorscale='Viridis'))\n",
    "    heatmap.update_layout(title=f'Correlation Heatmap for {country}')\n",
    "\n",
    "    # Time Series Plot\n",
    "    ts_plot = go.Figure()\n",
    "\n",
    "    # Traffic, Tourism for selected country\n",
    "    for metric, color in zip(['Traffic', 'Tourism'], ['blue', 'green']):\n",
    "        ts_plot.add_trace(go.Scatter(\n",
    "            x=country_data['TIME_PERIOD'],\n",
    "            y=country_data[metric],\n",
    "            mode='lines',\n",
    "            name=f\"{metric} {country}\",\n",
    "            line=dict(color=color)\n",
    "        ))\n",
    "\n",
    "    # GDP for selected country on a separate y-axis\n",
    "    ts_plot.add_trace(go.Scatter(\n",
    "        x=country_data['TIME_PERIOD'],\n",
    "        y=country_data['GDP'],\n",
    "        mode='lines',\n",
    "        name=f\"GDP {country}\",\n",
    "        line=dict(color='red'),\n",
    "        yaxis='y2'  # This specifies that the GDP data should be plotted on a secondary y-axis\n",
    "    ))\n",
    "\n",
    "    ts_plot.update_layout(\n",
    "        title=f'Traffic, Tourism, and GDP for {country} (2010-2022)',\n",
    "        xaxis=dict(title='Year'),\n",
    "        yaxis=dict(title='Traffic/Tourism Value'),\n",
    "        yaxis2=dict(\n",
    "            title='GDP Value',\n",
    "            overlaying='y',\n",
    "            side='right'\n",
    "        )\n",
    "    )\n",
    "\n",
    "    return heatmap, ts_plot   # Return both figures\n",
    "\n",
    "app.run_server(mode='external', port=8051) \n"
   ]
  },
  {
   "cell_type": "code",
   "execution_count": null,
   "metadata": {},
   "outputs": [],
   "source": []
  }
 ],
 "metadata": {
  "kernelspec": {
   "display_name": "Python 3",
   "language": "python",
   "name": "python3"
  },
  "language_info": {
   "codemirror_mode": {
    "name": "ipython",
    "version": 3
   },
   "file_extension": ".py",
   "mimetype": "text/x-python",
   "name": "python",
   "nbconvert_exporter": "python",
   "pygments_lexer": "ipython3",
   "version": "3.10.7"
  }
 },
 "nbformat": 4,
 "nbformat_minor": 2
}
